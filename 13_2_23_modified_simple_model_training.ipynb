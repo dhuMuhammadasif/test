{
  "nbformat": 4,
  "nbformat_minor": 0,
  "metadata": {
    "colab": {
      "provenance": [],
      "authorship_tag": "ABX9TyMaC8H4B2mn6T8SpcmcBSGw",
      "include_colab_link": true
    },
    "kernelspec": {
      "name": "python3",
      "display_name": "Python 3"
    },
    "language_info": {
      "name": "python"
    }
  },
  "cells": [
    {
      "cell_type": "markdown",
      "metadata": {
        "id": "view-in-github",
        "colab_type": "text"
      },
      "source": [
        "<a href=\"https://colab.research.google.com/github/dhuMuhammadasif/test/blob/master/13_2_23_modified_simple_model_training.ipynb\" target=\"_parent\"><img src=\"https://colab.research.google.com/assets/colab-badge.svg\" alt=\"Open In Colab\"/></a>"
      ]
    },
    {
      "cell_type": "code",
      "execution_count": 1,
      "metadata": {
        "id": "AvXguznHtKFm"
      },
      "outputs": [],
      "source": [
        "import pandas as pd\n",
        "import numpy as np\n",
        "import matplotlib.pyplot as plt\n",
        "from scipy import signal\n",
        "from sklearn.model_selection import train_test_split"
      ]
    },
    {
      "cell_type": "code",
      "source": [
        "df_1 =pd.read_excel('/content/20khz.xlsx')\n",
        "train_x = np.array(df_1['x'], dtype=np.float64)\n",
        "train_y = np.array(df_1['y'], dtype=np.float64)\n",
        "\n",
        "# train_x = np.array(df['x'], dtype=np.float64)\n",
        "# train_y = np.array(df['y'], dtype=np.float64)\n",
        "print(train_x.shape, train_y.shape)"
      ],
      "metadata": {
        "colab": {
          "base_uri": "https://localhost:8080/"
        },
        "id": "LXAwpdwctOAz",
        "outputId": "a8e27511-63ac-4ab1-814b-be65a328c557"
      },
      "execution_count": 9,
      "outputs": [
        {
          "output_type": "stream",
          "name": "stdout",
          "text": [
            "(2001,) (2001,)\n"
          ]
        }
      ]
    },
    {
      "cell_type": "code",
      "source": [
        "df_1.head()"
      ],
      "metadata": {
        "colab": {
          "base_uri": "https://localhost:8080/",
          "height": 206
        },
        "id": "2XgIlP6fD62i",
        "outputId": "41ed6492-6de9-4982-e523-8e50829b9ed3"
      },
      "execution_count": 7,
      "outputs": [
        {
          "output_type": "execute_result",
          "data": {
            "text/plain": [
              "         x        y\n",
              "0  0.00000 -0.00069\n",
              "1  0.00024 -0.00107\n",
              "2  0.00095 -0.00092\n",
              "3  0.00213 -0.00031\n",
              "4  0.00379 -0.00259"
            ],
            "text/html": [
              "\n",
              "  <div id=\"df-da4f22d4-67a7-4bda-81a4-3c3fef50a79a\">\n",
              "    <div class=\"colab-df-container\">\n",
              "      <div>\n",
              "<style scoped>\n",
              "    .dataframe tbody tr th:only-of-type {\n",
              "        vertical-align: middle;\n",
              "    }\n",
              "\n",
              "    .dataframe tbody tr th {\n",
              "        vertical-align: top;\n",
              "    }\n",
              "\n",
              "    .dataframe thead th {\n",
              "        text-align: right;\n",
              "    }\n",
              "</style>\n",
              "<table border=\"1\" class=\"dataframe\">\n",
              "  <thead>\n",
              "    <tr style=\"text-align: right;\">\n",
              "      <th></th>\n",
              "      <th>x</th>\n",
              "      <th>y</th>\n",
              "    </tr>\n",
              "  </thead>\n",
              "  <tbody>\n",
              "    <tr>\n",
              "      <th>0</th>\n",
              "      <td>0.00000</td>\n",
              "      <td>-0.00069</td>\n",
              "    </tr>\n",
              "    <tr>\n",
              "      <th>1</th>\n",
              "      <td>0.00024</td>\n",
              "      <td>-0.00107</td>\n",
              "    </tr>\n",
              "    <tr>\n",
              "      <th>2</th>\n",
              "      <td>0.00095</td>\n",
              "      <td>-0.00092</td>\n",
              "    </tr>\n",
              "    <tr>\n",
              "      <th>3</th>\n",
              "      <td>0.00213</td>\n",
              "      <td>-0.00031</td>\n",
              "    </tr>\n",
              "    <tr>\n",
              "      <th>4</th>\n",
              "      <td>0.00379</td>\n",
              "      <td>-0.00259</td>\n",
              "    </tr>\n",
              "  </tbody>\n",
              "</table>\n",
              "</div>\n",
              "      <button class=\"colab-df-convert\" onclick=\"convertToInteractive('df-da4f22d4-67a7-4bda-81a4-3c3fef50a79a')\"\n",
              "              title=\"Convert this dataframe to an interactive table.\"\n",
              "              style=\"display:none;\">\n",
              "        \n",
              "  <svg xmlns=\"http://www.w3.org/2000/svg\" height=\"24px\"viewBox=\"0 0 24 24\"\n",
              "       width=\"24px\">\n",
              "    <path d=\"M0 0h24v24H0V0z\" fill=\"none\"/>\n",
              "    <path d=\"M18.56 5.44l.94 2.06.94-2.06 2.06-.94-2.06-.94-.94-2.06-.94 2.06-2.06.94zm-11 1L8.5 8.5l.94-2.06 2.06-.94-2.06-.94L8.5 2.5l-.94 2.06-2.06.94zm10 10l.94 2.06.94-2.06 2.06-.94-2.06-.94-.94-2.06-.94 2.06-2.06.94z\"/><path d=\"M17.41 7.96l-1.37-1.37c-.4-.4-.92-.59-1.43-.59-.52 0-1.04.2-1.43.59L10.3 9.45l-7.72 7.72c-.78.78-.78 2.05 0 2.83L4 21.41c.39.39.9.59 1.41.59.51 0 1.02-.2 1.41-.59l7.78-7.78 2.81-2.81c.8-.78.8-2.07 0-2.86zM5.41 20L4 18.59l7.72-7.72 1.47 1.35L5.41 20z\"/>\n",
              "  </svg>\n",
              "      </button>\n",
              "      \n",
              "  <style>\n",
              "    .colab-df-container {\n",
              "      display:flex;\n",
              "      flex-wrap:wrap;\n",
              "      gap: 12px;\n",
              "    }\n",
              "\n",
              "    .colab-df-convert {\n",
              "      background-color: #E8F0FE;\n",
              "      border: none;\n",
              "      border-radius: 50%;\n",
              "      cursor: pointer;\n",
              "      display: none;\n",
              "      fill: #1967D2;\n",
              "      height: 32px;\n",
              "      padding: 0 0 0 0;\n",
              "      width: 32px;\n",
              "    }\n",
              "\n",
              "    .colab-df-convert:hover {\n",
              "      background-color: #E2EBFA;\n",
              "      box-shadow: 0px 1px 2px rgba(60, 64, 67, 0.3), 0px 1px 3px 1px rgba(60, 64, 67, 0.15);\n",
              "      fill: #174EA6;\n",
              "    }\n",
              "\n",
              "    [theme=dark] .colab-df-convert {\n",
              "      background-color: #3B4455;\n",
              "      fill: #D2E3FC;\n",
              "    }\n",
              "\n",
              "    [theme=dark] .colab-df-convert:hover {\n",
              "      background-color: #434B5C;\n",
              "      box-shadow: 0px 1px 3px 1px rgba(0, 0, 0, 0.15);\n",
              "      filter: drop-shadow(0px 1px 2px rgba(0, 0, 0, 0.3));\n",
              "      fill: #FFFFFF;\n",
              "    }\n",
              "  </style>\n",
              "\n",
              "      <script>\n",
              "        const buttonEl =\n",
              "          document.querySelector('#df-da4f22d4-67a7-4bda-81a4-3c3fef50a79a button.colab-df-convert');\n",
              "        buttonEl.style.display =\n",
              "          google.colab.kernel.accessAllowed ? 'block' : 'none';\n",
              "\n",
              "        async function convertToInteractive(key) {\n",
              "          const element = document.querySelector('#df-da4f22d4-67a7-4bda-81a4-3c3fef50a79a');\n",
              "          const dataTable =\n",
              "            await google.colab.kernel.invokeFunction('convertToInteractive',\n",
              "                                                     [key], {});\n",
              "          if (!dataTable) return;\n",
              "\n",
              "          const docLinkHtml = 'Like what you see? Visit the ' +\n",
              "            '<a target=\"_blank\" href=https://colab.research.google.com/notebooks/data_table.ipynb>data table notebook</a>'\n",
              "            + ' to learn more about interactive tables.';\n",
              "          element.innerHTML = '';\n",
              "          dataTable['output_type'] = 'display_data';\n",
              "          await google.colab.output.renderOutput(dataTable, element);\n",
              "          const docLink = document.createElement('div');\n",
              "          docLink.innerHTML = docLinkHtml;\n",
              "          element.appendChild(docLink);\n",
              "        }\n",
              "      </script>\n",
              "    </div>\n",
              "  </div>\n",
              "  "
            ]
          },
          "metadata": {},
          "execution_count": 7
        }
      ]
    },
    {
      "cell_type": "code",
      "source": [
        "df_1 = df_1[df_1 != 0]"
      ],
      "metadata": {
        "id": "qMbT2geAEO84"
      },
      "execution_count": 45,
      "outputs": []
    },
    {
      "cell_type": "code",
      "source": [
        "df_1 =df_1 .dropna()"
      ],
      "metadata": {
        "id": "nOBNvTQ-Epue"
      },
      "execution_count": 47,
      "outputs": []
    },
    {
      "cell_type": "code",
      "source": [
        "len(df_1['x'])"
      ],
      "metadata": {
        "colab": {
          "base_uri": "https://localhost:8080/"
        },
        "id": "nVfjESgmXFHX",
        "outputId": "0b6658db-240b-48e8-c631-aa2c95478e99"
      },
      "execution_count": 49,
      "outputs": [
        {
          "output_type": "execute_result",
          "data": {
            "text/plain": [
              "1996"
            ]
          },
          "metadata": {},
          "execution_count": 49
        }
      ]
    },
    {
      "cell_type": "code",
      "source": [
        "len(df_1['y'])"
      ],
      "metadata": {
        "colab": {
          "base_uri": "https://localhost:8080/"
        },
        "id": "6gDpbVcuXZM5",
        "outputId": "86083e38-f3ee-45c7-d151-4b92c514db60"
      },
      "execution_count": 50,
      "outputs": [
        {
          "output_type": "execute_result",
          "data": {
            "text/plain": [
              "1996"
            ]
          },
          "metadata": {},
          "execution_count": 50
        }
      ]
    },
    {
      "cell_type": "code",
      "source": [
        "n_train = 1500\n",
        "train_x = train_x[:n_train]\n",
        "train_y = train_y[:n_train]\n"
      ],
      "metadata": {
        "id": "fK60MoMdvuO8"
      },
      "execution_count": 55,
      "outputs": []
    },
    {
      "cell_type": "code",
      "source": [
        "print(train_x.shape, train_y.shape)"
      ],
      "metadata": {
        "colab": {
          "base_uri": "https://localhost:8080/"
        },
        "id": "EC0vFmp-wPf6",
        "outputId": "c71deeef-44b4-4aab-8cea-0d3dbe8a0d69"
      },
      "execution_count": 56,
      "outputs": [
        {
          "output_type": "stream",
          "name": "stdout",
          "text": [
            "(1000,) (1000,)\n"
          ]
        }
      ]
    },
    {
      "cell_type": "code",
      "source": [
        "plt.plot(train_x)\n",
        "plt.show()"
      ],
      "metadata": {
        "colab": {
          "base_uri": "https://localhost:8080/",
          "height": 265
        },
        "id": "1AVBRhnbuL7L",
        "outputId": "823c359f-70cd-4541-eaf0-c874d57e7aef"
      },
      "execution_count": 57,
      "outputs": [
        {
          "output_type": "display_data",
          "data": {
            "text/plain": [
              "<Figure size 432x288 with 1 Axes>"
            ],
            "image/png": "[encoded data removed]"
          },
          "metadata": {
            "needs_background": "light"
          }
        }
      ]
    },
    {
      "cell_type": "code",
      "source": [
        "plt.plot(train_y)\n",
        "plt.show()"
      ],
      "metadata": {
        "colab": {
          "base_uri": "https://localhost:8080/",
          "height": 265
        },
        "id": "Eekr_sQLuL3J",
        "outputId": "7af55a70-68bd-416e-c0d9-f00dedcf52cd"
      },
      "execution_count": 58,
      "outputs": [
        {
          "output_type": "display_data",
          "data": {
            "text/plain": [
              "<Figure size 432x288 with 1 Axes>"
            ],
            "image/png": "[encoded data removed]"
          },
          "metadata": {
            "needs_background": "light"
          }
        }
      ]
    },
    {
      "cell_type": "code",
      "source": [
        "plt.plot(train_x, train_y)\n",
        "plt.show()"
      ],
      "metadata": {
        "colab": {
          "base_uri": "https://localhost:8080/",
          "height": 265
        },
        "id": "4twYv1DuuL0H",
        "outputId": "6dd29fea-060c-4d02-c99d-d96fcaddad30"
      },
      "execution_count": 59,
      "outputs": [
        {
          "output_type": "display_data",
          "data": {
            "text/plain": [
              "<Figure size 432x288 with 1 Axes>"
            ],
            "image/png": "[encoded data removed]"
          },
          "metadata": {
            "needs_background": "light"
          }
        }
      ]
    },
    {
      "cell_type": "code",
      "source": [
        "def ewma_vectorized(data, window):\n",
        "    alpha = 3 /(window + 3)\n",
        "    alpha_rev = 1 - alpha\n",
        "\n",
        "    scale = 1/alpha_rev\n",
        "    n = data.shape[0]\n",
        "\n",
        "    r = np.arange(n)\n",
        "    scale_arr = scale**r\n",
        "    offset = data[0]*alpha_rev**(r+2)\n",
        "    pw0 = alpha*alpha_rev**(n-1)\n",
        "\n",
        "    mult = data*pw0*scale_arr\n",
        "    cumsums = mult.cumsum()\n",
        "    out = offset + cumsums*scale_arr[::-1]\n",
        "    return out\n",
        "    "
      ],
      "metadata": {
        "id": "MPrxT9yQuLxx"
      },
      "execution_count": 60,
      "outputs": []
    },
    {
      "cell_type": "code",
      "source": [
        "train_y = ewma_vectorized(train_y, 18)\n",
        "plt.plot(train_x, train_y)\n",
        "plt.show()"
      ],
      "metadata": {
        "colab": {
          "base_uri": "https://localhost:8080/",
          "height": 265
        },
        "id": "86-4rhGmuLvt",
        "outputId": "152e4f1e-c9df-4ee3-c0dd-a8dc29715324"
      },
      "execution_count": 61,
      "outputs": [
        {
          "output_type": "display_data",
          "data": {
            "text/plain": [
              "<Figure size 432x288 with 1 Axes>"
            ],
            "image/png": "[encoded data removed]"
          },
          "metadata": {
            "needs_background": "light"
          }
        }
      ]
    },
    {
      "cell_type": "code",
      "source": [
        "import numpy as np"
      ],
      "metadata": {
        "id": "4XzEnF0W7UhP"
      },
      "execution_count": null,
      "outputs": []
    },
    {
      "cell_type": "code",
      "source": [
        "train_x.dtype"
      ],
      "metadata": {
        "colab": {
          "base_uri": "https://localhost:8080/"
        },
        "id": "TwzYIGF_7ju8",
        "outputId": "67f2ecaf-af78-43c9-e272-c8f901694a21"
      },
      "execution_count": null,
      "outputs": [
        {
          "output_type": "execute_result",
          "data": {
            "text/plain": [
              "dtype('float64')"
            ]
          },
          "metadata": {},
          "execution_count": 193
        }
      ]
    },
    {
      "cell_type": "code",
      "source": [
        "train_y.dtype"
      ],
      "metadata": {
        "colab": {
          "base_uri": "https://localhost:8080/"
        },
        "id": "XNVLky4X74CR",
        "outputId": "5cc90cee-6bb4-47cd-8e75-aaffdf98d310"
      },
      "execution_count": null,
      "outputs": [
        {
          "output_type": "execute_result",
          "data": {
            "text/plain": [
              "dtype('float64')"
            ]
          },
          "metadata": {},
          "execution_count": 194
        }
      ]
    },
    {
      "cell_type": "code",
      "source": [
        "# train_x=train_x.flatten()\n",
        "# train_y=train_y.flatten()\n"
      ],
      "metadata": {
        "id": "stnkBVWX6-kH"
      },
      "execution_count": null,
      "outputs": []
    },
    {
      "cell_type": "code",
      "source": [
        "# train_x=train_x.reshape(-1,1)\n",
        "#train_y=train_y.reshape(-1,1)"
      ],
      "metadata": {
        "id": "_KMICWN8F50Z"
      },
      "execution_count": null,
      "outputs": []
    },
    {
      "cell_type": "code",
      "source": [
        "# train_y.dtype"
      ],
      "metadata": {
        "id": "hM2FPVzyuRfb"
      },
      "execution_count": null,
      "outputs": []
    },
    {
      "cell_type": "code",
      "source": [
        "# train_x.dtype"
      ],
      "metadata": {
        "id": "fiqjTBt4uUNl"
      },
      "execution_count": null,
      "outputs": []
    },
    {
      "cell_type": "code",
      "source": [
        "# minimas = signal.argrelmin(train_x)[0]\n",
        "# maximas = signal.argrelmax(train_x)[0]\n",
        "minimas = signal.argrelmin(train_x)[0]\n",
        "maximas = signal.argrelmax(train_x)[0]\n",
        "\n",
        "minimas_values = train_x[minimas]\n",
        "maximas_values = train_x[maximas]\n",
        "\n",
        "minimas_values, maximas_values"
      ],
      "metadata": {
        "colab": {
          "base_uri": "https://localhost:8080/"
        },
        "id": "tdmyhMzfuLtX",
        "outputId": "c23bdbd4-d9d0-48da-cb74-69a2f7019d4e"
      },
      "execution_count": 62,
      "outputs": [
        {
          "output_type": "execute_result",
          "data": {
            "text/plain": [
              "(array([0.]), array([6., 6.]))"
            ]
          },
          "metadata": {},
          "execution_count": 62
        }
      ]
    },
    {
      "cell_type": "code",
      "source": [
        "plt.plot(train_x)\n",
        "plt.plot(minimas, minimas_values, 'o')\n",
        "plt.plot(maximas, maximas_values, 'o')\n",
        "plt.show()"
      ],
      "metadata": {
        "colab": {
          "base_uri": "https://localhost:8080/",
          "height": 265
        },
        "id": "4QJdwNIDGkM1",
        "outputId": "3c4f606e-b137-4efa-e277-c432388844f1"
      },
      "execution_count": 63,
      "outputs": [
        {
          "output_type": "display_data",
          "data": {
            "text/plain": [
              "<Figure size 432x288 with 1 Axes>"
            ],
            "image/png": "[encoded data removed]"
          },
          "metadata": {
            "needs_background": "light"
          }
        }
      ]
    },
    {
      "cell_type": "code",
      "source": [
        "x_diff = np.diff(train_x)\n",
        "x_diff = np.append(x_diff, x_diff[-1])\n",
        "plt.plot(x_diff)\n",
        "plt.show()"
      ],
      "metadata": {
        "colab": {
          "base_uri": "https://localhost:8080/",
          "height": 265
        },
        "id": "YaPcDNKfuLk5",
        "outputId": "7af96f9c-3508-482a-f5d3-658f9e5fb614"
      },
      "execution_count": 64,
      "outputs": [
        {
          "output_type": "display_data",
          "data": {
            "text/plain": [
              "<Figure size 432x288 with 1 Axes>"
            ],
            "image/png": "[encoded data removed]"
          },
          "metadata": {
            "needs_background": "light"
          }
        }
      ]
    },
    {
      "cell_type": "code",
      "source": [
        "train_x_inc = train_x[x_diff >= 0]\n",
        "train_y_inc = train_y[x_diff >= 0]\n",
        "plt.subplot(2, 1, 1)\n",
        "plt.scatter(train_x_inc, train_y_inc)\n",
        "plt.show()\n",
        "                                                    # from where i want to combine inc and dec condition\n",
        "train_x_dec = train_x[x_diff < 0]\n",
        "train_y_dec = train_y[x_diff < 0]\n",
        "plt.subplot(2, 1, 2)\n",
        "plt.scatter(train_x_dec, train_y_dec)\n",
        "plt.show()"
      ],
      "metadata": {
        "colab": {
          "base_uri": "https://localhost:8080/",
          "height": 277
        },
        "id": "JjbSEtICuLcD",
        "outputId": "9f3eb2f7-a83e-499d-acba-11c6d949ed6e"
      },
      "execution_count": 65,
      "outputs": [
        {
          "output_type": "display_data",
          "data": {
            "text/plain": [
              "<Figure size 432x288 with 1 Axes>"
            ],
            "image/png": "[encoded data removed]"
          },
          "metadata": {
            "needs_background": "light"
          }
        },
        {
          "output_type": "display_data",
          "data": {
            "text/plain": [
              "<Figure size 432x288 with 1 Axes>"
            ],
            "image/png": "[encoded data removed]"
          },
          "metadata": {
            "needs_background": "light"
          }
        }
      ]
    },
    {
      "cell_type": "code",
      "source": [
        "len(train_x_dec)\n"
      ],
      "metadata": {
        "colab": {
          "base_uri": "https://localhost:8080/"
        },
        "id": "UbDhOUiEWC7e",
        "outputId": "66bb68e9-a330-4675-e228-f6d11e6690b0"
      },
      "execution_count": 66,
      "outputs": [
        {
          "output_type": "execute_result",
          "data": {
            "text/plain": [
              "500"
            ]
          },
          "metadata": {},
          "execution_count": 66
        }
      ]
    },
    {
      "cell_type": "code",
      "source": [],
      "metadata": {
        "id": "wWNmlvk3X1_L"
      },
      "execution_count": null,
      "outputs": []
    },
    {
      "cell_type": "code",
      "source": [
        "def f_inc(x, xp, f_xp, a, b, c, d):\n",
        "    return (a - b*np.exp(-d*(xp - x)))*(x - xp) + c*f_xp\n",
        "                                                            \n",
        "                                                          # from where i want to combine inc and dec condition \n",
        "                                                          \n",
        "def f_dec(x, xp_dec , f_xp_dec, a, b, c, d):\n",
        "    return (a - b*np.exp(d*(xp_dec  - x)))*(x - xp_dec ) + c*f_xp_dec\n"
      ],
      "metadata": {
        "id": "GUTGhZOpveX2"
      },
      "execution_count": 27,
      "outputs": []
    },
    {
      "cell_type": "code",
      "source": [
        "print(minimas[0])"
      ],
      "metadata": {
        "colab": {
          "base_uri": "https://localhost:8080/"
        },
        "id": "1sF90KfTUD4B",
        "outputId": "4fa1dcd7-20ad-4ed9-b67f-af1309f2c39f"
      },
      "execution_count": 21,
      "outputs": [
        {
          "output_type": "stream",
          "name": "stdout",
          "text": [
            "500\n"
          ]
        }
      ]
    },
    {
      "cell_type": "code",
      "source": [
        "print(minimas[1:])"
      ],
      "metadata": {
        "colab": {
          "base_uri": "https://localhost:8080/"
        },
        "id": "Em5qz_-3UHBz",
        "outputId": "512d3f74-7924-4f68-916a-ef2c078900eb"
      },
      "execution_count": 22,
      "outputs": [
        {
          "output_type": "stream",
          "name": "stdout",
          "text": [
            "[1000 1500]\n"
          ]
        }
      ]
    },
    {
      "cell_type": "code",
      "source": [
        "def predict(x, maximas, a, b, c, d):\n",
        "    xp = maximas[0]\n",
        "    maximas = maximas[1:]\n",
        "    f_xp = 1 - np.exp(-xp)\n",
        "    f_x = np.zeros(x.shape)\n",
        "    for i in range(x.shape[0]):\n",
        "        f_x[i] = f_inc(x[i], xp, f_xp, a, b, c, d)\n",
        "        if x[i] == xp:\n",
        "            xp = maximas[0]\n",
        "            maximas = maximas[1:]\n",
        "            f_xp = 1 - np.exp(-xp)\n",
        "    return f_x\n",
        "                                            # from where i want to combine inc and dec condition \n",
        "def predict_dec(x, minimas, a, b, c, d):\n",
        "    xp_dec = minimas[0]\n",
        "    minimas = minimas[1:]\n",
        "    f_xp_dec = 1 - np.exp(xp_dec)\n",
        "    f_x_dec = np.zeros(x.shape)\n",
        "    for i in range(x.shape[0]):\n",
        "        f_x_dec[i] = f_dec(x[i], xp_dec, f_xp_dec, a, b, c, d)\n",
        "        if x[i] == xp_dec:\n",
        "            xp_dec = minimas[0]\n",
        "            minimas = minimas[1:]\n",
        "            f_x_dec = 1 - np.exp(xp_dec)\n",
        "    return f_x_dec"
      ],
      "metadata": {
        "id": "pNwvv5BAveT-"
      },
      "execution_count": 67,
      "outputs": []
    },
    {
      "cell_type": "code",
      "source": [
        "def cost_f_inc(x, y, maximas,  a, b, c, d):\n",
        "    y_pred_inc = predict(x, maximas, a, b, c, d)\n",
        "    return np.sum((y - y_pred_inc)**2)\n",
        "                                              # combining cost # from where i want to combine inc and dec condition \n",
        "def cost_f_dec(x, y, minimas,  a, b, c, d):\n",
        "    y_pred_d = predict_dec(x, minimas, a, b, c, d)\n",
        "    return np.sum((y - y_pred_d)**2)                                             "
      ],
      "metadata": {
        "id": "kiJpEx1yveRT"
      },
      "execution_count": 68,
      "outputs": []
    },
    {
      "cell_type": "code",
      "source": [
        "a_inc = 0.001\n",
        "b_inc = 0.001\n",
        "c_inc = 0.002\n",
        "d_inc = 0.001\n",
        "#same as above so replaced the name in inc and dec down cell code\n",
        "a_dec = 0.002\n",
        "b_dec = 0.001\n",
        "c_dec = 0.008\n",
        "d_dec = 0.001"
      ],
      "metadata": {
        "id": "BmoOkLfpvePV"
      },
      "execution_count": 69,
      "outputs": []
    },
    {
      "cell_type": "code",
      "source": [
        "predict_y = predict(train_x_inc, maximas_values, a_inc, b_inc, c_inc, d_inc)"
      ],
      "metadata": {
        "id": "cBy0wESFW1FQ"
      },
      "execution_count": 70,
      "outputs": []
    },
    {
      "cell_type": "code",
      "source": [
        "len(predict_y)"
      ],
      "metadata": {
        "colab": {
          "base_uri": "https://localhost:8080/"
        },
        "id": "6WCxM1SfW2Rw",
        "outputId": "44641e80-3061-49ae-ec8b-dcc539fc7ada"
      },
      "execution_count": 71,
      "outputs": [
        {
          "output_type": "execute_result",
          "data": {
            "text/plain": [
              "500"
            ]
          },
          "metadata": {},
          "execution_count": 71
        }
      ]
    },
    {
      "cell_type": "code",
      "source": [
        "predict_y = predict(train_x_inc, maximas_values, a_inc, b_inc, c_inc, d_inc)\n",
        "predict_y = ewma_vectorized(predict_y, 11)\n",
        "plt.subplot(2, 1, 1)\n",
        "plt.scatter(train_x_inc, train_y_inc)\n",
        "plt.scatter(train_x_inc, predict_y, c='b')\n",
        "plt.show()    \n",
        "                                                  #Combine \n",
        "y_pred_dec = predict(train_x_dec, minimas_values, a_dec, b_dec, c_dec, d_dec)\n",
        "y_pred_dec = ewma_vectorized(y_pred_dec, 11)\n",
        "plt.subplot(2, 1, 2)\n",
        "plt.scatter(train_x_dec, train_y_dec)\n",
        "plt.scatter(train_x_dec, y_pred_dec, c='r')\n",
        "plt.show()"
      ],
      "metadata": {
        "colab": {
          "base_uri": "https://localhost:8080/",
          "height": 277
        },
        "id": "qHftlMNhveLs",
        "outputId": "6feab458-b54d-45ce-adc0-36592d1566f1"
      },
      "execution_count": 74,
      "outputs": [
        {
          "output_type": "display_data",
          "data": {
            "text/plain": [
              "<Figure size 432x288 with 1 Axes>"
            ],
            "image/png": "[encoded data removed]"
          },
          "metadata": {
            "needs_background": "light"
          }
        },
        {
          "output_type": "display_data",
          "data": {
            "text/plain": [
              "<Figure size 432x288 with 1 Axes>"
            ],
            "image/png": "[encoded data removed]"
          },
          "metadata": {
            "needs_background": "light"
          }
        }
      ]
    },
    {
      "cell_type": "code",
      "source": [
        "#here i am trying to plot two graphs togather in same plot\n",
        "plt.scatter(train_x_dec, y_pred_dec)\n",
        "plt.show()"
      ],
      "metadata": {
        "colab": {
          "base_uri": "https://localhost:8080/",
          "height": 265
        },
        "id": "RYc_YmRXZtLU",
        "outputId": "ac609f70-0784-498c-e676-69b4e0a9a16a"
      },
      "execution_count": 81,
      "outputs": [
        {
          "output_type": "display_data",
          "data": {
            "text/plain": [
              "<Figure size 432x288 with 1 Axes>"
            ],
            "image/png": "[encoded data removed]"
          },
          "metadata": {
            "needs_background": "light"
          }
        }
      ]
    },
    {
      "cell_type": "code",
      "source": [
        "# plt.scatter(train_x_inc, train_y_inc)\n",
        "# plt.scatter(train_x_inc, predict_y, c='r')\n",
        "# plt.show()"
      ],
      "metadata": {
        "id": "lu8sjBgAveHz",
        "colab": {
          "base_uri": "https://localhost:8080/",
          "height": 265
        },
        "outputId": "9fa1e745-1ebb-45e6-f04b-07fe09a84e24"
      },
      "execution_count": 259,
      "outputs": [
        {
          "output_type": "display_data",
          "data": {
            "text/plain": [
              "<Figure size 432x288 with 1 Axes>"
            ],
            "image/png": "[encoded data removed]"
          },
          "metadata": {
            "needs_background": "light"
          }
        }
      ]
    },
    {
      "cell_type": "code",
      "source": [
        "cost_1 = cost_f_inc(train_x_inc, train_y_inc, maximas_values, a_inc, b_inc, c_inc, d_inc)\n",
        "cost_1\n",
        "cost_2 = cost_f_dec(train_x_dec, train_y_dec, minimas_values, a_inc, b_inc, c_inc, d_inc)\n",
        "cost_2\n",
        "print(cost_1)\n",
        "print(cost_2)"
      ],
      "metadata": {
        "id": "4T6GCQ21veEa",
        "colab": {
          "base_uri": "https://localhost:8080/"
        },
        "outputId": "644dfe7e-5acb-43c3-894f-b38fb4073c93"
      },
      "execution_count": 75,
      "outputs": [
        {
          "output_type": "stream",
          "name": "stdout",
          "text": [
            "3.7113616575244937\n",
            "6.272977917325409\n"
          ]
        }
      ]
    },
    {
      "cell_type": "code",
      "source": [
        "def grad_a(x, y, maximas, a, b, c, d):\n",
        "    y_pred = predict(x, maximas, a, b, c, d)\n",
        "    cost_deriv = 2*(y - y_pred)\n",
        "    a_deriv = np.zeros(x.shape)\n",
        "    xp = maximas[0]\n",
        "    maximas = maximas[1:]\n",
        "    for i in range(x.shape[0]):\n",
        "        a_deriv[i] = x[i] - xp\n",
        "        if x[i] == xp:\n",
        "            xp = maximas[0]\n",
        "            maximas = maximas[1:]\n",
        "    return np.sum(cost_deriv*a_deriv)\n",
        "\n",
        "\n",
        "def grad_b(x, y, maximas, a, b, c, d):\n",
        "    y_pred = predict(x, maximas, a, b, c, d)\n",
        "    c_deriv = 2*(y - y_pred)\n",
        "    b_deriv = np.zeros(x.shape)\n",
        "    xp = maximas[0]\n",
        "    maximas = maximas[1:]\n",
        "    for i in range(x.shape[0]):\n",
        "        b_deriv[i] = -np.exp(-d*(xp - x[i]))*(x[i] - xp)\n",
        "        if x[i] == xp:\n",
        "            xp = maximas[0]\n",
        "            maximas = maximas[1:]\n",
        "    return np.sum(c_deriv*b_deriv)\n",
        "\n",
        "\n",
        "def grad_c(x, y, maximas, a, b, c, d):\n",
        "    y_pred = predict(x, maximas, a, b, c, d)\n",
        "    cost_deriv = 2*(y - y_pred)\n",
        "    c_deriv = np.zeros(x.shape)\n",
        "    xp = maximas[0]\n",
        "    maximas = maximas[1:]\n",
        "    f_xp = 1 - np.exp(-xp)\n",
        "    for i in range(x.shape[0]):\n",
        "        c_deriv[i] = f_xp\n",
        "        if x[i] == xp:\n",
        "            xp = maximas[0]\n",
        "            maximas = maximas[1:]\n",
        "            f_xp = 1 - np.exp(-xp)\n",
        "    return np.sum(cost_deriv*c_deriv)\n",
        "\n",
        "\n",
        "def grad_d(x, y, maximas, a, b, c, d):\n",
        "    y_pred = predict(x, maximas, a, b, c, d)\n",
        "    cost_deriv = 2*(y - y_pred)\n",
        "    d_deriv = np.zeros(x.shape)\n",
        "    xp = maximas[0]\n",
        "    maximas = maximas[1:]\n",
        "    for i in range(x.shape[0]):\n",
        "        d_deriv[i] = b*np.exp(-d*(xp - x[i]))*(x[i] - xp)*(xp - x[i])\n",
        "        if x[i] == xp:\n",
        "            xp = maximas[0]\n",
        "            maximas = maximas[1:]\n",
        "    return np.sum(cost_deriv*d_deriv)"
      ],
      "metadata": {
        "id": "7n7NdqP7veBH"
      },
      "execution_count": 76,
      "outputs": []
    },
    {
      "cell_type": "code",
      "source": [
        "a_derv = grad_a(train_x_inc, train_y_inc, maximas_values, a_inc, b_inc, c_inc, d_inc)\n",
        "b_derv = grad_b(train_x_inc, train_y_inc, maximas_values, a_inc, b_inc, c_inc, d_inc)\n",
        "c_derv = grad_c(train_x_inc, train_y_inc, maximas_values, a_inc, b_inc, c_inc, d_inc)\n",
        "d_derv = grad_d(train_x_inc, train_y_inc, maximas_values, a_inc, b_inc, c_inc, d_inc)\n",
        "\n",
        "a_derv, b_derv, c_derv, d_derv"
      ],
      "metadata": {
        "id": "62DtacsRw2jo",
        "colab": {
          "base_uri": "https://localhost:8080/"
        },
        "outputId": "d2c7b727-a7de-42e2-cb7b-2bd4be1a83bb"
      },
      "execution_count": 77,
      "outputs": [
        {
          "output_type": "execute_result",
          "data": {
            "text/plain": [
              "(-84.56253180069304, 84.33326638955694, 66.2216498645991, -0.2288642809374392)"
            ]
          },
          "metadata": {},
          "execution_count": 77
        }
      ]
    },
    {
      "cell_type": "code",
      "source": [
        "a_derv = grad_a(train_x_dec, train_y_dec, minimas_values, a_dec, b_dec, c_dec, d_dec)\n",
        "b_derv = grad_b(train_x_dec, train_y_dec, minimas_values, a_dec, b_dec, c_dec, d_dec)\n",
        "c_derv = grad_c(train_x_dec, train_y_dec, minimas_values, a_dec, b_dec, c_dec, d_dec)\n",
        "d_derv = grad_d(train_x_dec, train_y_dec, minimas_values, a_dec, b_dec, c_dec, d_dec)\n",
        "\n",
        "a_derv, b_derv, c_derv, d_derv"
      ],
      "metadata": {
        "colab": {
          "base_uri": "https://localhost:8080/"
        },
        "id": "xdqUntJSBx5c",
        "outputId": "d1f9475c-cb79-4e57-93ad-b6247c86f4ec"
      },
      "execution_count": 78,
      "outputs": [
        {
          "output_type": "execute_result",
          "data": {
            "text/plain": [
              "(394.91472984549216, -396.8348406053601, 0.0, -1.9250733394002426)"
            ]
          },
          "metadata": {},
          "execution_count": 78
        }
      ]
    },
    {
      "cell_type": "code",
      "source": [
        "def gradient_descent(x, y, maximas, a, b, c, d, alpha, iterations):\n",
        "    costs = []\n",
        "    for i in range(iterations):\n",
        "        y_pred = predict(x, maximas, a, b, c, d)\n",
        "        cost = cost_f_inc(x, y, maximas, a, b, c, d)\n",
        "        costs.append(cost)\n",
        "        if i % 100 == 0:\n",
        "            print(f'Iteration {i}, cost: {cost}')\n",
        "        a_grad = grad_a(x, y, maximas, a, b, c, d)\n",
        "        b_grad = grad_b(x, y, maximas, a, b, c, d)\n",
        "        c_grad = grad_c(x, y, maximas, a, b, c, d)\n",
        "        d_grad = grad_d(x, y, maximas, a, b, c, d)\n",
        "        a = a + alpha*a_grad\n",
        "        b = b + alpha*b_grad\n",
        "        c = c + alpha*c_grad\n",
        "        d = d + alpha*d_grad\n",
        "    return a, b, c, d, costs\n"
      ],
      "metadata": {
        "id": "o2mBjz5Xw6eh"
      },
      "execution_count": 79,
      "outputs": []
    },
    {
      "cell_type": "code",
      "source": [
        "a_inc, b_inc, c_inc, d_inc, costs = gradient_descent(\n",
        "    train_x_inc, train_y_inc, maximas_values, a_inc, b_inc, c_inc, d_inc, 0.00001, 10000)\n",
        "#combine\n",
        "a_dec, b_dec, c_dec, d_dec, costs = gradient_descent(\n",
        "    train_x_dec, train_y_dec, minimas_values, a_dec, b_dec, c_dec, d_dec, 0.00001, 10000)"
      ],
      "metadata": {
        "id": "dxH7IijXw2gW",
        "colab": {
          "base_uri": "https://localhost:8080/"
        },
        "outputId": "93133739-5007-4d43-fd22-8a5e13cef4b6"
      },
      "execution_count": 80,
      "outputs": [
        {
          "output_type": "stream",
          "name": "stdout",
          "text": [
            "Iteration 0, cost: 3.7113616575244937\n",
            "Iteration 100, cost: 1.8060365842246646\n",
            "Iteration 200, cost: 0.9617261949333038\n",
            "Iteration 300, cost: 0.5181700034592656\n",
            "Iteration 400, cost: 0.28525851455075013\n",
            "Iteration 500, cost: 0.1630419299645981\n",
            "Iteration 600, cost: 0.09894719237026338\n",
            "Iteration 700, cost: 0.0653409163288424\n",
            "Iteration 800, cost: 0.04771406495910721\n",
            "Iteration 900, cost: 0.03845662849970183\n",
            "Iteration 1000, cost: 0.033580666390458175\n",
            "Iteration 1100, cost: 0.03099774117283859\n",
            "Iteration 1200, cost: 0.02961467087474771\n",
            "Iteration 1300, cost: 0.02885939793516731\n",
            "Iteration 1400, cost: 0.028432605497452267\n",
            "Iteration 1500, cost: 0.028177679844271643\n",
            "Iteration 1600, cost: 0.02801266068823363\n",
            "Iteration 1700, cost: 0.02789463972298384\n",
            "Iteration 1800, cost: 0.02780113766706426\n",
            "Iteration 1900, cost: 0.027720363095698128\n",
            "Iteration 2000, cost: 0.027646116947496222\n",
            "Iteration 2100, cost: 0.0275751269086913\n",
            "Iteration 2200, cost: 0.027505652771407346\n",
            "Iteration 2300, cost: 0.0274367566478421\n",
            "Iteration 2400, cost: 0.027367921019401997\n",
            "Iteration 2500, cost: 0.027298848792030265\n",
            "Iteration 2600, cost: 0.027229358604050173\n",
            "Iteration 2700, cost: 0.027159329994116927\n",
            "Iteration 2800, cost: 0.027088674674329315\n",
            "Iteration 2900, cost: 0.027017321474614754\n",
            "Iteration 3000, cost: 0.026945208448906865\n",
            "Iteration 3100, cost: 0.026872278734514705\n",
            "Iteration 3200, cost: 0.0267984783794372\n",
            "Iteration 3300, cost: 0.02672375520240371\n",
            "Iteration 3400, cost: 0.026648058195615346\n",
            "Iteration 3500, cost: 0.026571337213378753\n",
            "Iteration 3600, cost: 0.026493542812025137\n",
            "Iteration 3700, cost: 0.02641462617055078\n",
            "Iteration 3800, cost: 0.02633453905498787\n",
            "Iteration 3900, cost: 0.026253233807115257\n",
            "Iteration 4000, cost: 0.02617066334734764\n",
            "Iteration 4100, cost: 0.0260867811864804\n",
            "Iteration 4200, cost: 0.026001541443502696\n",
            "Iteration 4300, cost: 0.025914898868019356\n",
            "Iteration 4400, cost: 0.025826808866515474\n",
            "Iteration 4500, cost: 0.0257372275320583\n",
            "Iteration 4600, cost: 0.025646111677216893\n",
            "Iteration 4700, cost: 0.025553418870073633\n",
            "Iteration 4800, cost: 0.025459107473247602\n",
            "Iteration 4900, cost: 0.025363136685868908\n",
            "Iteration 5000, cost: 0.025265466588449966\n",
            "Iteration 5100, cost: 0.025166058190597737\n",
            "Iteration 5200, cost: 0.02506487348150627\n",
            "Iteration 5300, cost: 0.024961875483160357\n",
            "Iteration 5400, cost: 0.024857028306172285\n",
            "Iteration 5500, cost: 0.024750297208163016\n",
            "Iteration 5600, cost: 0.024641648654587872\n",
            "Iteration 5700, cost: 0.024531050381894848\n",
            "Iteration 5800, cost: 0.024418471462891257\n",
            "Iteration 5900, cost: 0.02430388237418099\n",
            "Iteration 6000, cost: 0.024187255065521378\n",
            "Iteration 6100, cost: 0.02406856303093444\n",
            "Iteration 6200, cost: 0.02394778138139282\n",
            "Iteration 6300, cost: 0.023824886918885995\n",
            "Iteration 6400, cost: 0.023699858211657324\n",
            "Iteration 6500, cost: 0.023572675670387337\n",
            "Iteration 6600, cost: 0.02344332162508334\n",
            "Iteration 6700, cost: 0.023311780402420268\n",
            "Iteration 6800, cost: 0.02317803840326243\n",
            "Iteration 6900, cost: 0.023042084180081294\n",
            "Iteration 7000, cost: 0.022903908513969447\n",
            "Iteration 7100, cost: 0.022763504490937447\n",
            "Iteration 7200, cost: 0.022620867577166425\n",
            "Iteration 7300, cost: 0.02247599569287714\n",
            "Iteration 7400, cost: 0.02232888928446424\n",
            "Iteration 7500, cost: 0.02217955139453419\n",
            "Iteration 7600, cost: 0.02202798772947573\n",
            "Iteration 7700, cost: 0.021874206724184116\n",
            "Iteration 7800, cost: 0.02171821960355362\n",
            "Iteration 7900, cost: 0.02156004044034862\n",
            "Iteration 8000, cost: 0.02139968620906\n",
            "Iteration 8100, cost: 0.02123717683535371\n",
            "Iteration 8200, cost: 0.021072535240718646\n",
            "Iteration 8300, cost: 0.020905787381925278\n",
            "Iteration 8400, cost: 0.02073696228491198\n",
            "Iteration 8500, cost: 0.02056609207272457\n",
            "Iteration 8600, cost: 0.020393211987145485\n",
            "Iteration 8700, cost: 0.020218360403662605\n",
            "Iteration 8800, cost: 0.020041578839444144\n",
            "Iteration 8900, cost: 0.019862911954004886\n",
            "Iteration 9000, cost: 0.019682407542270894\n",
            "Iteration 9100, cost: 0.019500116519774402\n",
            "Iteration 9200, cost: 0.01931609289973741\n",
            "Iteration 9300, cost: 0.019130393761832738\n",
            "Iteration 9400, cost: 0.01894307921244321\n",
            "Iteration 9500, cost: 0.018754212336274487\n",
            "Iteration 9600, cost: 0.018563859139213892\n",
            "Iteration 9700, cost: 0.0183720884823669\n",
            "Iteration 9800, cost: 0.018178972007243038\n",
            "Iteration 9900, cost: 0.01798458405210658\n",
            "Iteration 0, cost: 5.875242670186786\n",
            "Iteration 100, cost: 0.13021217597114926\n",
            "Iteration 200, cost: 0.12951714705587614\n",
            "Iteration 300, cost: 0.12882823278290131\n",
            "Iteration 400, cost: 0.12814031455011884\n",
            "Iteration 500, cost: 0.1274484937731975\n",
            "Iteration 600, cost: 0.1267480546076194\n",
            "Iteration 700, cost: 0.12603443290305577\n",
            "Iteration 800, cost: 0.12530319086764719\n",
            "Iteration 900, cost: 0.12454999706249117\n",
            "Iteration 1000, cost: 0.12377061146389418\n",
            "Iteration 1100, cost: 0.12296087542626499\n",
            "Iteration 1200, cost: 0.12211670645423961\n",
            "Iteration 1300, cost: 0.12123409775004917\n",
            "Iteration 1400, cost: 0.12030912254180345\n",
            "Iteration 1500, cost: 0.119337943220137\n",
            "Iteration 1600, cost: 0.11831682531396645\n",
            "Iteration 1700, cost: 0.11724215632001746\n",
            "Iteration 1800, cost: 0.11611046936424643\n",
            "Iteration 1900, cost: 0.1149184716152986\n",
            "Iteration 2000, cost: 0.1136630772899819\n",
            "Iteration 2100, cost: 0.11234144498817714\n",
            "Iteration 2200, cost: 0.1109510189702137\n",
            "Iteration 2300, cost: 0.10948957384513437\n",
            "Iteration 2400, cost: 0.10795526197638486\n",
            "Iteration 2500, cost: 0.10634666273677376\n",
            "Iteration 2600, cost: 0.10466283256325755\n",
            "Iteration 2700, cost: 0.10290335458220007\n",
            "Iteration 2800, cost: 0.10106838640695047\n",
            "Iteration 2900, cost: 0.09915870456309006\n",
            "Iteration 3000, cost: 0.09717574388478932\n",
            "Iteration 3100, cost: 0.09512163016110417\n",
            "Iteration 3200, cost: 0.09299920430601297\n",
            "Iteration 3300, cost: 0.09081203639143821\n",
            "Iteration 3400, cost: 0.0885644280267413\n",
            "Iteration 3500, cost: 0.08626140179590402\n",
            "Iteration 3600, cost: 0.08390867677478545\n",
            "Iteration 3700, cost: 0.08151262953994858\n",
            "Iteration 3800, cost: 0.07908024053613227\n",
            "Iteration 3900, cost: 0.07661902617416824\n",
            "Iteration 4000, cost: 0.07413695756237573\n",
            "Iteration 4100, cost: 0.07164236730548068\n",
            "Iteration 4200, cost: 0.0691438463067103\n",
            "Iteration 4300, cost: 0.06665013295143657\n",
            "Iteration 4400, cost: 0.06416999740703948\n",
            "Iteration 4500, cost: 0.06171212402033221\n",
            "Iteration 4600, cost: 0.059284994914001944\n",
            "Iteration 4700, cost: 0.05689677786807544\n",
            "Iteration 4800, cost: 0.05455522142110848\n",
            "Iteration 4900, cost: 0.05226755984721655\n",
            "Iteration 5000, cost: 0.05004043027588802\n",
            "Iteration 5100, cost: 0.0478798037451786\n",
            "Iteration 5200, cost: 0.045790931443526355\n",
            "Iteration 5300, cost: 0.04377830683162427\n",
            "Iteration 5400, cost: 0.04184564377416554\n",
            "Iteration 5500, cost: 0.03999587028024365\n",
            "Iteration 5600, cost: 0.038231136975100416\n",
            "Iteration 5700, cost: 0.03655283902369487\n",
            "Iteration 5800, cost: 0.034961649910935005\n",
            "Iteration 5900, cost: 0.03345756526071549\n",
            "Iteration 6000, cost: 0.03203995474644189\n",
            "Iteration 6100, cost: 0.030707620104515103\n",
            "Iteration 6200, cost: 0.029458857300119427\n",
            "Iteration 6300, cost: 0.028291520999419142\n",
            "Iteration 6400, cost: 0.02720308965997196\n",
            "Iteration 6500, cost: 0.026190729747253498\n",
            "Iteration 6600, cost: 0.02525135780547661\n",
            "Iteration 6700, cost: 0.024381699342351376\n",
            "Iteration 6800, cost: 0.023578343718747792\n",
            "Iteration 6900, cost: 0.02283779445609581\n",
            "Iteration 7000, cost: 0.022156514579650413\n",
            "Iteration 7100, cost: 0.021530966799437994\n",
            "Iteration 7200, cost: 0.020957648489710705\n",
            "Iteration 7300, cost: 0.02043312156070519\n",
            "Iteration 7400, cost: 0.019954037423468265\n",
            "Iteration 7500, cost: 0.01951715733062999\n",
            "Iteration 7600, cost: 0.019119368435212745\n",
            "Iteration 7700, cost: 0.018757695948350056\n",
            "Iteration 7800, cost: 0.018429311797910908\n",
            "Iteration 7900, cost: 0.018131540196352932\n",
            "Iteration 8000, cost: 0.017861860520468772\n",
            "Iteration 8100, cost: 0.017617907890684112\n",
            "Iteration 8200, cost: 0.017397471815613866\n",
            "Iteration 8300, cost: 0.01719849324079799\n",
            "Iteration 8400, cost: 0.017019060310728196\n",
            "Iteration 8500, cost: 0.01685740312194328\n",
            "Iteration 8600, cost: 0.01671188771333016\n",
            "Iteration 8700, cost: 0.01658100950875948\n",
            "Iteration 8800, cost: 0.016463386397523226\n",
            "Iteration 8900, cost: 0.016357751610224326\n",
            "Iteration 9000, cost: 0.01626294652212522\n",
            "Iteration 9100, cost: 0.016177913492681224\n",
            "Iteration 9200, cost: 0.016101688829136075\n",
            "Iteration 9300, cost: 0.016033395943627186\n",
            "Iteration 9400, cost: 0.015972238757155647\n",
            "Iteration 9500, cost: 0.01591749538989278\n",
            "Iteration 9600, cost: 0.015868512165462846\n",
            "Iteration 9700, cost: 0.01582469794688229\n",
            "Iteration 9800, cost: 0.015785518813565366\n",
            "Iteration 9900, cost: 0.015750493082037173\n"
          ]
        }
      ]
    },
    {
      "cell_type": "markdown",
      "source": [
        "ghhgg"
      ],
      "metadata": {
        "id": "yMxe4ZI0pqbs"
      }
    },
    {
      "cell_type": "code",
      "source": [
        "#cost: 0.01798458405210658 is for inc\n",
        "#cost: 0.015750493082037173 is for dec"
      ],
      "metadata": {
        "id": "txbNEIw8gkfV"
      },
      "execution_count": null,
      "outputs": []
    },
    {
      "cell_type": "code",
      "source": [],
      "metadata": {
        "id": "Z17uNiqBgreH"
      },
      "execution_count": null,
      "outputs": []
    },
    {
      "cell_type": "code",
      "source": [
        "print(maximas_values)"
      ],
      "metadata": {
        "colab": {
          "base_uri": "https://localhost:8080/"
        },
        "id": "UmBAn1XTf2Gn",
        "outputId": "85ae43bb-f6a5-4eee-fd24-5ee87f255905"
      },
      "execution_count": 97,
      "outputs": [
        {
          "output_type": "stream",
          "name": "stdout",
          "text": [
            "[6. 6.]\n"
          ]
        }
      ]
    },
    {
      "cell_type": "code",
      "source": [
        "print(minimas_values)"
      ],
      "metadata": {
        "colab": {
          "base_uri": "https://localhost:8080/"
        },
        "id": "mHRzcPN4f_5T",
        "outputId": "8934776d-dc29-4cc6-de6d-e07fcaf52f5f"
      },
      "execution_count": 98,
      "outputs": [
        {
          "output_type": "stream",
          "name": "stdout",
          "text": [
            "[0.]\n"
          ]
        }
      ]
    },
    {
      "cell_type": "code",
      "source": [
        "print(a_inc, b_inc, c_inc, d_inc)"
      ],
      "metadata": {
        "colab": {
          "base_uri": "https://localhost:8080/"
        },
        "id": "Sxofef8VfljC",
        "outputId": "a3644cf1-dcd8-4e5e-8af6-4d59e38b2a0b"
      },
      "execution_count": 95,
      "outputs": [
        {
          "output_type": "stream",
          "name": "stdout",
          "text": [
            "0.0056791097541811775 -0.0232962506162296 0.14839333484923922 0.0254763276769475\n"
          ]
        }
      ]
    },
    {
      "cell_type": "code",
      "source": [
        "print(a_dec, b_dec, c_dec, d_dec)"
      ],
      "metadata": {
        "colab": {
          "base_uri": "https://localhost:8080/"
        },
        "id": "egWExbQUfqzD",
        "outputId": "4cb72f1d-c794-4773-d4e1-9caccb62f812"
      },
      "execution_count": 96,
      "outputs": [
        {
          "output_type": "stream",
          "name": "stdout",
          "text": [
            "-0.015231471371135752 -0.06514327904306272 0.008 -0.07315198395974613\n"
          ]
        }
      ]
    },
    {
      "cell_type": "code",
      "source": [
        "y_pred_inc = predict(train_x_inc, maximas_values, a_inc, b_inc, c_inc, d_inc)\n",
        "y_pred_inc = ewma_vectorized(y_pred_inc, 11)\n",
        "plt.subplot(2, 1, 1)\n",
        "plt.scatter(train_x_inc, train_y_inc)\n",
        "plt.scatter(train_x_inc, y_pred_inc)\n",
        "plt.show()\n",
        "                                        #combine\n",
        "y_pred_dec = predict(train_x_dec, minimas_values, a_dec, b_dec, c_dec, d_dec)\n",
        "y_pred_dec = ewma_vectorized(y_pred_dec, 11)\n",
        "plt.subplot(2, 1, 2)\n",
        "plt.scatter(train_x_dec, train_y_dec)\n",
        "plt.scatter(train_x_dec, y_pred_dec)\n",
        "plt.show()\n"
      ],
      "metadata": {
        "id": "R9HH6Q55w2da",
        "colab": {
          "base_uri": "https://localhost:8080/",
          "height": 277
        },
        "outputId": "aaaa3d25-b235-47d7-af16-63ce586c696f"
      },
      "execution_count": 91,
      "outputs": [
        {
          "output_type": "display_data",
          "data": {
            "text/plain": [
              "<Figure size 432x288 with 1 Axes>"
            ],
            "image/png": "[encoded data removed]"
          },
          "metadata": {
            "needs_background": "light"
          }
        },
        {
          "output_type": "display_data",
          "data": {
            "text/plain": [
              "<Figure size 432x288 with 1 Axes>"
            ],
            "image/png": "[encoded data removed]"
          },
          "metadata": {
            "needs_background": "light"
          }
        }
      ]
    },
    {
      "cell_type": "code",
      "source": [
        "# Plotting both the curves simultaneously\n",
        "plt.plot(X, y, color='r', label='sin')\n",
        "plt.plot(X, z, color='g', label='cos')"
      ],
      "metadata": {
        "id": "d63VAedWd9HV"
      },
      "execution_count": null,
      "outputs": []
    },
    {
      "cell_type": "code",
      "source": [
        "plt.scatter(train_x_inc, train_y_inc,c='b')\n",
        "plt.scatter(train_x_inc, y_pred_inc,c='r')\n",
        "plt.scatter(train_x_dec, train_y_dec,c='b')\n",
        "plt.scatter(train_x_dec, y_pred_dec,c='r')\n",
        "plt.show()"
      ],
      "metadata": {
        "colab": {
          "base_uri": "https://localhost:8080/",
          "height": 265
        },
        "id": "QEA2PtDacMo7",
        "outputId": "04217df3-9427-4bb5-cf3f-38489244d3d0"
      },
      "execution_count": 94,
      "outputs": [
        {
          "output_type": "display_data",
          "data": {
            "text/plain": [
              "<Figure size 432x288 with 1 Axes>"
            ],
            "image/png": "[encoded data removed]"
          },
          "metadata": {
            "needs_background": "light"
          }
        }
      ]
    },
    {
      "cell_type": "code",
      "source": [
        "import sklearn\n"
      ],
      "metadata": {
        "id": "6t7K-3WhhWAE"
      },
      "execution_count": 99,
      "outputs": []
    },
    {
      "cell_type": "code",
      "source": [
        "rms=sklearn.metrics.mean_squared_error(train_y_inc, y_pred_inc)  \n",
        "print(rms)"
      ],
      "metadata": {
        "colab": {
          "base_uri": "https://localhost:8080/"
        },
        "id": "WSocwU8qhThK",
        "outputId": "ad7139dc-7178-434c-cc2d-61c767622f74"
      },
      "execution_count": 102,
      "outputs": [
        {
          "output_type": "stream",
          "name": "stdout",
          "text": [
            "7.58117589990753e-05\n"
          ]
        }
      ]
    },
    {
      "cell_type": "code",
      "source": [
        "rms=sklearn.metrics.mean_squared_error(train_y_dec, y_pred_dec)  \n",
        "print(rms)"
      ],
      "metadata": {
        "colab": {
          "base_uri": "https://localhost:8080/"
        },
        "id": "sPpUSZmXh2FP",
        "outputId": "80da695d-2081-4974-88fb-6d47ed506bb2"
      },
      "execution_count": 103,
      "outputs": [
        {
          "output_type": "stream",
          "name": "stdout",
          "text": [
            "0.00010936778516135271\n"
          ]
        }
      ]
    },
    {
      "cell_type": "code",
      "source": [
        "cost = cost_f_inc(train_x_inc, train_y_inc, maximas_values, a_inc, b_inc, c_inc, d_inc)\n",
        "cost"
      ],
      "metadata": {
        "id": "_ju7cyYrNYGW",
        "colab": {
          "base_uri": "https://localhost:8080/"
        },
        "outputId": "22420207-b7fc-45fc-9df9-eece91263f6b"
      },
      "execution_count": 108,
      "outputs": [
        {
          "output_type": "execute_result",
          "data": {
            "text/plain": [
              "0.017789001559550273"
            ]
          },
          "metadata": {},
          "execution_count": 108
        }
      ]
    },
    {
      "cell_type": "code",
      "source": [
        "cost = cost_f_dec(train_x_dec, train_y_dec, minimas_values, a_dec, b_dec, c_dec, d_dec)\n",
        "cost"
      ],
      "metadata": {
        "colab": {
          "base_uri": "https://localhost:8080/"
        },
        "id": "BXNwipNz6Lyt",
        "outputId": "227eba97-332d-4ab0-a426-43e4cac1867f"
      },
      "execution_count": 105,
      "outputs": [
        {
          "output_type": "execute_result",
          "data": {
            "text/plain": [
              "17.128245197179744"
            ]
          },
          "metadata": {},
          "execution_count": 105
        }
      ]
    },
    {
      "cell_type": "markdown",
      "source": [
        "# uptill now modelling and tunning of parameters have been done now we want to implement PSO algo for optimization because the rms is but high"
      ],
      "metadata": {
        "id": "hbJqbkWM0jnw"
      }
    },
    {
      "cell_type": "markdown",
      "source": [
        "#its my attempt to apply PSO on the above mention problem"
      ],
      "metadata": {
        "id": "3rhxp0Kn24l2"
      }
    },
    {
      "cell_type": "code",
      "source": [],
      "metadata": {
        "id": "Iao07ki02_Bp"
      },
      "execution_count": 104,
      "outputs": []
    },
    {
      "cell_type": "code",
      "source": [
        "\"\"\"\n",
        "Angel Gaspar\n",
        "GitHub: angelgaspar\n",
        "Last update: December 11th, 2020\n",
        "Python 3.7\n",
        "\n",
        "Modifications:\n",
        "   1.-The initial array written by the user was removed.\n",
        "   2.-The initial positions are initialized within the search range minimum and maximum randomly.\n",
        "   3.-The first iteration always was -1.00 the problem was fixed.\n",
        "   4.-More decimals was added.\n",
        "\n",
        "Original code without my modifications:\n",
        "Nathan A. Rooy\n",
        "Simple Particle Swarm Optimization (PSO) with Python\n",
        "Last update: 2018-JAN-26\n",
        "Python 3.6\n",
        "\n",
        "\"\"\"\n",
        "\n",
        "# --- IMPORT DEPENDENCIES ------------------------------------------------------+\n",
        "from random import random\n",
        "from random import uniform\n",
        "\n",
        "\n",
        "# --- MAIN ---------------------------------------------------------------------+\n",
        "class Particle:\n",
        "    def __init__(self, bounds):\n",
        "        self.position_i = []  # particle position\n",
        "        self.velocity_i = []  # particle velocity\n",
        "        self.pos_best_i = []  # best position individual\n",
        "        self.err_best_i = -1  # best error individual\n",
        "        self.err_i = -1  # error individual\n",
        "\n",
        "        for i in range(0, num_dimensions):\n",
        "            self.velocity_i.append(uniform(-1, 1))\n",
        "            self.position_i.append(uniform(bounds[i][0], bounds[i][1]))\n",
        "\n",
        "    # evaluate current fitness\n",
        "    def evaluate(self, cost_function):\n",
        "        self.err_i = cost_function(self.position_i)\n",
        "\n",
        "        # check to see if the current position is an individual best\n",
        "        if self.err_i < self.err_best_i or self.err_best_i == -1:\n",
        "            self.pos_best_i = self.position_i.copy()\n",
        "            self.err_best_i = self.err_i\n",
        "\n",
        "    # update new particle velocity\n",
        "    def update_velocity(self, pos_best_g):\n",
        "        w = 0.5  # constant inertia weight (how much to weigh the previous velocity)\n",
        "        c1 = 0.5  # cognitive constant\n",
        "        c2 = 0.5  # social constant\n",
        "\n",
        "        for i in range(0, num_dimensions):\n",
        "            r1 = random()\n",
        "            r2 = random()\n",
        "\n",
        "            vel_cognitive = c1 * r1 * (self.pos_best_i[i] - self.position_i[i])\n",
        "            vel_social = c2 * r2 * (pos_best_g[i] - self.position_i[i])\n",
        "            self.velocity_i[i] = w * self.velocity_i[i] + vel_cognitive + vel_social\n",
        "\n",
        "    # update the particle position based off new velocity updates\n",
        "    def update_position(self, bounds):\n",
        "        for i in range(0, num_dimensions):\n",
        "            self.position_i[i] = self.position_i[i] + self.velocity_i[i]\n",
        "\n",
        "            # adjust maximum position if necessary\n",
        "            if self.position_i[i] > bounds[i][1]:\n",
        "                self.position_i[i] = bounds[i][1]\n",
        "\n",
        "            # adjust minimum position if necessary\n",
        "            if self.position_i[i] < bounds[i][0]:\n",
        "                self.position_i[i] = bounds[i][0]\n",
        "\n",
        "\n",
        "def minimize(cost_function, dimensions, bounds, num_particles, max_iter, verbose=False):\n",
        "    global num_dimensions\n",
        "\n",
        "    num_dimensions = dimensions\n",
        "    err_best_g = -1  # best error for group\n",
        "    pos_best_g = []  # best position for group\n",
        "\n",
        "    # establish the swarm\n",
        "    swarm = []\n",
        "    for i in range(0, num_particles):\n",
        "        swarm.append(Particle(bounds))\n",
        "\n",
        "    # begin optimization loop\n",
        "    i = 1\n",
        "    while i <= max_iter:\n",
        "\n",
        "        # cycle through particles in swarm and evaluate fitness\n",
        "        for j in range(0, num_particles):\n",
        "            swarm[j].evaluate(cost_function)\n",
        "\n",
        "            # determine if current particle is the best (globally)\n",
        "            if swarm[j].err_i < err_best_g or err_best_g == -1:\n",
        "                pos_best_g = list(swarm[j].position_i)\n",
        "                err_best_g = float(swarm[j].err_i)\n",
        "\n",
        "        # cycle through swarm and update velocities and position\n",
        "        for j in range(0, num_particles):\n",
        "            swarm[j].update_velocity(pos_best_g)\n",
        "            swarm[j].update_position(bounds)\n",
        "\n",
        "        if verbose: print(f'iter: {i:>4d}, best solution: {err_best_g:10.12f}')\n",
        "\n",
        "        i += 1\n",
        "\n",
        "    # print final results\n",
        "    print('\\nFINAL SOLUTION:')\n",
        "    print(\"\\tPositions: \", pos_best_g)\n",
        "    print(\"\\tBest Solution: \", err_best_g)\n",
        "\n",
        "    pass\n",
        "\n",
        "\n",
        "# objective Function\n",
        "# def sphere(x):\n",
        "#     total = 0\n",
        "#     for i in range(len(x)):\n",
        "#         total += x[i] ** 2\n",
        "#     return total\n",
        "\n",
        "\n",
        "# settings\n",
        "# num_dimensions = 2  # dimensions\n",
        "# bounds = [(-10, 10), (-10, 10)]  # input bounds [(x1_min, x1_max), (x2_min, x2_max), ...]\n",
        "num_dimensions = 4  # dimensions\n",
        "bounds = [(-0.015231471371135752,0.0056791097541811775),(-0.0232962506162296, -0.06514327904306272),(0.008,0.14839333484923922),(-0.07315198395974613, 0.0254763276769475)]  # input bounds [(x1_min, x1_max), (x2_min, x2_max), ...]\n",
        "minimize(sphere, num_dimensions, bounds, num_particles=500, max_iter=30, verbose=True)\n",
        "# #\n",
        "# If X = [a,b,c,d], n = 4 and if\n",
        "#         bound = [(-0.015231471371135752,0.0056791097541811775),(-0.0232962506162296, -0.06514327904306272),(0.008,0.14839333484923922),(-0.07315198395974613, 0.0254763276769475)]\n",
        "#         Then, a∈(-0.015231471371135752,0.0056791097541811775); b∈(-0.0232962506162296, -0.06514327904306272); c∈(0.008,0.14839333484923922,(-0.07315198395974613, 0.0254763276769475))"
      ],
      "metadata": {
        "id": "rnfcUuf83PSJ"
      },
      "execution_count": null,
      "outputs": []
    },
    {
      "cell_type": "code",
      "source": [
        "minimize(sphere, num_dimensions, bounds, num_particles=500, max_iter=30, verbose=True)"
      ],
      "metadata": {
        "id": "u5JmSIKH3PO9"
      },
      "execution_count": null,
      "outputs": []
    },
    {
      "cell_type": "code",
      "source": [],
      "metadata": {
        "id": "vTqg-nbv3PLt"
      },
      "execution_count": null,
      "outputs": []
    },
    {
      "cell_type": "code",
      "source": [],
      "metadata": {
        "id": "TMVom3mJ3PIn"
      },
      "execution_count": null,
      "outputs": []
    },
    {
      "cell_type": "code",
      "source": [],
      "metadata": {
        "id": "WeFekmqX3PFP"
      },
      "execution_count": null,
      "outputs": []
    },
    {
      "cell_type": "code",
      "source": [],
      "metadata": {
        "id": "qgzP8LEq3PCF"
      },
      "execution_count": null,
      "outputs": []
    },
    {
      "cell_type": "code",
      "source": [],
      "metadata": {
        "id": "3lI15vfS3O-2"
      },
      "execution_count": null,
      "outputs": []
    }
  ]
}