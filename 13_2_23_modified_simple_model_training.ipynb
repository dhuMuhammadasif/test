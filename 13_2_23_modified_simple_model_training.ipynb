{
  "nbformat": 4,
  "nbformat_minor": 0,
  "metadata": {
    "colab": {
      "provenance": [],
      "authorship_tag": "ABX9TyNS2Lkymm6nUQouuBt/Cnpc",
      "include_colab_link": true
    },
    "kernelspec": {
      "name": "python3",
      "display_name": "Python 3"
    },
    "language_info": {
      "name": "python"
    }
  },
  "cells": [
    {
      "cell_type": "markdown",
      "metadata": {
        "id": "view-in-github",
        "colab_type": "text"
      },
      "source": [
        "<a href=\"https://colab.research.google.com/github/dhuMuhammadasif/test/blob/master/13_2_23_modified_simple_model_training.ipynb\" target=\"_parent\"><img src=\"https://colab.research.google.com/assets/colab-badge.svg\" alt=\"Open In Colab\"/></a>"
      ]
    },
    {
      "cell_type": "code",
      "execution_count": 1,
      "metadata": {
        "id": "AvXguznHtKFm"
      },
      "outputs": [],
      "source": [
        "import pandas as pd\n",
        "import numpy as np\n",
        "import matplotlib.pyplot as plt\n",
        "from scipy import signal\n",
        "from sklearn.model_selection import train_test_split"
      ]
    },
    {
      "cell_type": "code",
      "source": [
        "df_1 =pd.read_excel('/content/20khz.xlsx')\n",
        "train_x = np.array(df_1['x'], dtype=np.float64)\n",
        "train_y = np.array(df_1['y'], dtype=np.float64)\n",
        "\n",
        "# train_x = np.array(df['x'], dtype=np.float64)\n",
        "# train_y = np.array(df['y'], dtype=np.float64)\n",
        "print(train_x.shape, train_y.shape)"
      ],
      "metadata": {
        "colab": {
          "base_uri": "https://localhost:8080/"
        },
        "id": "LXAwpdwctOAz",
        "outputId": "c2df15cc-2a40-4b55-81f0-ea71b12a9083"
      },
      "execution_count": 2,
      "outputs": [
        {
          "output_type": "stream",
          "name": "stdout",
          "text": [
            "(2001,) (2001,)\n"
          ]
        }
      ]
    },
    {
      "cell_type": "code",
      "source": [
        "df_1.head()"
      ],
      "metadata": {
        "colab": {
          "base_uri": "https://localhost:8080/",
          "height": 206
        },
        "id": "2XgIlP6fD62i",
        "outputId": "35f2e1ff-9825-4435-d1fa-98bfdd72b6ef"
      },
      "execution_count": 3,
      "outputs": [
        {
          "output_type": "execute_result",
          "data": {
            "text/plain": [
              "         x        y\n",
              "0  0.00000 -0.00069\n",
              "1  0.00024 -0.00107\n",
              "2  0.00095 -0.00092\n",
              "3  0.00213 -0.00031\n",
              "4  0.00379 -0.00259"
            ],
            "text/html": [
              "\n",
              "  <div id=\"df-7fe01bae-2623-4a9c-83a6-6186dd8e1d80\">\n",
              "    <div class=\"colab-df-container\">\n",
              "      <div>\n",
              "<style scoped>\n",
              "    .dataframe tbody tr th:only-of-type {\n",
              "        vertical-align: middle;\n",
              "    }\n",
              "\n",
              "    .dataframe tbody tr th {\n",
              "        vertical-align: top;\n",
              "    }\n",
              "\n",
              "    .dataframe thead th {\n",
              "        text-align: right;\n",
              "    }\n",
              "</style>\n",
              "<table border=\"1\" class=\"dataframe\">\n",
              "  <thead>\n",
              "    <tr style=\"text-align: right;\">\n",
              "      <th></th>\n",
              "      <th>x</th>\n",
              "      <th>y</th>\n",
              "    </tr>\n",
              "  </thead>\n",
              "  <tbody>\n",
              "    <tr>\n",
              "      <th>0</th>\n",
              "      <td>0.00000</td>\n",
              "      <td>-0.00069</td>\n",
              "    </tr>\n",
              "    <tr>\n",
              "      <th>1</th>\n",
              "      <td>0.00024</td>\n",
              "      <td>-0.00107</td>\n",
              "    </tr>\n",
              "    <tr>\n",
              "      <th>2</th>\n",
              "      <td>0.00095</td>\n",
              "      <td>-0.00092</td>\n",
              "    </tr>\n",
              "    <tr>\n",
              "      <th>3</th>\n",
              "      <td>0.00213</td>\n",
              "      <td>-0.00031</td>\n",
              "    </tr>\n",
              "    <tr>\n",
              "      <th>4</th>\n",
              "      <td>0.00379</td>\n",
              "      <td>-0.00259</td>\n",
              "    </tr>\n",
              "  </tbody>\n",
              "</table>\n",
              "</div>\n",
              "      <button class=\"colab-df-convert\" onclick=\"convertToInteractive('df-7fe01bae-2623-4a9c-83a6-6186dd8e1d80')\"\n",
              "              title=\"Convert this dataframe to an interactive table.\"\n",
              "              style=\"display:none;\">\n",
              "        \n",
              "  <svg xmlns=\"http://www.w3.org/2000/svg\" height=\"24px\"viewBox=\"0 0 24 24\"\n",
              "       width=\"24px\">\n",
              "    <path d=\"M0 0h24v24H0V0z\" fill=\"none\"/>\n",
              "    <path d=\"M18.56 5.44l.94 2.06.94-2.06 2.06-.94-2.06-.94-.94-2.06-.94 2.06-2.06.94zm-11 1L8.5 8.5l.94-2.06 2.06-.94-2.06-.94L8.5 2.5l-.94 2.06-2.06.94zm10 10l.94 2.06.94-2.06 2.06-.94-2.06-.94-.94-2.06-.94 2.06-2.06.94z\"/><path d=\"M17.41 7.96l-1.37-1.37c-.4-.4-.92-.59-1.43-.59-.52 0-1.04.2-1.43.59L10.3 9.45l-7.72 7.72c-.78.78-.78 2.05 0 2.83L4 21.41c.39.39.9.59 1.41.59.51 0 1.02-.2 1.41-.59l7.78-7.78 2.81-2.81c.8-.78.8-2.07 0-2.86zM5.41 20L4 18.59l7.72-7.72 1.47 1.35L5.41 20z\"/>\n",
              "  </svg>\n",
              "      </button>\n",
              "      \n",
              "  <style>\n",
              "    .colab-df-container {\n",
              "      display:flex;\n",
              "      flex-wrap:wrap;\n",
              "      gap: 12px;\n",
              "    }\n",
              "\n",
              "    .colab-df-convert {\n",
              "      background-color: #E8F0FE;\n",
              "      border: none;\n",
              "      border-radius: 50%;\n",
              "      cursor: pointer;\n",
              "      display: none;\n",
              "      fill: #1967D2;\n",
              "      height: 32px;\n",
              "      padding: 0 0 0 0;\n",
              "      width: 32px;\n",
              "    }\n",
              "\n",
              "    .colab-df-convert:hover {\n",
              "      background-color: #E2EBFA;\n",
              "      box-shadow: 0px 1px 2px rgba(60, 64, 67, 0.3), 0px 1px 3px 1px rgba(60, 64, 67, 0.15);\n",
              "      fill: #174EA6;\n",
              "    }\n",
              "\n",
              "    [theme=dark] .colab-df-convert {\n",
              "      background-color: #3B4455;\n",
              "      fill: #D2E3FC;\n",
              "    }\n",
              "\n",
              "    [theme=dark] .colab-df-convert:hover {\n",
              "      background-color: #434B5C;\n",
              "      box-shadow: 0px 1px 3px 1px rgba(0, 0, 0, 0.15);\n",
              "      filter: drop-shadow(0px 1px 2px rgba(0, 0, 0, 0.3));\n",
              "      fill: #FFFFFF;\n",
              "    }\n",
              "  </style>\n",
              "\n",
              "      <script>\n",
              "        const buttonEl =\n",
              "          document.querySelector('#df-7fe01bae-2623-4a9c-83a6-6186dd8e1d80 button.colab-df-convert');\n",
              "        buttonEl.style.display =\n",
              "          google.colab.kernel.accessAllowed ? 'block' : 'none';\n",
              "\n",
              "        async function convertToInteractive(key) {\n",
              "          const element = document.querySelector('#df-7fe01bae-2623-4a9c-83a6-6186dd8e1d80');\n",
              "          const dataTable =\n",
              "            await google.colab.kernel.invokeFunction('convertToInteractive',\n",
              "                                                     [key], {});\n",
              "          if (!dataTable) return;\n",
              "\n",
              "          const docLinkHtml = 'Like what you see? Visit the ' +\n",
              "            '<a target=\"_blank\" href=https://colab.research.google.com/notebooks/data_table.ipynb>data table notebook</a>'\n",
              "            + ' to learn more about interactive tables.';\n",
              "          element.innerHTML = '';\n",
              "          dataTable['output_type'] = 'display_data';\n",
              "          await google.colab.output.renderOutput(dataTable, element);\n",
              "          const docLink = document.createElement('div');\n",
              "          docLink.innerHTML = docLinkHtml;\n",
              "          element.appendChild(docLink);\n",
              "        }\n",
              "      </script>\n",
              "    </div>\n",
              "  </div>\n",
              "  "
            ]
          },
          "metadata": {},
          "execution_count": 3
        }
      ]
    },
    {
      "cell_type": "code",
      "source": [
        "df_1 = df_1[df_1 != 0]"
      ],
      "metadata": {
        "id": "qMbT2geAEO84"
      },
      "execution_count": 4,
      "outputs": []
    },
    {
      "cell_type": "code",
      "source": [
        "df_1 =df_1 .dropna()"
      ],
      "metadata": {
        "id": "nOBNvTQ-Epue"
      },
      "execution_count": 5,
      "outputs": []
    },
    {
      "cell_type": "code",
      "source": [
        "len(df_1['x'])"
      ],
      "metadata": {
        "colab": {
          "base_uri": "https://localhost:8080/"
        },
        "id": "nVfjESgmXFHX",
        "outputId": "032cba98-a8e5-4f86-8f93-2ba112043fe5"
      },
      "execution_count": 204,
      "outputs": [
        {
          "output_type": "execute_result",
          "data": {
            "text/plain": [
              "1996"
            ]
          },
          "metadata": {},
          "execution_count": 204
        }
      ]
    },
    {
      "cell_type": "code",
      "source": [
        "len(df_1['y'])"
      ],
      "metadata": {
        "colab": {
          "base_uri": "https://localhost:8080/"
        },
        "id": "6gDpbVcuXZM5",
        "outputId": "ee6a8c7f-89fc-4637-8f48-465de02b9c3d"
      },
      "execution_count": 205,
      "outputs": [
        {
          "output_type": "execute_result",
          "data": {
            "text/plain": [
              "1996"
            ]
          },
          "metadata": {},
          "execution_count": 205
        }
      ]
    },
    {
      "cell_type": "code",
      "source": [
        "n_train = 1000\n",
        "train_x = train_x[:n_train]\n",
        "train_y = train_y[:n_train]\n"
      ],
      "metadata": {
        "id": "fK60MoMdvuO8"
      },
      "execution_count": 6,
      "outputs": []
    },
    {
      "cell_type": "code",
      "source": [
        "print(train_x.shape, train_y.shape)"
      ],
      "metadata": {
        "colab": {
          "base_uri": "https://localhost:8080/"
        },
        "id": "EC0vFmp-wPf6",
        "outputId": "24d2eb19-9718-460d-fb04-41de0f12623f"
      },
      "execution_count": 7,
      "outputs": [
        {
          "output_type": "stream",
          "name": "stdout",
          "text": [
            "(1000,) (1000,)\n"
          ]
        }
      ]
    },
    {
      "cell_type": "code",
      "source": [
        "plt.plot(train_x)\n",
        "plt.show()"
      ],
      "metadata": {
        "colab": {
          "base_uri": "https://localhost:8080/",
          "height": 265
        },
        "id": "1AVBRhnbuL7L",
        "outputId": "dc207dc9-db83-4d81-cc39-0e8a265ba785"
      },
      "execution_count": 8,
      "outputs": [
        {
          "output_type": "display_data",
          "data": {
            "text/plain": [
              "<Figure size 432x288 with 1 Axes>"
            ],
            "image/png": "[encoded data removed]"
          },
          "metadata": {
            "needs_background": "light"
          }
        }
      ]
    },
    {
      "cell_type": "code",
      "source": [
        "plt.plot(train_y)\n",
        "plt.show()"
      ],
      "metadata": {
        "colab": {
          "base_uri": "https://localhost:8080/",
          "height": 265
        },
        "id": "Eekr_sQLuL3J",
        "outputId": "c483c0da-1638-44d6-e68f-ba906064e3b8"
      },
      "execution_count": 9,
      "outputs": [
        {
          "output_type": "display_data",
          "data": {
            "text/plain": [
              "<Figure size 432x288 with 1 Axes>"
            ],
            "image/png": "[encoded data removed]"
          },
          "metadata": {
            "needs_background": "light"
          }
        }
      ]
    },
    {
      "cell_type": "code",
      "source": [
        "plt.plot(train_x, train_y)\n",
        "plt.show()"
      ],
      "metadata": {
        "colab": {
          "base_uri": "https://localhost:8080/",
          "height": 265
        },
        "id": "4twYv1DuuL0H",
        "outputId": "e0b5cb31-9a53-427b-d548-7a7077d90d07"
      },
      "execution_count": 10,
      "outputs": [
        {
          "output_type": "display_data",
          "data": {
            "text/plain": [
              "<Figure size 432x288 with 1 Axes>"
            ],
            "image/png": "[encoded data removed]"
          },
          "metadata": {
            "needs_background": "light"
          }
        }
      ]
    },
    {
      "cell_type": "code",
      "source": [
        "def ewma_vectorized(data, window):\n",
        "    alpha = 3 /(window + 3)\n",
        "    alpha_rev = 1 - alpha\n",
        "\n",
        "    scale = 1/alpha_rev\n",
        "    n = data.shape[0]\n",
        "\n",
        "    r = np.arange(n)\n",
        "    scale_arr = scale**r\n",
        "    offset = data[0]*alpha_rev**(r+2)\n",
        "    pw0 = alpha*alpha_rev**(n-1)\n",
        "\n",
        "    mult = data*pw0*scale_arr\n",
        "    cumsums = mult.cumsum()\n",
        "    out = offset + cumsums*scale_arr[::-1]\n",
        "    return out\n",
        "    "
      ],
      "metadata": {
        "id": "MPrxT9yQuLxx"
      },
      "execution_count": 11,
      "outputs": []
    },
    {
      "cell_type": "code",
      "source": [
        "train_y = ewma_vectorized(train_y, 12)\n",
        "plt.plot(train_x, train_y)\n",
        "plt.show()"
      ],
      "metadata": {
        "colab": {
          "base_uri": "https://localhost:8080/",
          "height": 265
        },
        "id": "86-4rhGmuLvt",
        "outputId": "d91a70d2-3bb6-4305-b877-7381bcb66d24"
      },
      "execution_count": 12,
      "outputs": [
        {
          "output_type": "display_data",
          "data": {
            "text/plain": [
              "<Figure size 432x288 with 1 Axes>"
            ],
            "image/png": "[encoded data removed]"
          },
          "metadata": {
            "needs_background": "light"
          }
        }
      ]
    },
    {
      "cell_type": "code",
      "source": [
        "import numpy as np"
      ],
      "metadata": {
        "id": "4XzEnF0W7UhP"
      },
      "execution_count": 213,
      "outputs": []
    },
    {
      "cell_type": "code",
      "source": [
        "train_x.dtype"
      ],
      "metadata": {
        "colab": {
          "base_uri": "https://localhost:8080/"
        },
        "id": "TwzYIGF_7ju8",
        "outputId": "67f2ecaf-af78-43c9-e272-c8f901694a21"
      },
      "execution_count": null,
      "outputs": [
        {
          "output_type": "execute_result",
          "data": {
            "text/plain": [
              "dtype('float64')"
            ]
          },
          "metadata": {},
          "execution_count": 193
        }
      ]
    },
    {
      "cell_type": "code",
      "source": [
        "train_y.dtype"
      ],
      "metadata": {
        "colab": {
          "base_uri": "https://localhost:8080/"
        },
        "id": "XNVLky4X74CR",
        "outputId": "5cc90cee-6bb4-47cd-8e75-aaffdf98d310"
      },
      "execution_count": null,
      "outputs": [
        {
          "output_type": "execute_result",
          "data": {
            "text/plain": [
              "dtype('float64')"
            ]
          },
          "metadata": {},
          "execution_count": 194
        }
      ]
    },
    {
      "cell_type": "code",
      "source": [
        "# train_x=train_x.flatten()\n",
        "# train_y=train_y.flatten()\n"
      ],
      "metadata": {
        "id": "stnkBVWX6-kH"
      },
      "execution_count": null,
      "outputs": []
    },
    {
      "cell_type": "code",
      "source": [
        "# train_x=train_x.reshape(-1,1)\n",
        "#train_y=train_y.reshape(-1,1)"
      ],
      "metadata": {
        "id": "_KMICWN8F50Z"
      },
      "execution_count": null,
      "outputs": []
    },
    {
      "cell_type": "code",
      "source": [
        "# train_y.dtype"
      ],
      "metadata": {
        "id": "hM2FPVzyuRfb"
      },
      "execution_count": null,
      "outputs": []
    },
    {
      "cell_type": "code",
      "source": [
        "# train_x.dtype"
      ],
      "metadata": {
        "id": "fiqjTBt4uUNl"
      },
      "execution_count": null,
      "outputs": []
    },
    {
      "cell_type": "code",
      "source": [
        "# minimas = signal.argrelmin(train_x)[0]\n",
        "# maximas = signal.argrelmax(train_x)[0]\n",
        "minimas = signal.argrelmin(train_x)[0]\n",
        "maximas = signal.argrelmax(train_x)[0]\n",
        "\n",
        "minimas_values = train_x[minimas]\n",
        "maximas_values = train_x[maximas]\n",
        "\n",
        "minimas_values, maximas_values"
      ],
      "metadata": {
        "colab": {
          "base_uri": "https://localhost:8080/"
        },
        "id": "tdmyhMzfuLtX",
        "outputId": "76c8b2fe-ce4c-4f96-dc26-e1570c70f10e"
      },
      "execution_count": 13,
      "outputs": [
        {
          "output_type": "execute_result",
          "data": {
            "text/plain": [
              "(array([0.]), array([6., 6.]))"
            ]
          },
          "metadata": {},
          "execution_count": 13
        }
      ]
    },
    {
      "cell_type": "code",
      "source": [
        "plt.plot(train_x)\n",
        "plt.plot(minimas, minimas_values, 'o')\n",
        "plt.plot(maximas, maximas_values, 'o')\n",
        "plt.show()"
      ],
      "metadata": {
        "colab": {
          "base_uri": "https://localhost:8080/",
          "height": 265
        },
        "id": "4QJdwNIDGkM1",
        "outputId": "a3e1546c-c9dc-4781-d844-3af4b18156d5"
      },
      "execution_count": 14,
      "outputs": [
        {
          "output_type": "display_data",
          "data": {
            "text/plain": [
              "<Figure size 432x288 with 1 Axes>"
            ],
            "image/png": "[encoded data removed]"
          },
          "metadata": {
            "needs_background": "light"
          }
        }
      ]
    },
    {
      "cell_type": "code",
      "source": [
        "x_diff = np.diff(train_x)\n",
        "x_diff = np.append(x_diff, x_diff[-1])\n",
        "plt.plot(x_diff)\n",
        "plt.show()"
      ],
      "metadata": {
        "colab": {
          "base_uri": "https://localhost:8080/",
          "height": 265
        },
        "id": "YaPcDNKfuLk5",
        "outputId": "d819fd40-e9c7-4705-f302-ad038db988b2"
      },
      "execution_count": 87,
      "outputs": [
        {
          "output_type": "display_data",
          "data": {
            "text/plain": [
              "<Figure size 432x288 with 1 Axes>"
            ],
            "image/png": "[encoded data removed]"
          },
          "metadata": {
            "needs_background": "light"
          }
        }
      ]
    },
    {
      "cell_type": "code",
      "source": [
        "train_x_inc = train_x[x_diff >= 0]\n",
        "train_y_inc = train_y[x_diff >= 0]\n",
        "# plt.subplot(2, 1, 1)\n",
        "# plt.scatter(train_x_inc, train_y_inc)\n",
        "# plt.show()\n",
        "                                                    # from where i want to combine inc and dec condition\n",
        "train_x_dec = train_x[x_diff < 0]\n",
        "train_y_dec = train_y[x_diff < 0]\n",
        "#plt.subplot(2, 1, 2)\n",
        "plt.plot(train_x_inc, train_y_inc,',')\n",
        "plt.plot(train_x_dec, train_y_dec,',')\n",
        "plt.show()"
      ],
      "metadata": {
        "colab": {
          "base_uri": "https://localhost:8080/",
          "height": 265
        },
        "id": "JjbSEtICuLcD",
        "outputId": "b0a583ef-e9b7-45c7-e095-13ba5fcfd78e"
      },
      "execution_count": 16,
      "outputs": [
        {
          "output_type": "display_data",
          "data": {
            "text/plain": [
              "<Figure size 432x288 with 1 Axes>"
            ],
            "image/png": "[encoded data removed]"
          },
          "metadata": {
            "needs_background": "light"
          }
        }
      ]
    },
    {
      "cell_type": "code",
      "source": [
        "len(train_x_dec)\n"
      ],
      "metadata": {
        "colab": {
          "base_uri": "https://localhost:8080/"
        },
        "id": "UbDhOUiEWC7e",
        "outputId": "797c00a5-8db2-479a-b777-7c6457231da1"
      },
      "execution_count": 56,
      "outputs": [
        {
          "output_type": "execute_result",
          "data": {
            "text/plain": [
              "500"
            ]
          },
          "metadata": {},
          "execution_count": 56
        }
      ]
    },
    {
      "cell_type": "code",
      "source": [],
      "metadata": {
        "id": "wWNmlvk3X1_L"
      },
      "execution_count": null,
      "outputs": []
    },
    {
      "cell_type": "code",
      "source": [
        "def f_inc(x, xp, f_xp, a, b, c, d):\n",
        "    return (a - b*np.exp(-d*(xp - x)))*(x - xp) + c*f_xp\n",
        "                                                            \n",
        "                                                          # from where i want to combine inc and dec condition \n",
        "                                                          \n",
        "def f_dec(x, xp_dec , f_xp_dec, a, b, c, d):\n",
        "    return (a - b*np.exp(d*(xp_dec  - x)))*(x - xp_dec ) + c*f_xp_dec\n"
      ],
      "metadata": {
        "id": "GUTGhZOpveX2"
      },
      "execution_count": 21,
      "outputs": []
    },
    {
      "cell_type": "code",
      "source": [
        "print(minimas[0])"
      ],
      "metadata": {
        "colab": {
          "base_uri": "https://localhost:8080/"
        },
        "id": "1sF90KfTUD4B",
        "outputId": "4fa1dcd7-20ad-4ed9-b67f-af1309f2c39f"
      },
      "execution_count": 21,
      "outputs": [
        {
          "output_type": "stream",
          "name": "stdout",
          "text": [
            "500\n"
          ]
        }
      ]
    },
    {
      "cell_type": "code",
      "source": [
        "print(minimas[1:])"
      ],
      "metadata": {
        "colab": {
          "base_uri": "https://localhost:8080/"
        },
        "id": "Em5qz_-3UHBz",
        "outputId": "512d3f74-7924-4f68-916a-ef2c078900eb"
      },
      "execution_count": 22,
      "outputs": [
        {
          "output_type": "stream",
          "name": "stdout",
          "text": [
            "[1000 1500]\n"
          ]
        }
      ]
    },
    {
      "cell_type": "code",
      "source": [
        "def predict(x, maximas, a, b, c, d):\n",
        "    xp = maximas[0]\n",
        "    maximas = maximas[1:]\n",
        "    f_xp = 1 - np.exp(-xp)\n",
        "    f_x = np.zeros(x.shape)\n",
        "    for i in range(x.shape[0]):\n",
        "        f_x[i] = f_inc(x[i], xp, f_xp, a, b, c, d)\n",
        "        if x[i] == xp:\n",
        "            xp = maximas[0]\n",
        "            maximas = maximas[1:]\n",
        "            f_xp = 1 - np.exp(-xp)\n",
        "    return f_x\n",
        "                                            # from where i want to combine inc and dec condition \n",
        "def predict_dec(x, minimas, a, b, c, d):\n",
        "    xp_dec = minimas[0]\n",
        "    minimas = minimas[1:]\n",
        "    f_xp_dec = 1 - np.exp(xp_dec)\n",
        "    f_x_dec = np.zeros(x.shape)\n",
        "    for i in range(x.shape[0]):\n",
        "        f_x_dec[i] = f_dec(x[i], xp_dec, f_xp_dec, a, b, c, d)\n",
        "        if x[i] == xp_dec:\n",
        "            xp_dec = minimas[0]\n",
        "            minimas = minimas[1:]\n",
        "            f_x_dec = 1 - np.exp(xp_dec)\n",
        "    return f_x_dec"
      ],
      "metadata": {
        "id": "pNwvv5BAveT-"
      },
      "execution_count": 22,
      "outputs": []
    },
    {
      "cell_type": "code",
      "source": [
        "def cost_f_inc(x, y, maximas,  a, b, c, d):\n",
        "    y_pred_inc = predict(x, maximas, a, b, c, d)\n",
        "    return np.sum((y - y_pred_inc)**2)\n",
        "                                              # combining cost # from where i want to combine inc and dec condition \n",
        "def cost_f_dec(x, y, minimas,  a, b, c, d):\n",
        "    y_pred_d = predict_dec(x, minimas, a, b, c, d)\n",
        "    return np.sum((y - y_pred_d)**2)                                             "
      ],
      "metadata": {
        "id": "kiJpEx1yveRT"
      },
      "execution_count": 23,
      "outputs": []
    },
    {
      "cell_type": "code",
      "source": [
        "a_inc = 0.001\n",
        "b_inc = 0.001\n",
        "c_inc = 0.002\n",
        "d_inc = 0.001\n",
        "#same as above so replaced the name in inc and dec down cell code\n",
        "a_dec = 0.002\n",
        "b_dec = 0.001\n",
        "c_dec = 0.008\n",
        "d_dec = 0.001"
      ],
      "metadata": {
        "id": "BmoOkLfpvePV"
      },
      "execution_count": 24,
      "outputs": []
    },
    {
      "cell_type": "code",
      "source": [
        "predict_y = predict(train_x_inc, maximas_values, a_inc, b_inc, c_inc, d_inc)"
      ],
      "metadata": {
        "id": "cBy0wESFW1FQ"
      },
      "execution_count": 25,
      "outputs": []
    },
    {
      "cell_type": "code",
      "source": [
        "len(predict_y)"
      ],
      "metadata": {
        "colab": {
          "base_uri": "https://localhost:8080/"
        },
        "id": "6WCxM1SfW2Rw",
        "outputId": "44641e80-3061-49ae-ec8b-dcc539fc7ada"
      },
      "execution_count": 71,
      "outputs": [
        {
          "output_type": "execute_result",
          "data": {
            "text/plain": [
              "500"
            ]
          },
          "metadata": {},
          "execution_count": 71
        }
      ]
    },
    {
      "cell_type": "code",
      "source": [
        "predict_y = predict(train_x_inc, maximas_values, a_inc, b_inc, c_inc, d_inc)\n",
        "predict_y = ewma_vectorized(predict_y, 11)\n",
        "plt.subplot(2, 1, 1)\n",
        "plt.plot(train_x_inc, train_y_inc,',')\n",
        "plt.plot(train_x_inc, predict_y,',')\n",
        "plt.show()    \n",
        "                                                  #Combine \n",
        "y_pred_dec = predict(train_x_dec, minimas_values, a_dec, b_dec, c_dec, d_dec)\n",
        "y_pred_dec = ewma_vectorized(y_pred_dec, 11)\n",
        "plt.subplot(2, 1, 2)\n",
        "plt.plot(train_x_dec, train_y_dec,',')\n",
        "plt.plot(train_x_dec, y_pred_dec,',')\n",
        "plt.show()"
      ],
      "metadata": {
        "colab": {
          "base_uri": "https://localhost:8080/",
          "height": 277
        },
        "id": "qHftlMNhveLs",
        "outputId": "fb081fed-20fa-4600-da21-a8b10cd1c340"
      },
      "execution_count": 26,
      "outputs": [
        {
          "output_type": "display_data",
          "data": {
            "text/plain": [
              "<Figure size 432x288 with 1 Axes>"
            ],
            "image/png": "[encoded data removed]"
          },
          "metadata": {
            "needs_background": "light"
          }
        },
        {
          "output_type": "display_data",
          "data": {
            "text/plain": [
              "<Figure size 432x288 with 1 Axes>"
            ],
            "image/png": "[encoded data removed]"
          },
          "metadata": {
            "needs_background": "light"
          }
        }
      ]
    },
    {
      "cell_type": "code",
      "source": [
        "cost_1 = cost_f_inc(train_x_inc, train_y_inc, maximas_values, a_inc, b_inc, c_inc, d_inc)\n",
        "cost_1\n",
        "cost_2 = cost_f_dec(train_x_dec, train_y_dec, minimas_values, a_inc, b_inc, c_inc, d_inc)\n",
        "cost_2\n",
        "print(cost_1)\n",
        "print(cost_2)"
      ],
      "metadata": {
        "id": "4T6GCQ21veEa",
        "colab": {
          "base_uri": "https://localhost:8080/"
        },
        "outputId": "d59876d7-6dfd-4c64-fe2c-f7ceb0659904"
      },
      "execution_count": 27,
      "outputs": [
        {
          "output_type": "stream",
          "name": "stdout",
          "text": [
            "4.121356323632536\n",
            "5.885422767895849\n"
          ]
        }
      ]
    },
    {
      "cell_type": "code",
      "source": [
        "def grad_a(x, y, maximas, a, b, c, d):\n",
        "    y_pred = predict(x, maximas, a, b, c, d)\n",
        "    cost_deriv = 2*(y - y_pred)\n",
        "    a_deriv = np.zeros(x.shape)\n",
        "    xp = maximas[0]\n",
        "    maximas = maximas[1:]\n",
        "    for i in range(x.shape[0]):\n",
        "        a_deriv[i] = x[i] - xp\n",
        "        if x[i] == xp:\n",
        "            xp = maximas[0]\n",
        "            maximas = maximas[1:]\n",
        "    return np.sum(cost_deriv*a_deriv)\n",
        "\n",
        "\n",
        "def grad_b(x, y, maximas, a, b, c, d):\n",
        "    y_pred = predict(x, maximas, a, b, c, d)\n",
        "    c_deriv = 2*(y - y_pred)\n",
        "    b_deriv = np.zeros(x.shape)\n",
        "    xp = maximas[0]\n",
        "    maximas = maximas[1:]\n",
        "    for i in range(x.shape[0]):\n",
        "        b_deriv[i] = -np.exp(-d*(xp - x[i]))*(x[i] - xp)\n",
        "        if x[i] == xp:\n",
        "            xp = maximas[0]\n",
        "            maximas = maximas[1:]\n",
        "    return np.sum(c_deriv*b_deriv)\n",
        "\n",
        "\n",
        "def grad_c(x, y, maximas, a, b, c, d):\n",
        "    y_pred = predict(x, maximas, a, b, c, d)\n",
        "    cost_deriv = 2*(y - y_pred)\n",
        "    c_deriv = np.zeros(x.shape)\n",
        "    xp = maximas[0]\n",
        "    maximas = maximas[1:]\n",
        "    f_xp = 1 - np.exp(-xp)\n",
        "    for i in range(x.shape[0]):\n",
        "        c_deriv[i] = f_xp\n",
        "        if x[i] == xp:\n",
        "            xp = maximas[0]\n",
        "            maximas = maximas[1:]\n",
        "            f_xp = 1 - np.exp(-xp)\n",
        "    return np.sum(cost_deriv*c_deriv)\n",
        "\n",
        "\n",
        "def grad_d(x, y, maximas, a, b, c, d):\n",
        "    y_pred = predict(x, maximas, a, b, c, d)\n",
        "    cost_deriv = 2*(y - y_pred)\n",
        "    d_deriv = np.zeros(x.shape)\n",
        "    xp = maximas[0]\n",
        "    maximas = maximas[1:]\n",
        "    for i in range(x.shape[0]):\n",
        "        d_deriv[i] = b*np.exp(-d*(xp - x[i]))*(x[i] - xp)*(xp - x[i])\n",
        "        if x[i] == xp:\n",
        "            xp = maximas[0]\n",
        "            maximas = maximas[1:]\n",
        "    return np.sum(cost_deriv*d_deriv)"
      ],
      "metadata": {
        "id": "7n7NdqP7veBH"
      },
      "execution_count": 28,
      "outputs": []
    },
    {
      "cell_type": "code",
      "source": [
        "a_derv = grad_a(train_x_inc, train_y_inc, maximas_values, a_inc, b_inc, c_inc, d_inc)\n",
        "b_derv = grad_b(train_x_inc, train_y_inc, maximas_values, a_inc, b_inc, c_inc, d_inc)\n",
        "c_derv = grad_c(train_x_inc, train_y_inc, maximas_values, a_inc, b_inc, c_inc, d_inc)\n",
        "d_derv = grad_d(train_x_inc, train_y_inc, maximas_values, a_inc, b_inc, c_inc, d_inc)\n",
        "\n",
        "a_derv, b_derv, c_derv, d_derv"
      ],
      "metadata": {
        "id": "62DtacsRw2jo",
        "colab": {
          "base_uri": "https://localhost:8080/"
        },
        "outputId": "9fe88c4e-2087-4dff-f430-e66fc6da4c53"
      },
      "execution_count": 29,
      "outputs": [
        {
          "output_type": "execute_result",
          "data": {
            "text/plain": [
              "(-96.31848017930457,\n",
              " 96.04832078618475,\n",
              " 71.16694107335618,\n",
              " -0.26967566193909287)"
            ]
          },
          "metadata": {},
          "execution_count": 29
        }
      ]
    },
    {
      "cell_type": "code",
      "source": [
        "a_derv = grad_a(train_x_dec, train_y_dec, minimas_values, a_dec, b_dec, c_dec, d_dec)\n",
        "b_derv = grad_b(train_x_dec, train_y_dec, minimas_values, a_dec, b_dec, c_dec, d_dec)\n",
        "c_derv = grad_c(train_x_dec, train_y_dec, minimas_values, a_dec, b_dec, c_dec, d_dec)\n",
        "d_derv = grad_d(train_x_dec, train_y_dec, minimas_values, a_dec, b_dec, c_dec, d_dec)\n",
        "\n",
        "a_derv, b_derv, c_derv, d_derv"
      ],
      "metadata": {
        "colab": {
          "base_uri": "https://localhost:8080/"
        },
        "id": "xdqUntJSBx5c",
        "outputId": "57e4a623-751a-47b1-bcc0-8e9ddfe5d275"
      },
      "execution_count": 30,
      "outputs": [
        {
          "output_type": "execute_result",
          "data": {
            "text/plain": [
              "(384.02374967005295, -385.90676607811355, 0.0, -1.8879054779538644)"
            ]
          },
          "metadata": {},
          "execution_count": 30
        }
      ]
    },
    {
      "cell_type": "code",
      "source": [
        "def gradient_descent(x, y, maximas, a, b, c, d, alpha, iterations):\n",
        "    costs = []\n",
        "    for i in range(iterations):\n",
        "        y_pred = predict(x, maximas, a, b, c, d)\n",
        "        cost = cost_f_inc(x, y, maximas, a, b, c, d)\n",
        "        costs.append(cost)\n",
        "        if i % 100 == 0:\n",
        "            print(f'Iteration {i}, cost: {cost}')\n",
        "        a_grad = grad_a(x, y, maximas, a, b, c, d)\n",
        "        b_grad = grad_b(x, y, maximas, a, b, c, d)\n",
        "        c_grad = grad_c(x, y, maximas, a, b, c, d)\n",
        "        d_grad = grad_d(x, y, maximas, a, b, c, d)\n",
        "        a = a + alpha*a_grad\n",
        "        b = b + alpha*b_grad\n",
        "        c = c + alpha*c_grad\n",
        "        d = d + alpha*d_grad\n",
        "    return a, b, c, d, costs\n"
      ],
      "metadata": {
        "id": "o2mBjz5Xw6eh"
      },
      "execution_count": 31,
      "outputs": []
    },
    {
      "cell_type": "code",
      "source": [
        "a_inc, b_inc, c_inc, d_inc, costs = gradient_descent(\n",
        "    train_x_inc, train_y_inc, maximas_values, a_inc, b_inc, c_inc, d_inc, 0.00001, 10000)\n",
        "#combine\n",
        "a_dec, b_dec, c_dec, d_dec, costs = gradient_descent(\n",
        "    train_x_dec, train_y_dec, minimas_values, a_dec, b_dec, c_dec, d_dec, 0.00001, 10000)"
      ],
      "metadata": {
        "id": "dxH7IijXw2gW",
        "colab": {
          "base_uri": "https://localhost:8080/"
        },
        "outputId": "2a4ea26d-5d81-4579-a44d-3960fbf9355b"
      },
      "execution_count": 32,
      "outputs": [
        {
          "output_type": "stream",
          "name": "stdout",
          "text": [
            "Iteration 0, cost: 4.121356323632536\n",
            "Iteration 100, cost: 1.9701814767469024\n",
            "Iteration 200, cost: 1.0413995532652356\n",
            "Iteration 300, cost: 0.5533898615464172\n",
            "Iteration 400, cost: 0.2970861300951288\n",
            "Iteration 500, cost: 0.16257903850558875\n",
            "Iteration 600, cost: 0.09204316444354513\n",
            "Iteration 700, cost: 0.05507380151688962\n",
            "Iteration 800, cost: 0.03570110256667909\n",
            "Iteration 900, cost: 0.025546229716215223\n",
            "Iteration 1000, cost: 0.02021728186987428\n",
            "Iteration 1100, cost: 0.017413911414731614\n",
            "Iteration 1200, cost: 0.015931937314941635\n",
            "Iteration 1300, cost: 0.015141241638512656\n",
            "Iteration 1400, cost: 0.01471218049673427\n",
            "Iteration 1500, cost: 0.014472324419125092\n",
            "Iteration 1600, cost: 0.014331482278153814\n",
            "Iteration 1700, cost: 0.014242475766342761\n",
            "Iteration 1800, cost: 0.014180622159444848\n",
            "Iteration 1900, cost: 0.014133003907617864\n",
            "Iteration 2000, cost: 0.014092856951529975\n",
            "Iteration 2100, cost: 0.014056635955541411\n",
            "Iteration 2200, cost: 0.014022479424851617\n",
            "Iteration 2300, cost: 0.013989406897993785\n",
            "Iteration 2400, cost: 0.013956899001808916\n",
            "Iteration 2500, cost: 0.013924677753161764\n",
            "Iteration 2600, cost: 0.013892591605591254\n",
            "Iteration 2700, cost: 0.013860555292451912\n",
            "Iteration 2800, cost: 0.01382851834024542\n",
            "Iteration 2900, cost: 0.013796448584736509\n",
            "Iteration 3000, cost: 0.013764323539101918\n",
            "Iteration 3100, cost: 0.013732125872325762\n",
            "Iteration 3200, cost: 0.013699841039574017\n",
            "Iteration 3300, cost: 0.013667456039523743\n",
            "Iteration 3400, cost: 0.013634958762024555\n",
            "Iteration 3500, cost: 0.013602337645109139\n",
            "Iteration 3600, cost: 0.013569581494199682\n",
            "Iteration 3700, cost: 0.013536679386429436\n",
            "Iteration 3800, cost: 0.013503620619695999\n",
            "Iteration 3900, cost: 0.013470394685284087\n",
            "Iteration 4000, cost: 0.01343699125296606\n",
            "Iteration 4100, cost: 0.013403400162764539\n",
            "Iteration 4200, cost: 0.013369611420327644\n",
            "Iteration 4300, cost: 0.013335615194316057\n",
            "Iteration 4400, cost: 0.013301401814961825\n",
            "Iteration 4500, cost: 0.01326696177335673\n",
            "Iteration 4600, cost: 0.013232285721236851\n",
            "Iteration 4700, cost: 0.013197364471139473\n",
            "Iteration 4800, cost: 0.013162188996865776\n",
            "Iteration 4900, cost: 0.013126750434212384\n",
            "Iteration 5000, cost: 0.0130910400819508\n",
            "Iteration 5100, cost: 0.013055049403041445\n",
            "Iteration 5200, cost: 0.013018770026073396\n",
            "Iteration 5300, cost: 0.01298219374692285\n",
            "Iteration 5400, cost: 0.012945312530624439\n",
            "Iteration 5500, cost: 0.012908118513449656\n",
            "Iteration 5600, cost: 0.012870604005187225\n",
            "Iteration 5700, cost: 0.012832761491619792\n",
            "Iteration 5800, cost: 0.01279458363719145\n",
            "Iteration 5900, cost: 0.012756063287860293\n",
            "Iteration 6000, cost: 0.012717193474130188\n",
            "Iteration 6100, cost: 0.012677967414255541\n",
            "Iteration 6200, cost: 0.012638378517612698\n",
            "Iteration 6300, cost: 0.012598420388231425\n",
            "Iteration 6400, cost: 0.012558086828479635\n",
            "Iteration 6500, cost: 0.012517371842894115\n",
            "Iteration 6600, cost: 0.012476269642150057\n",
            "Iteration 6700, cost: 0.01243477464716156\n",
            "Iteration 6800, cost: 0.012392881493305294\n",
            "Iteration 6900, cost: 0.012350585034758907\n",
            "Iteration 7000, cost: 0.012307880348945742\n",
            "Iteration 7100, cost: 0.012264762741076924\n",
            "Iteration 7200, cost: 0.012221227748781607\n",
            "Iteration 7300, cost: 0.012177271146815861\n",
            "Iteration 7400, cost: 0.012132888951840328\n",
            "Iteration 7500, cost: 0.01208807742725647\n",
            "Iteration 7600, cost: 0.012042833088090853\n",
            "Iteration 7700, cost: 0.011997152705916593\n",
            "Iteration 7800, cost: 0.01195103331380084\n",
            "Iteration 7900, cost: 0.011904472211266594\n",
            "Iteration 8000, cost: 0.01185746696925722\n",
            "Iteration 8100, cost: 0.011810015435091307\n",
            "Iteration 8200, cost: 0.011762115737395456\n",
            "Iteration 8300, cost: 0.011713766291002212\n",
            "Iteration 8400, cost: 0.011664965801800048\n",
            "Iteration 8500, cost: 0.011615713271521999\n",
            "Iteration 8600, cost: 0.011566008002459396\n",
            "Iteration 8700, cost: 0.011515849602086816\n",
            "Iteration 8800, cost: 0.011465237987584139\n",
            "Iteration 8900, cost: 0.011414173390241441\n",
            "Iteration 9000, cost: 0.011362656359732234\n",
            "Iteration 9100, cost: 0.01131068776824046\n",
            "Iteration 9200, cost: 0.01125826881442647\n",
            "Iteration 9300, cost: 0.011205401027217093\n",
            "Iteration 9400, cost: 0.011152086269405\n",
            "Iteration 9500, cost: 0.011098326741042205\n",
            "Iteration 9600, cost: 0.011044124982612995\n",
            "Iteration 9700, cost: 0.010989483877971164\n",
            "Iteration 9800, cost: 0.010934406657026843\n",
            "Iteration 9900, cost: 0.010878896898168105\n",
            "Iteration 0, cost: 5.49850445882821\n",
            "Iteration 100, cost: 0.06597476731938393\n",
            "Iteration 200, cost: 0.06563705723845363\n",
            "Iteration 300, cost: 0.0653029759884968\n",
            "Iteration 400, cost: 0.06497120370201644\n",
            "Iteration 500, cost: 0.06464047555516741\n",
            "Iteration 600, cost: 0.06430957573726509\n",
            "Iteration 700, cost: 0.0639773322107313\n",
            "Iteration 800, cost: 0.06364261219535387\n",
            "Iteration 900, cost: 0.06330431832218278\n",
            "Iteration 1000, cost: 0.06296138541211192\n",
            "Iteration 1100, cost: 0.06261277784243725\n",
            "Iteration 1200, cost: 0.06225748747162084\n",
            "Iteration 1300, cost: 0.061894532098274224\n",
            "Iteration 1400, cost: 0.06152295443510915\n",
            "Iteration 1500, cost: 0.06114182158237409\n",
            "Iteration 1600, cost: 0.06075022498815821\n",
            "Iteration 1700, cost: 0.060347280884941304\n",
            "Iteration 1800, cost: 0.05993213119292567\n",
            "Iteration 1900, cost: 0.059503944881015416\n",
            "Iteration 2000, cost: 0.05906191977582305\n",
            "Iteration 2100, cost: 0.05860528480777947\n",
            "Iteration 2200, cost: 0.05813330268131065\n",
            "Iteration 2300, cost: 0.05764527295312448\n",
            "Iteration 2400, cost: 0.05714053549893891\n",
            "Iteration 2500, cost: 0.05661847434450275\n",
            "Iteration 2600, cost: 0.056078521831548\n",
            "Iteration 2700, cost: 0.05552016308342661\n",
            "Iteration 2800, cost: 0.054942940728700984\n",
            "Iteration 2900, cost: 0.054346459833977886\n",
            "Iteration 3000, cost: 0.05373039298993106\n",
            "Iteration 3100, cost: 0.05309448548690476\n",
            "Iteration 3200, cost: 0.05243856050891879\n",
            "Iteration 3300, cost: 0.051762524267522404\n",
            "Iteration 3400, cost: 0.05106637099001412\n",
            "Iteration 3500, cost: 0.050350187670328714\n",
            "Iteration 3600, cost: 0.049614158485676435\n",
            "Iteration 3700, cost: 0.04885856877810334\n",
            "Iteration 3800, cost: 0.048083808497826404\n",
            "Iteration 3900, cost: 0.04729037500477272\n",
            "Iteration 4000, cost: 0.04647887512648681\n",
            "Iteration 4100, cost: 0.045650026374699185\n",
            "Iteration 4200, cost: 0.04480465722954924\n",
            "Iteration 4300, cost: 0.04394370640984756\n",
            "Iteration 4400, cost: 0.043068221059878\n",
            "Iteration 4500, cost: 0.04217935379802898\n",
            "Iteration 4600, cost: 0.04127835858984848\n",
            "Iteration 4700, cost: 0.0403665854276819\n",
            "Iteration 4800, cost: 0.03944547382050721\n",
            "Iteration 4900, cost: 0.03851654512046464\n",
            "Iteration 5000, cost: 0.03758139373632606\n",
            "Iteration 5100, cost: 0.036641677308127896\n",
            "Iteration 5200, cost: 0.03569910594071031\n",
            "Iteration 5300, cost: 0.034755430616239896\n",
            "Iteration 5400, cost: 0.033812430926222506\n",
            "Iteration 5500, cost: 0.03287190228133853\n",
            "Iteration 5600, cost: 0.03193564277202319\n",
            "Iteration 5700, cost: 0.031005439863522673\n",
            "Iteration 5800, cost: 0.0300830571157577\n",
            "Iteration 5900, cost: 0.02917022112042906\n",
            "Iteration 6000, cost: 0.028268608845276974\n",
            "Iteration 6100, cost: 0.027379835568282232\n",
            "Iteration 6200, cost: 0.026505443573074477\n",
            "Iteration 6300, cost: 0.02564689176123739\n",
            "Iteration 6400, cost: 0.024805546318068777\n",
            "Iteration 6500, cost: 0.023982672546277343\n",
            "Iteration 6600, cost: 0.023179427957775688\n",
            "Iteration 6700, cost: 0.022396856687935056\n",
            "Iteration 6800, cost: 0.02163588527017681\n",
            "Iteration 6900, cost: 0.02089731978238866\n",
            "Iteration 7000, cost: 0.02018184435110037\n",
            "Iteration 7100, cost: 0.01949002097532565\n",
            "Iteration 7200, cost: 0.01882229061005767\n",
            "Iteration 7300, cost: 0.018178975430078757\n",
            "Iteration 7400, cost: 0.017560282178378323\n",
            "Iteration 7500, cost: 0.016966306490302927\n",
            "Iteration 7600, cost: 0.01639703807471144\n",
            "Iteration 7700, cost: 0.015852366626874285\n",
            "Iteration 7800, cost: 0.01533208834453675\n",
            "Iteration 7900, cost: 0.014835912918265888\n",
            "Iteration 8000, cost: 0.01436347086964812\n",
            "Iteration 8100, cost: 0.01391432111577174\n",
            "Iteration 8200, cost: 0.013487958645350491\n",
            "Iteration 8300, cost: 0.013083822200433276\n",
            "Iteration 8400, cost: 0.012701301867506995\n",
            "Iteration 8500, cost: 0.012339746492553807\n",
            "Iteration 8600, cost: 0.011998470845907997\n",
            "Iteration 8700, cost: 0.011676762474238312\n",
            "Iteration 8800, cost: 0.01137388818836782\n",
            "Iteration 8900, cost: 0.011089100146680889\n",
            "Iteration 9000, cost: 0.01082164150434799\n",
            "Iteration 9100, cost: 0.010570751608360303\n",
            "Iteration 9200, cost: 0.010335670727284859\n",
            "Iteration 9300, cost: 0.010115644312645583\n",
            "Iteration 9400, cost: 0.009909926795860637\n",
            "Iteration 9500, cost: 0.009717784930707945\n",
            "Iteration 9600, cost: 0.009538500696360414\n",
            "Iteration 9700, cost: 0.009371373780166087\n",
            "Iteration 9800, cost: 0.00921572366259869\n",
            "Iteration 9900, cost: 0.009070891329235681\n"
          ]
        }
      ]
    },
    {
      "cell_type": "code",
      "source": [
        "#cost:  0.010878896898168105 is for inc\n",
        "#cost: 0.009070891329235681 is for dec"
      ],
      "metadata": {
        "id": "txbNEIw8gkfV"
      },
      "execution_count": null,
      "outputs": []
    },
    {
      "cell_type": "code",
      "source": [
        "print(maximas_values)"
      ],
      "metadata": {
        "colab": {
          "base_uri": "https://localhost:8080/"
        },
        "id": "UmBAn1XTf2Gn",
        "outputId": "85ae43bb-f6a5-4eee-fd24-5ee87f255905"
      },
      "execution_count": 97,
      "outputs": [
        {
          "output_type": "stream",
          "name": "stdout",
          "text": [
            "[6. 6.]\n"
          ]
        }
      ]
    },
    {
      "cell_type": "code",
      "source": [
        "print(minimas_values)"
      ],
      "metadata": {
        "colab": {
          "base_uri": "https://localhost:8080/"
        },
        "id": "mHRzcPN4f_5T",
        "outputId": "8934776d-dc29-4cc6-de6d-e07fcaf52f5f"
      },
      "execution_count": 98,
      "outputs": [
        {
          "output_type": "stream",
          "name": "stdout",
          "text": [
            "[0.]\n"
          ]
        }
      ]
    },
    {
      "cell_type": "code",
      "source": [
        "print(a_inc, b_inc, c_inc, d_inc)"
      ],
      "metadata": {
        "colab": {
          "base_uri": "https://localhost:8080/"
        },
        "id": "Sxofef8VfljC",
        "outputId": "b6329d37-4e2d-4233-8847-a3e44493d290"
      },
      "execution_count": 33,
      "outputs": [
        {
          "output_type": "stream",
          "name": "stdout",
          "text": [
            "0.010868005037489373 -0.017012365216049014 0.15421366816453613 0.015525828736123142\n"
          ]
        }
      ]
    },
    {
      "cell_type": "code",
      "source": [
        "print(a_dec, b_dec, c_dec, d_dec)"
      ],
      "metadata": {
        "colab": {
          "base_uri": "https://localhost:8080/"
        },
        "id": "egWExbQUfqzD",
        "outputId": "883d9758-4eda-44cc-bfe9-311777885c62"
      },
      "execution_count": 34,
      "outputs": [
        {
          "output_type": "stream",
          "name": "stdout",
          "text": [
            "-0.00786765333166358 -0.04918478921814827 0.008 -0.05638100186589827\n"
          ]
        }
      ]
    },
    {
      "cell_type": "code",
      "source": [
        "y_pred_inc = predict(train_x_inc, maximas_values, a_inc, b_inc, c_inc, d_inc)\n",
        "y_pred_inc = ewma_vectorized(y_pred_inc, 11)\n",
        "plt.subplot(2, 1, 1)\n",
        "plt.scatter(train_x_inc, train_y_inc)\n",
        "plt.scatter(train_x_inc, y_pred_inc)\n",
        "plt.show()\n",
        "                                        #combine\n",
        "y_pred_dec = predict(train_x_dec, minimas_values, a_dec, b_dec, c_dec, d_dec)\n",
        "y_pred_dec = ewma_vectorized(y_pred_dec, 11)\n",
        "plt.subplot(2, 1, 2)\n",
        "plt.scatter(train_x_dec, train_y_dec)\n",
        "plt.scatter(train_x_dec, y_pred_dec)\n",
        "plt.show()\n"
      ],
      "metadata": {
        "id": "R9HH6Q55w2da",
        "colab": {
          "base_uri": "https://localhost:8080/",
          "height": 277
        },
        "outputId": "8f220c15-0a9c-47f5-e1d7-3199b5e81697"
      },
      "execution_count": 35,
      "outputs": [
        {
          "output_type": "display_data",
          "data": {
            "text/plain": [
              "<Figure size 432x288 with 1 Axes>"
            ],
            "image/png": "[encoded data removed]"
          },
          "metadata": {
            "needs_background": "light"
          }
        },
        {
          "output_type": "display_data",
          "data": {
            "text/plain": [
              "<Figure size 432x288 with 1 Axes>"
            ],
            "image/png": "[encoded data removed]"
          },
          "metadata": {
            "needs_background": "light"
          }
        }
      ]
    },
    {
      "cell_type": "code",
      "source": [
        "plt.scatter(train_x_inc, train_y_inc,c='b')\n",
        "plt.scatter(train_x_inc, y_pred_inc,c='r')\n",
        "plt.scatter(train_x_dec, train_y_dec,c='b')\n",
        "plt.scatter(train_x_dec, y_pred_dec,c='r')\n",
        "plt.show()"
      ],
      "metadata": {
        "colab": {
          "base_uri": "https://localhost:8080/",
          "height": 265
        },
        "id": "QEA2PtDacMo7",
        "outputId": "0a92d7a9-988e-467f-e8e4-19bc271ac621"
      },
      "execution_count": 36,
      "outputs": [
        {
          "output_type": "display_data",
          "data": {
            "text/plain": [
              "<Figure size 432x288 with 1 Axes>"
            ],
            "image/png": "[encoded data removed]"
          },
          "metadata": {
            "needs_background": "light"
          }
        }
      ]
    },
    {
      "cell_type": "code",
      "source": [],
      "metadata": {
        "id": "hL9NVocE3iJF"
      },
      "execution_count": null,
      "outputs": []
    },
    {
      "cell_type": "code",
      "source": [
        "import sklearn\n"
      ],
      "metadata": {
        "id": "6t7K-3WhhWAE"
      },
      "execution_count": 40,
      "outputs": []
    },
    {
      "cell_type": "code",
      "source": [
        "y_pred_inc=y_pred_inc.flatten()"
      ],
      "metadata": {
        "id": "kLvuNFKoR5qJ"
      },
      "execution_count": 408,
      "outputs": []
    },
    {
      "cell_type": "code",
      "source": [
        "# dtype=np.int32\n",
        "y_pred_inc.dtype"
      ],
      "metadata": {
        "colab": {
          "base_uri": "https://localhost:8080/"
        },
        "id": "gDp7VVOBSf8n",
        "outputId": "1482fc6e-d242-4f53-d556-93f5d654d0d9"
      },
      "execution_count": 410,
      "outputs": [
        {
          "output_type": "execute_result",
          "data": {
            "text/plain": [
              "dtype('float64')"
            ]
          },
          "metadata": {},
          "execution_count": 410
        }
      ]
    },
    {
      "cell_type": "code",
      "source": [
        " y_pred_inc= y_pred_inc.astype(np.float32)"
      ],
      "metadata": {
        "id": "r3dGrAjDW1Tc"
      },
      "execution_count": 420,
      "outputs": []
    },
    {
      "cell_type": "code",
      "source": [
        "y_pred_inc.dtype"
      ],
      "metadata": {
        "colab": {
          "base_uri": "https://localhost:8080/"
        },
        "id": "tzRf1UGfXtzG",
        "outputId": "edf44be2-4d0c-41ae-9c35-88266adeccf9"
      },
      "execution_count": 421,
      "outputs": [
        {
          "output_type": "execute_result",
          "data": {
            "text/plain": [
              "dtype('float32')"
            ]
          },
          "metadata": {},
          "execution_count": 421
        }
      ]
    },
    {
      "cell_type": "code",
      "source": [
        "y_pred=y_pred_inc+y_pred_dec"
      ],
      "metadata": {
        "id": "pFZ9xTvGLG8-"
      },
      "execution_count": 67,
      "outputs": []
    },
    {
      "cell_type": "code",
      "source": [
        "train_y=train_y_inc+train_y_dec"
      ],
      "metadata": {
        "id": "7NmglcyfLRTa"
      },
      "execution_count": 68,
      "outputs": []
    },
    {
      "cell_type": "code",
      "source": [
        "rms=sklearn.metrics.mean_squared_error(train_y_inc, y_pred_inc)  \n",
        "print(rms)"
      ],
      "metadata": {
        "colab": {
          "base_uri": "https://localhost:8080/"
        },
        "id": "WSocwU8qhThK",
        "outputId": "6d6a4091-589f-44a1-f469-90422f372a95"
      },
      "execution_count": 41,
      "outputs": [
        {
          "output_type": "stream",
          "name": "stdout",
          "text": [
            "7.576878080592761e-05\n"
          ]
        }
      ]
    },
    {
      "cell_type": "code",
      "source": [
        "rms_c=sklearn.metrics.mean_squared_error(train_y, y_pred)\n",
        "print(rms_c)"
      ],
      "metadata": {
        "colab": {
          "base_uri": "https://localhost:8080/"
        },
        "id": "egdxEUeyLPet",
        "outputId": "894b423e-788b-4ecd-a972-b292f5640f9d"
      },
      "execution_count": 70,
      "outputs": [
        {
          "output_type": "stream",
          "name": "stdout",
          "text": [
            "4.9900656689356586e-05\n"
          ]
        }
      ]
    },
    {
      "cell_type": "code",
      "source": [
        "plt.plot(train_y)\n",
        "plt.plot(y_pred)\n",
        "plt.show()"
      ],
      "metadata": {
        "colab": {
          "base_uri": "https://localhost:8080/",
          "height": 265
        },
        "id": "nU-eGEKDLjv6",
        "outputId": "4ea80279-3bd1-4ae0-a1bb-c241cdbf9040"
      },
      "execution_count": 76,
      "outputs": [
        {
          "output_type": "display_data",
          "data": {
            "text/plain": [
              "<Figure size 432x288 with 1 Axes>"
            ],
            "image/png": "[encoded data removed]"
          },
          "metadata": {
            "needs_background": "light"
          }
        }
      ]
    },
    {
      "cell_type": "code",
      "source": [
        "plt.plot(train_x_inc,y_pred_inc)\n",
        "# plt.scatter(train_x_inc,y_pred_inc)\n",
        "# plt.scatter(train_x_inc,y_pred_inc)\n",
        "# plt.show()"
      ],
      "metadata": {
        "colab": {
          "base_uri": "https://localhost:8080/",
          "height": 285
        },
        "id": "O9VTBHdGH2Nc",
        "outputId": "b9b27e26-3117-45f9-cd4c-b96db0d144cd"
      },
      "execution_count": 84,
      "outputs": [
        {
          "output_type": "execute_result",
          "data": {
            "text/plain": [
              "[<matplotlib.lines.Line2D at 0x7f3fdab90730>]"
            ]
          },
          "metadata": {},
          "execution_count": 84
        },
        {
          "output_type": "display_data",
          "data": {
            "text/plain": [
              "<Figure size 432x288 with 1 Axes>"
            ],
            "image/png": "[encoded data removed]"
          },
          "metadata": {
            "needs_background": "light"
          }
        }
      ]
    },
    {
      "cell_type": "code",
      "source": [
        "error=y_pred_inc-train_y_inc\n",
        "plt.plot(error)   \n",
        "# plt.xlabel('Time (s)')\n",
        "# plt.ylabel('Error signal')\n",
        "plt.show()"
      ],
      "metadata": {
        "colab": {
          "base_uri": "https://localhost:8080/",
          "height": 265
        },
        "id": "OIEoV52uOmdm",
        "outputId": "3d96121c-e2fa-4c09-def9-e18da9054f0a"
      },
      "execution_count": 42,
      "outputs": [
        {
          "output_type": "display_data",
          "data": {
            "text/plain": [
              "<Figure size 432x288 with 1 Axes>"
            ],
            "image/png": "[encoded data removed]"
          },
          "metadata": {
            "needs_background": "light"
          }
        }
      ]
    },
    {
      "cell_type": "code",
      "source": [
        "import numpy as np\n",
        "import matplotlib.pyplot as plt\n",
        "\n",
        "# Set sampling frequency and duration\n",
        "fs = 5000  # Hz\n",
        "duration = .1  # seconds\n",
        "\n",
        "# Generate time array\n",
        "t = np.arange(duration * fs) / fs\n",
        "# # Generate actual and predicted sine wave signals\n",
        "# freq = 2  # Hz\n",
        "# actual_signal = np.sin(2 * np.pi * freq * t)\n",
        "# predicted_signal = np.sin(2 * np.pi * (freq + 0.2) * t)\n",
        "\n",
        "# # Compute error signal\n",
        "# error_signal = actual_signal - predicted_signal\n",
        "error_signal=error\n",
        "# Plot error signal\n",
        "plt.plot(t, error_signal)\n",
        "plt.xlabel('Time (s)')\n",
        "plt.ylabel('Error signal')\n",
        "plt.show()\n"
      ],
      "metadata": {
        "colab": {
          "base_uri": "https://localhost:8080/",
          "height": 279
        },
        "id": "Yx8EhAX0KOL3",
        "outputId": "48c490b6-7ef2-4eaa-c566-0a87f56b49e7"
      },
      "execution_count": 66,
      "outputs": [
        {
          "output_type": "display_data",
          "data": {
            "text/plain": [
              "<Figure size 432x288 with 1 Axes>"
            ],
            "image/png": "[encoded data removed]"
          },
          "metadata": {
            "needs_background": "light"
          }
        }
      ]
    },
    {
      "cell_type": "code",
      "source": [
        "rms2=sklearn.metrics.mean_squared_error(train_y_dec, y_pred_dec)  \n",
        "print(rms2)"
      ],
      "metadata": {
        "colab": {
          "base_uri": "https://localhost:8080/"
        },
        "id": "sPpUSZmXh2FP",
        "outputId": "f068d2c0-da85-4b4b-d522-a4d602be93a2"
      },
      "execution_count": 400,
      "outputs": [
        {
          "output_type": "stream",
          "name": "stdout",
          "text": [
            "9.580856830133197e-05\n"
          ]
        }
      ]
    },
    {
      "cell_type": "code",
      "source": [
        "plt.plot(train_y_inc,rms1)"
      ],
      "metadata": {
        "id": "SWfjXGoQOYBS"
      },
      "execution_count": null,
      "outputs": []
    },
    {
      "cell_type": "code",
      "source": [
        "rms=sklearn.metrics.mean_squared_error(train_y_inc,y_pred_dec)\n",
        "rms=sklearn.metrics.mean_squared_error(train_y_dec,y_pred_dec)\n"
      ],
      "metadata": {
        "id": "qgl55E1vN69p"
      },
      "execution_count": null,
      "outputs": []
    },
    {
      "cell_type": "code",
      "source": [
        "cost = cost_f_inc(train_x_inc, train_y_inc, maximas_values, a_inc, b_inc, c_inc, d_inc)\n",
        "cost"
      ],
      "metadata": {
        "id": "_ju7cyYrNYGW",
        "colab": {
          "base_uri": "https://localhost:8080/"
        },
        "outputId": "dd38e561-da42-43cb-f8f3-c57af7b8aa31"
      },
      "execution_count": 235,
      "outputs": [
        {
          "output_type": "execute_result",
          "data": {
            "text/plain": [
              "0.010822958530402868"
            ]
          },
          "metadata": {},
          "execution_count": 235
        }
      ]
    },
    {
      "cell_type": "code",
      "source": [
        "cost = cost_f_dec(train_x_dec, train_y_dec, minimas_values, a_dec, b_dec, c_dec, d_dec)\n",
        "cost"
      ],
      "metadata": {
        "colab": {
          "base_uri": "https://localhost:8080/"
        },
        "id": "BXNwipNz6Lyt",
        "outputId": "11096ff6-0f7a-45a5-985c-b54aa7904710"
      },
      "execution_count": 236,
      "outputs": [
        {
          "output_type": "execute_result",
          "data": {
            "text/plain": [
              "5.716993181846701"
            ]
          },
          "metadata": {},
          "execution_count": 236
        }
      ]
    },
    {
      "cell_type": "code",
      "source": [
        "#want to find error signal\n"
      ],
      "metadata": {
        "id": "8v_I6I7yDyt1"
      },
      "execution_count": null,
      "outputs": []
    },
    {
      "cell_type": "markdown",
      "source": [
        "#from here we want to implement the purpose model for validation"
      ],
      "metadata": {
        "id": "jpwy0luq1V_3"
      }
    },
    {
      "cell_type": "code",
      "source": [
        "import pandas as pd\n",
        "import numpy as np\n",
        "import matplotlib.pyplot as plt\n",
        "from scipy import signal\n",
        "from sklearn.model_selection import train_test_split"
      ],
      "metadata": {
        "id": "kSWOd6_d3Oja"
      },
      "execution_count": 447,
      "outputs": []
    },
    {
      "cell_type": "code",
      "source": [
        "df_2 =pd.read_excel('/content/100khz.xlsx')\n",
        "train_x_v = np.array(df_2['x'], dtype=np.float64)\n",
        "train_y_v = np.array(df_2['y'], dtype=np.float64)"
      ],
      "metadata": {
        "id": "EqBL8PMx3XL-"
      },
      "execution_count": 448,
      "outputs": []
    },
    {
      "cell_type": "code",
      "source": [
        "df_2 = df_2[df_2 != 0]\n",
        "df_2 =df_2 .dropna()"
      ],
      "metadata": {
        "id": "0AsOneo54TiZ"
      },
      "execution_count": 449,
      "outputs": []
    },
    {
      "cell_type": "code",
      "source": [
        "print(train_x_v.shape, train_y_v.shape)"
      ],
      "metadata": {
        "colab": {
          "base_uri": "https://localhost:8080/"
        },
        "id": "XG1ZGSlA4acP",
        "outputId": "62ed970d-2a85-4340-d0c0-0b2e040c6364"
      },
      "execution_count": 450,
      "outputs": [
        {
          "output_type": "stream",
          "name": "stdout",
          "text": [
            "(2001,) (2001,)\n"
          ]
        }
      ]
    },
    {
      "cell_type": "code",
      "source": [
        "n_train_v = 1000\n",
        "train_x_v = train_x_v[:n_train_v]\n",
        "train_y_v = train_y_v[:n_train_v]\n"
      ],
      "metadata": {
        "id": "WnPwk4XAJZ31"
      },
      "execution_count": 451,
      "outputs": []
    },
    {
      "cell_type": "code",
      "source": [
        "print(train_x_v.shape, train_y_v.shape)"
      ],
      "metadata": {
        "colab": {
          "base_uri": "https://localhost:8080/"
        },
        "id": "AdLWrJ2WJkhA",
        "outputId": "6e6ebe69-b41f-4986-d35f-71e69f4d2854"
      },
      "execution_count": 452,
      "outputs": [
        {
          "output_type": "stream",
          "name": "stdout",
          "text": [
            "(1000,) (1000,)\n"
          ]
        }
      ]
    },
    {
      "cell_type": "code",
      "source": [
        "plt.plot(train_x_v)\n",
        "plt.show()"
      ],
      "metadata": {
        "colab": {
          "base_uri": "https://localhost:8080/",
          "height": 265
        },
        "id": "37zhdmYY4d-l",
        "outputId": "5b156741-824a-45c7-cf24-99c6b77c8426"
      },
      "execution_count": 453,
      "outputs": [
        {
          "output_type": "display_data",
          "data": {
            "text/plain": [
              "<Figure size 432x288 with 1 Axes>"
            ],
            "image/png": "[encoded data removed]"
          },
          "metadata": {
            "needs_background": "light"
          }
        }
      ]
    },
    {
      "cell_type": "code",
      "source": [
        "plt.plot(train_y_v)\n",
        "plt.show()"
      ],
      "metadata": {
        "colab": {
          "base_uri": "https://localhost:8080/",
          "height": 265
        },
        "id": "RHsmlgLj4xf4",
        "outputId": "239c5a97-eaae-42b2-b6ff-0e3b68f0e7db"
      },
      "execution_count": 454,
      "outputs": [
        {
          "output_type": "display_data",
          "data": {
            "text/plain": [
              "<Figure size 432x288 with 1 Axes>"
            ],
            "image/png": "[encoded data removed]"
          },
          "metadata": {
            "needs_background": "light"
          }
        }
      ]
    },
    {
      "cell_type": "code",
      "source": [
        "plt.plot(train_x_v, train_y_v)\n",
        "plt.show()"
      ],
      "metadata": {
        "colab": {
          "base_uri": "https://localhost:8080/",
          "height": 265
        },
        "id": "gprjD_sk41Ij",
        "outputId": "1b8fe3d8-5af2-4737-90b1-fb35b6964dd1"
      },
      "execution_count": 455,
      "outputs": [
        {
          "output_type": "display_data",
          "data": {
            "text/plain": [
              "<Figure size 432x288 with 1 Axes>"
            ],
            "image/png": "[encoded data removed]"
          },
          "metadata": {
            "needs_background": "light"
          }
        }
      ]
    },
    {
      "cell_type": "code",
      "source": [
        "def ewma_vectorized(data, window):\n",
        "    alpha = 3 /(window + 3)\n",
        "    alpha_rev = 1 - alpha\n",
        "\n",
        "    scale = 1/alpha_rev\n",
        "    n = data.shape[0]\n",
        "\n",
        "    r = np.arange(n)\n",
        "    scale_arr = scale**r\n",
        "    offset = data[0]*alpha_rev**(r+2)\n",
        "    pw0 = alpha*alpha_rev**(n-1)\n",
        "\n",
        "    mult = data*pw0*scale_arr\n",
        "    cumsums = mult.cumsum()\n",
        "    out = offset + cumsums*scale_arr[::-1]\n",
        "    return out"
      ],
      "metadata": {
        "id": "i7cG_Ncb45sl"
      },
      "execution_count": 456,
      "outputs": []
    },
    {
      "cell_type": "code",
      "source": [
        "from numpy.lib.function_base import vectorize\n",
        "train_y_v = ewma_vectorized(train_y_v, 12)\n",
        "#train_x_v=ewma_vectorized(train_x_v,12)\n",
        "plt.plot(train_x_v, train_y_v)\n",
        "plt.show()"
      ],
      "metadata": {
        "colab": {
          "base_uri": "https://localhost:8080/",
          "height": 265
        },
        "id": "rFnDVlYX48aX",
        "outputId": "a46a9a90-3e62-48eb-df41-cbbe570cfd5c"
      },
      "execution_count": 457,
      "outputs": [
        {
          "output_type": "display_data",
          "data": {
            "text/plain": [
              "<Figure size 432x288 with 1 Axes>"
            ],
            "image/png": "[encoded data removed]"
          },
          "metadata": {
            "needs_background": "light"
          }
        }
      ]
    },
    {
      "cell_type": "code",
      "source": [
        "print(train_x_v.shape, train_y_v.shape)"
      ],
      "metadata": {
        "colab": {
          "base_uri": "https://localhost:8080/"
        },
        "id": "j6-JJ78sZCbh",
        "outputId": "efa0ed44-595c-40bf-b48b-0a6a130e2ddd"
      },
      "execution_count": 458,
      "outputs": [
        {
          "output_type": "stream",
          "name": "stdout",
          "text": [
            "(1000,) (1000,)\n"
          ]
        }
      ]
    },
    {
      "cell_type": "code",
      "source": [
        "# import numpy as np\n",
        "# import math"
      ],
      "metadata": {
        "id": "NrpW4HoA_A9K"
      },
      "execution_count": 381,
      "outputs": []
    },
    {
      "cell_type": "code",
      "source": [
        "#from scipy import signal"
      ],
      "metadata": {
        "id": "rCu1aob0_jdv"
      },
      "execution_count": 382,
      "outputs": []
    },
    {
      "cell_type": "code",
      "source": [
        "# from sklearn.preprocessing import MinMaxScaler\n",
        "# import numpy as np\n",
        "\n",
        "# # Create an example time series dataset\n",
        "# #data = np.array([10, 15, 20, 25, 30, 35, 40, 45, 50])\n",
        "\n",
        "# # Reshape the data to fit MinMaxScaler's input shape\n",
        "# train_x_v = train_x_v.reshape(-1, 1)\n",
        "\n",
        "# # Create a MinMaxScaler object and fit_transform the data\n",
        "# scaler = MinMaxScaler()\n",
        "# data_scaled = scaler.fit_transform(train_x_v)\n",
        "\n",
        "# #print(data_scaled)\n",
        "# plt.plot(data_scaled)"
      ],
      "metadata": {
        "id": "EGo5yy7ULQy5"
      },
      "execution_count": null,
      "outputs": []
    },
    {
      "cell_type": "code",
      "source": [
        "print(train_x_v.shape, train_y_v.shape)"
      ],
      "metadata": {
        "colab": {
          "base_uri": "https://localhost:8080/"
        },
        "id": "nkFgM2dhZI_C",
        "outputId": "eb710359-ec60-408a-f424-b07ecbb35a31"
      },
      "execution_count": 459,
      "outputs": [
        {
          "output_type": "stream",
          "name": "stdout",
          "text": [
            "(1000,) (1000,)\n"
          ]
        }
      ]
    },
    {
      "cell_type": "code",
      "source": [
        "train_x_v.flatten()"
      ],
      "metadata": {
        "id": "hLMvOL9RMSJM"
      },
      "execution_count": null,
      "outputs": []
    },
    {
      "cell_type": "code",
      "source": [
        "minimas_v = signal.argrelmin(train_x_v)\n",
        "maximas_v = signal.argrelmax(train_x_v)"
      ],
      "metadata": {
        "id": "utNyviUJ-oC8"
      },
      "execution_count": 460,
      "outputs": []
    },
    {
      "cell_type": "code",
      "source": [
        "minimas_values_v = train_x_v[minimas_v]\n",
        "maximas_values_v = train_x_v[maximas_v]\n",
        "minimas_values_v, maximas_values_v"
      ],
      "metadata": {
        "colab": {
          "base_uri": "https://localhost:8080/"
        },
        "id": "basg95j2-rnX",
        "outputId": "04866d84-f805-4611-f3b6-1fef41be32dc"
      },
      "execution_count": 461,
      "outputs": [
        {
          "output_type": "execute_result",
          "data": {
            "text/plain": [
              "(array([0., 0., 0., 0., 0., 0., 0., 0., 0.]),\n",
              " array([6., 6., 6., 6., 6., 6., 6., 6., 6., 6.]))"
            ]
          },
          "metadata": {},
          "execution_count": 461
        }
      ]
    },
    {
      "cell_type": "code",
      "source": [
        "minimas_values_v.flatten()\n",
        "# minimas_v.flatten()"
      ],
      "metadata": {
        "colab": {
          "base_uri": "https://localhost:8080/"
        },
        "id": "klSEDKi8NGu4",
        "outputId": "27cde916-79c3-4037-9c5c-f2d0b374d842"
      },
      "execution_count": 394,
      "outputs": [
        {
          "output_type": "execute_result",
          "data": {
            "text/plain": [
              "array([0., 0., 0., 0., 0., 0., 0., 0., 0.])"
            ]
          },
          "metadata": {},
          "execution_count": 394
        }
      ]
    },
    {
      "cell_type": "code",
      "source": [
        "# minimas_values_v=minimas_values_v.flatten()\n",
        "# minimas_v="
      ],
      "metadata": {
        "id": "ofhxnN0YMxlo"
      },
      "execution_count": null,
      "outputs": []
    },
    {
      "cell_type": "code",
      "source": [
        "minimas_values_v= minimas_values_v.astype(np.float32)"
      ],
      "metadata": {
        "id": "_j4EuHNjYCui"
      },
      "execution_count": 427,
      "outputs": []
    },
    {
      "cell_type": "code",
      "source": [
        "minimas_values_v.dtype"
      ],
      "metadata": {
        "colab": {
          "base_uri": "https://localhost:8080/"
        },
        "id": "PP3nNrJuYVf3",
        "outputId": "f618c194-99f9-483d-dee6-bdcfa0b8089d"
      },
      "execution_count": 428,
      "outputs": [
        {
          "output_type": "execute_result",
          "data": {
            "text/plain": [
              "dtype('float32')"
            ]
          },
          "metadata": {},
          "execution_count": 428
        }
      ]
    },
    {
      "cell_type": "code",
      "source": [
        "minimas_values_v.shape"
      ],
      "metadata": {
        "colab": {
          "base_uri": "https://localhost:8080/"
        },
        "id": "nRYPuImdYY5U",
        "outputId": "aa08f8e7-9a1d-4a21-8703-a92b5a6b00a1"
      },
      "execution_count": 430,
      "outputs": [
        {
          "output_type": "execute_result",
          "data": {
            "text/plain": [
              "(9,)"
            ]
          },
          "metadata": {},
          "execution_count": 430
        }
      ]
    },
    {
      "cell_type": "code",
      "source": [
        "minimas_v.shape"
      ],
      "metadata": {
        "colab": {
          "base_uri": "https://localhost:8080/",
          "height": 166
        },
        "id": "tTCTbQC9Ykfq",
        "outputId": "59267e4b-4232-46bf-ea9a-4570bc8e5280"
      },
      "execution_count": 431,
      "outputs": [
        {
          "output_type": "error",
          "ename": "AttributeError",
          "evalue": "ignored",
          "traceback": [
            "\u001b[0;31m---------------------------------------------------------------------------\u001b[0m",
            "\u001b[0;31mAttributeError\u001b[0m                            Traceback (most recent call last)",
            "\u001b[0;32m<ipython-input-431-5d135e01b5de>\u001b[0m in \u001b[0;36m<module>\u001b[0;34m\u001b[0m\n\u001b[0;32m----> 1\u001b[0;31m \u001b[0mminimas_v\u001b[0m\u001b[0;34m.\u001b[0m\u001b[0mshape\u001b[0m\u001b[0;34m\u001b[0m\u001b[0;34m\u001b[0m\u001b[0m\n\u001b[0m",
            "\u001b[0;31mAttributeError\u001b[0m: 'tuple' object has no attribute 'shape'"
          ]
        }
      ]
    },
    {
      "cell_type": "code",
      "source": [
        "plt.plot(minimas_v, minimas_values_v, 'o')\n",
        "plt.plot(maximas_v, maximas_values_v, 'o')\n",
        "plt.show()"
      ],
      "metadata": {
        "id": "8_UolwxtK9JD"
      },
      "execution_count": null,
      "outputs": []
    },
    {
      "cell_type": "code",
      "source": [
        "minimas_values_v=minimas_values_v.flatten()"
      ],
      "metadata": {
        "id": "UxMlKZcLHy5Z"
      },
      "execution_count": 353,
      "outputs": []
    },
    {
      "cell_type": "code",
      "source": [
        "plt.plot(train_x_v)\n",
        "plt.plot(minimas_v, minimas_values_v, 'o')\n",
        "plt.plot(maximas_v, maximas_values_v, 'o')\n",
        "plt.show()"
      ],
      "metadata": {
        "id": "SH7JxbPQ-uqv"
      },
      "execution_count": null,
      "outputs": []
    },
    {
      "cell_type": "code",
      "source": [
        "plt.plot(train_x_v)\n",
        "plt.plot(minimas, minimas_values, 'o')\n",
        "plt.plot(maximas, maximas_values, 'o')\n",
        "plt.show()"
      ],
      "metadata": {
        "colab": {
          "base_uri": "https://localhost:8080/",
          "height": 265
        },
        "id": "HOKSggwP5oXV",
        "outputId": "fb5b9739-c407-4877-c8d5-b1df5eaf71bc"
      },
      "execution_count": 465,
      "outputs": [
        {
          "output_type": "display_data",
          "data": {
            "text/plain": [
              "<Figure size 432x288 with 1 Axes>"
            ],
            "image/png": "[encoded data removed]"
          },
          "metadata": {
            "needs_background": "light"
          }
        }
      ]
    },
    {
      "cell_type": "code",
      "source": [
        "x_diff_v = np.diff(train_x_v)\n",
        "x_diff_v = np.append(x_diff_v, x_diff_v[-1])\n",
        "plt.plot(x_diff_v)\n",
        "plt.show()"
      ],
      "metadata": {
        "colab": {
          "base_uri": "https://localhost:8080/",
          "height": 266
        },
        "id": "rDATtEYc5sY0",
        "outputId": "2cf179c9-945f-486c-9736-3a43a1a11b3e"
      },
      "execution_count": 466,
      "outputs": [
        {
          "output_type": "display_data",
          "data": {
            "text/plain": [
              "<Figure size 432x288 with 1 Axes>"
            ],
            "image/png": "[encoded data removed]"
          },
          "metadata": {
            "needs_background": "light"
          }
        }
      ]
    },
    {
      "cell_type": "code",
      "source": [
        "train_x_inc_v = train_x_v[x_diff_v >= 0]\n",
        "train_y_inc_v = train_y_v[x_diff_v >= 0]\n",
        "# plt.subplot(2, 1, 1)\n",
        "# plt.scatter(train_x_inc, train_y_inc)\n",
        "# plt.show()"
      ],
      "metadata": {
        "id": "dLB7plkd5x0w"
      },
      "execution_count": 467,
      "outputs": []
    },
    {
      "cell_type": "code",
      "source": [
        "train_x_dec_v = train_x_v[x_diff_v < 0]\n",
        "train_y_dec_v = train_y_v[x_diff_v < 0]\n",
        "#plt.subplot(2, 1, 2)\n",
        "plt.plot(train_x_inc_v, train_y_inc_v,',')\n",
        "plt.plot(train_x_dec_v, train_y_dec_v,',')\n",
        "plt.show()"
      ],
      "metadata": {
        "colab": {
          "base_uri": "https://localhost:8080/",
          "height": 265
        },
        "id": "_aSjiV54512i",
        "outputId": "13e6d9cc-a85e-4aec-8c5e-047ad46df5ba"
      },
      "execution_count": 468,
      "outputs": [
        {
          "output_type": "display_data",
          "data": {
            "text/plain": [
              "<Figure size 432x288 with 1 Axes>"
            ],
            "image/png": "[encoded data removed]"
          },
          "metadata": {
            "needs_background": "light"
          }
        }
      ]
    },
    {
      "cell_type": "code",
      "source": [
        "#tunable parameters\n",
        "#(a_inc, b_inc, c_inc, d_inc)=0.010868005037489373 -0.017012365216049014 0.15421366816453613 0.015525828736123142\n",
        "#(a_dec, b_dec, c_dec, d_dec)=-0.00786765333166358 -0.04918478921814827 0.008 -0.05638100186589827"
      ],
      "metadata": {
        "id": "UcC30VLi0TWC"
      },
      "execution_count": null,
      "outputs": []
    },
    {
      "cell_type": "code",
      "source": [
        "#validation\n",
        "(a_inc, b_inc, c_inc, d_inc)=(0.010868005037489373, -0.017012365216049014, 0.15421366816453613, 0.015525828736123142)\n",
        "(a_dec, b_dec, c_dec, d_dec)=(-0.00786765333166358, -0.04918478921814827, 0.008, -0.05638100186589827)\n",
        "y_pred_dec_v = predict(train_x_dec_v, minimas_values_v, a_dec, b_dec, c_dec, d_dec)\n",
        "y_pred_inc_v = predict(train_x_inc_v, maximas_values_v, a_inc, b_inc, c_inc, d_inc)"
      ],
      "metadata": {
        "id": "9mEhNEqv0zlX"
      },
      "execution_count": 469,
      "outputs": []
    },
    {
      "cell_type": "code",
      "source": [
        "plt.scatter(train_x_inc_v, train_y_inc_v,c='b')\n",
        "plt.scatter(train_x_inc_v, y_pred_inc_v,c='r')\n",
        "plt.scatter(train_x_dec_v, train_y_dec_v,c='b')\n",
        "plt.scatter(train_x_dec_v, y_pred_dec_v,c='r')\n",
        "plt.show()"
      ],
      "metadata": {
        "colab": {
          "base_uri": "https://localhost:8080/",
          "height": 265
        },
        "id": "Ysg8ZO9taFQ8",
        "outputId": "3f79a6a2-1306-4cc1-e00a-a3ea58b29089"
      },
      "execution_count": 470,
      "outputs": [
        {
          "output_type": "display_data",
          "data": {
            "text/plain": [
              "<Figure size 432x288 with 1 Axes>"
            ],
            "image/png": "[encoded data removed]"
          },
          "metadata": {
            "needs_background": "light"
          }
        }
      ]
    },
    {
      "cell_type": "markdown",
      "source": [
        "# uptill now modelling and tunning of parameters have been done now we want to implement PSO algo for optimization because the rms is but high"
      ],
      "metadata": {
        "id": "hbJqbkWM0jnw"
      }
    },
    {
      "cell_type": "markdown",
      "source": [
        "#its my attempt to apply PSO on the above mention problem"
      ],
      "metadata": {
        "id": "3rhxp0Kn24l2"
      }
    },
    {
      "cell_type": "code",
      "source": [
        "\"\"\"\n",
        "Angel Gaspar\n",
        "GitHub: angelgaspar\n",
        "Last update: December 11th, 2020\n",
        "Python 3.7\n",
        "\n",
        "Modifications:\n",
        "   1.-The initial array written by the user was removed.\n",
        "   2.-The initial positions are initialized within the search range minimum and maximum randomly.\n",
        "   3.-The first iteration always was -1.00 the problem was fixed.\n",
        "   4.-More decimals was added.\n",
        "\n",
        "Original code without my modifications:\n",
        "Nathan A. Rooy\n",
        "Simple Particle Swarm Optimization (PSO) with Python\n",
        "Last update: 2018-JAN-26\n",
        "Python 3.6\n",
        "\n",
        "\"\"\"\n",
        "\n",
        "# --- IMPORT DEPENDENCIES ------------------------------------------------------+\n",
        "from random import random\n",
        "from random import uniform\n",
        "\n",
        "\n",
        "# --- MAIN ---------------------------------------------------------------------+\n",
        "class Particle:\n",
        "    def __init__(self, bounds):\n",
        "        self.position_i = []  # particle position\n",
        "        self.velocity_i = []  # particle velocity\n",
        "        self.pos_best_i = []  # best position individual\n",
        "        self.err_best_i = -1  # best error individual\n",
        "        self.err_i = -1  # error individual\n",
        "\n",
        "        for i in range(0, num_dimensions):\n",
        "            self.velocity_i.append(uniform(-1, 1))\n",
        "            self.position_i.append(uniform(bounds[i][0], bounds[i][1]))\n",
        "\n",
        "    # evaluate current fitness\n",
        "    def evaluate(self, cost_f_inc):\n",
        "        self.err_i = cost_f_inc(self.position_i)\n",
        "\n",
        "        # check to see if the current position is an individual best\n",
        "        if self.err_i < self.err_best_i or self.err_best_i == -1:\n",
        "            self.pos_best_i = self.position_i.copy()\n",
        "            self.err_best_i = self.err_i\n",
        "\n",
        "    # update new particle velocity\n",
        "    def update_velocity(self, pos_best_g):\n",
        "        w = 0.5  # constant inertia weight (how much to weigh the previous velocity)\n",
        "        c1 = 0.5  # cognitive constant\n",
        "        c2 = 0.5  # social constant\n",
        "\n",
        "        for i in range(0, num_dimensions):\n",
        "            r1 = random()\n",
        "            r2 = random()\n",
        "\n",
        "            vel_cognitive = c1 * r1 * (self.pos_best_i[i] - self.position_i[i])\n",
        "            vel_social = c2 * r2 * (pos_best_g[i] - self.position_i[i])\n",
        "            self.velocity_i[i] = w * self.velocity_i[i] + vel_cognitive + vel_social\n",
        "\n",
        "    # update the particle position based off new velocity updates\n",
        "    def update_position(self, bounds):\n",
        "        for i in range(0, num_dimensions):\n",
        "            self.position_i[i] = self.position_i[i] + self.velocity_i[i]\n",
        "\n",
        "            # adjust maximum position if necessary\n",
        "            if self.position_i[i] > bounds[i][1]:\n",
        "                self.position_i[i] = bounds[i][1]\n",
        "\n",
        "            # adjust minimum position if necessary\n",
        "            if self.position_i[i] < bounds[i][0]:\n",
        "                self.position_i[i] = bounds[i][0]\n",
        "\n",
        "\n",
        "def minimize(cost_f_inc, dimensions, bounds, num_particles, max_iter, verbose=False):\n",
        "    global num_dimensions\n",
        "\n",
        "    num_dimensions = dimensions\n",
        "    err_best_g = -1  # best error for group\n",
        "    pos_best_g = []  # best position for group\n",
        "\n",
        "    # establish the swarm\n",
        "    swarm = []\n",
        "    for i in range(0, num_particles):\n",
        "        swarm.append(Particle(bounds))\n",
        "\n",
        "    # begin optimization loop\n",
        "    i = 1\n",
        "    while i <= max_iter:\n",
        "\n",
        "        # cycle through particles in swarm and evaluate fitness\n",
        "        for j in range(0, num_particles):\n",
        "            swarm[j].evaluate(cost_f_inc)\n",
        "\n",
        "            # determine if current particle is the best (globally)\n",
        "            if swarm[j].err_i < err_best_g or err_best_g == -1:\n",
        "                pos_best_g = list(swarm[j].position_i)\n",
        "                err_best_g = float(swarm[j].err_i)\n",
        "\n",
        "        # cycle through swarm and update velocities and position\n",
        "        for j in range(0, num_particles):\n",
        "            swarm[j].update_velocity(pos_best_g)\n",
        "            swarm[j].update_position(bounds)\n",
        "\n",
        "        if verbose: print(f'iter: {i:>4d}, best solution: {err_best_g:10.12f}')\n",
        "\n",
        "        i += 1\n",
        "\n",
        "    # print final results\n",
        "    print('\\nFINAL SOLUTION:')\n",
        "    print(\"\\tPositions: \", pos_best_g)\n",
        "    print(\"\\tBest Solution: \", err_best_g)\n",
        "\n",
        "    pass"
      ],
      "metadata": {
        "id": "Iao07ki02_Bp"
      },
      "execution_count": 63,
      "outputs": []
    },
    {
      "cell_type": "code",
      "source": [
        "# objective Function\n",
        "# def sphere(x):\n",
        "#     total = 0\n",
        "#     for i in range(len(x)):\n",
        "#         total += x[i] ** 2\n",
        "#     return total\n",
        "\n",
        "\n",
        "# settings\n",
        "# num_dimensions = 2  # dimensions\n",
        "# bounds = [(-10, 10), (-10, 10)]  # input bounds [(x1_min, x1_max), (x2_min, x2_max), ...]\n",
        "num_dimensions = 8  # dimensions\n",
        "bounds = [(-0.015231471371135752,0.0056791097541811775),(-0.0232962506162296, -0.06514327904306272),(0.008,0.14839333484923922),(-0.07315198395974613, 0.0254763276769475)]  # input bounds [(x1_min, x1_max), (x2_min, x2_max), ...]\n",
        "#minimize(sphere, num_dimensions, bounds, num_particles=501, max_iter=30, verbose=True)\n",
        "y_pred_inc=minimize(cost_f_inc, num_dimensions, bounds, num_particles=500, max_iter=10, verbose=True)\n",
        "# #train_x_inc, train_y_inc, maximas_values, a_inc, b_inc, c_inc, d_inc   y_pred_inc\n",
        "# If X = [a,b,c,d], n = 4 and if\n",
        "#         bound = [(-0.015231471371135752,0.0056791097541811775),(-0.0232962506162296, -0.06514327904306272),(0.008,0.14839333484923922),(-0.07315198395974613, 0.0254763276769475)]\n",
        "#         Then, a∈(-0.015231471371135752,0.0056791097541811775); b∈(-0.0232962506162296, -0.06514327904306272); c∈(0.008,0.14839333484923922,(-0.07315198395974613, 0.0254763276769475))"
      ],
      "metadata": {
        "colab": {
          "base_uri": "https://localhost:8080/",
          "height": 398
        },
        "id": "Q5ZdryzP0vVE",
        "outputId": "6e3cb932-5ffb-4147-a205-9e476793b353"
      },
      "execution_count": 67,
      "outputs": [
        {
          "output_type": "error",
          "ename": "IndexError",
          "evalue": "ignored",
          "traceback": [
            "\u001b[0;31m---------------------------------------------------------------------------\u001b[0m",
            "\u001b[0;31mIndexError\u001b[0m                                Traceback (most recent call last)",
            "\u001b[0;32m<ipython-input-67-c5242b3d28e2>\u001b[0m in \u001b[0;36m<module>\u001b[0;34m\u001b[0m\n\u001b[1;32m     13\u001b[0m \u001b[0mbounds\u001b[0m \u001b[0;34m=\u001b[0m \u001b[0;34m[\u001b[0m\u001b[0;34m(\u001b[0m\u001b[0;34m-\u001b[0m\u001b[0;36m0.015231471371135752\u001b[0m\u001b[0;34m,\u001b[0m\u001b[0;36m0.0056791097541811775\u001b[0m\u001b[0;34m)\u001b[0m\u001b[0;34m,\u001b[0m\u001b[0;34m(\u001b[0m\u001b[0;34m-\u001b[0m\u001b[0;36m0.0232962506162296\u001b[0m\u001b[0;34m,\u001b[0m \u001b[0;34m-\u001b[0m\u001b[0;36m0.06514327904306272\u001b[0m\u001b[0;34m)\u001b[0m\u001b[0;34m,\u001b[0m\u001b[0;34m(\u001b[0m\u001b[0;36m0.008\u001b[0m\u001b[0;34m,\u001b[0m\u001b[0;36m0.14839333484923922\u001b[0m\u001b[0;34m)\u001b[0m\u001b[0;34m,\u001b[0m\u001b[0;34m(\u001b[0m\u001b[0;34m-\u001b[0m\u001b[0;36m0.07315198395974613\u001b[0m\u001b[0;34m,\u001b[0m \u001b[0;36m0.0254763276769475\u001b[0m\u001b[0;34m)\u001b[0m\u001b[0;34m]\u001b[0m  \u001b[0;31m# input bounds [(x1_min, x1_max), (x2_min, x2_max), ...]\u001b[0m\u001b[0;34m\u001b[0m\u001b[0;34m\u001b[0m\u001b[0m\n\u001b[1;32m     14\u001b[0m \u001b[0;31m#minimize(sphere, num_dimensions, bounds, num_particles=501, max_iter=30, verbose=True)\u001b[0m\u001b[0;34m\u001b[0m\u001b[0;34m\u001b[0m\u001b[0m\n\u001b[0;32m---> 15\u001b[0;31m \u001b[0my_pred_inc\u001b[0m\u001b[0;34m=\u001b[0m\u001b[0mminimize\u001b[0m\u001b[0;34m(\u001b[0m\u001b[0mtrain_x_inc\u001b[0m\u001b[0;34m,\u001b[0m \u001b[0mtrain_y_inc\u001b[0m\u001b[0;34m,\u001b[0m \u001b[0mmaximas_values\u001b[0m\u001b[0;34m,\u001b[0m \u001b[0mnum_dimensions\u001b[0m\u001b[0;34m,\u001b[0m \u001b[0mbounds\u001b[0m\u001b[0;34m,\u001b[0m \u001b[0mnum_particles\u001b[0m\u001b[0;34m=\u001b[0m\u001b[0;36m500\u001b[0m\u001b[0;34m,\u001b[0m \u001b[0mmax_iter\u001b[0m\u001b[0;34m=\u001b[0m\u001b[0;36m10\u001b[0m\u001b[0;34m,\u001b[0m \u001b[0mverbose\u001b[0m\u001b[0;34m=\u001b[0m\u001b[0;32mTrue\u001b[0m\u001b[0;34m)\u001b[0m\u001b[0;34m\u001b[0m\u001b[0;34m\u001b[0m\u001b[0m\n\u001b[0m\u001b[1;32m     16\u001b[0m \u001b[0;31m# #train_x_inc, train_y_inc, maximas_values, a_inc, b_inc, c_inc, d_inc   y_pred_inc\u001b[0m\u001b[0;34m\u001b[0m\u001b[0;34m\u001b[0m\u001b[0m\n\u001b[1;32m     17\u001b[0m \u001b[0;31m# If X = [a,b,c,d], n = 4 and if\u001b[0m\u001b[0;34m\u001b[0m\u001b[0;34m\u001b[0m\u001b[0m\n",
            "\u001b[0;32m<ipython-input-63-e22bc1ff45ca>\u001b[0m in \u001b[0;36mminimize\u001b[0;34m(train_x_inc, train_y_inc, maximas_values, dimensions, bounds, num_particles, max_iter, verbose)\u001b[0m\n\u001b[1;32m     84\u001b[0m     \u001b[0mswarm\u001b[0m \u001b[0;34m=\u001b[0m \u001b[0;34m[\u001b[0m\u001b[0;34m]\u001b[0m\u001b[0;34m\u001b[0m\u001b[0;34m\u001b[0m\u001b[0m\n\u001b[1;32m     85\u001b[0m     \u001b[0;32mfor\u001b[0m \u001b[0mi\u001b[0m \u001b[0;32min\u001b[0m \u001b[0mrange\u001b[0m\u001b[0;34m(\u001b[0m\u001b[0;36m0\u001b[0m\u001b[0;34m,\u001b[0m \u001b[0mnum_particles\u001b[0m\u001b[0;34m)\u001b[0m\u001b[0;34m:\u001b[0m\u001b[0;34m\u001b[0m\u001b[0;34m\u001b[0m\u001b[0m\n\u001b[0;32m---> 86\u001b[0;31m         \u001b[0mswarm\u001b[0m\u001b[0;34m.\u001b[0m\u001b[0mappend\u001b[0m\u001b[0;34m(\u001b[0m\u001b[0mParticle\u001b[0m\u001b[0;34m(\u001b[0m\u001b[0mbounds\u001b[0m\u001b[0;34m)\u001b[0m\u001b[0;34m)\u001b[0m\u001b[0;34m\u001b[0m\u001b[0;34m\u001b[0m\u001b[0m\n\u001b[0m\u001b[1;32m     87\u001b[0m \u001b[0;34m\u001b[0m\u001b[0m\n\u001b[1;32m     88\u001b[0m     \u001b[0;31m# begin optimization loop\u001b[0m\u001b[0;34m\u001b[0m\u001b[0;34m\u001b[0m\u001b[0m\n",
            "\u001b[0;32m<ipython-input-63-e22bc1ff45ca>\u001b[0m in \u001b[0;36m__init__\u001b[0;34m(self, bounds)\u001b[0m\n\u001b[1;32m     35\u001b[0m         \u001b[0;32mfor\u001b[0m \u001b[0mi\u001b[0m \u001b[0;32min\u001b[0m \u001b[0mrange\u001b[0m\u001b[0;34m(\u001b[0m\u001b[0;36m0\u001b[0m\u001b[0;34m,\u001b[0m \u001b[0mnum_dimensions\u001b[0m\u001b[0;34m)\u001b[0m\u001b[0;34m:\u001b[0m\u001b[0;34m\u001b[0m\u001b[0;34m\u001b[0m\u001b[0m\n\u001b[1;32m     36\u001b[0m             \u001b[0mself\u001b[0m\u001b[0;34m.\u001b[0m\u001b[0mvelocity_i\u001b[0m\u001b[0;34m.\u001b[0m\u001b[0mappend\u001b[0m\u001b[0;34m(\u001b[0m\u001b[0muniform\u001b[0m\u001b[0;34m(\u001b[0m\u001b[0;34m-\u001b[0m\u001b[0;36m1\u001b[0m\u001b[0;34m,\u001b[0m \u001b[0;36m1\u001b[0m\u001b[0;34m)\u001b[0m\u001b[0;34m)\u001b[0m\u001b[0;34m\u001b[0m\u001b[0;34m\u001b[0m\u001b[0m\n\u001b[0;32m---> 37\u001b[0;31m             \u001b[0mself\u001b[0m\u001b[0;34m.\u001b[0m\u001b[0mposition_i\u001b[0m\u001b[0;34m.\u001b[0m\u001b[0mappend\u001b[0m\u001b[0;34m(\u001b[0m\u001b[0muniform\u001b[0m\u001b[0;34m(\u001b[0m\u001b[0mbounds\u001b[0m\u001b[0;34m[\u001b[0m\u001b[0mi\u001b[0m\u001b[0;34m]\u001b[0m\u001b[0;34m[\u001b[0m\u001b[0;36m0\u001b[0m\u001b[0;34m]\u001b[0m\u001b[0;34m,\u001b[0m \u001b[0mbounds\u001b[0m\u001b[0;34m[\u001b[0m\u001b[0mi\u001b[0m\u001b[0;34m]\u001b[0m\u001b[0;34m[\u001b[0m\u001b[0;36m1\u001b[0m\u001b[0;34m]\u001b[0m\u001b[0;34m)\u001b[0m\u001b[0;34m)\u001b[0m\u001b[0;34m\u001b[0m\u001b[0;34m\u001b[0m\u001b[0m\n\u001b[0m\u001b[1;32m     38\u001b[0m \u001b[0;34m\u001b[0m\u001b[0m\n\u001b[1;32m     39\u001b[0m     \u001b[0;31m# evaluate current fitness\u001b[0m\u001b[0;34m\u001b[0m\u001b[0;34m\u001b[0m\u001b[0m\n",
            "\u001b[0;31mIndexError\u001b[0m: list index out of range"
          ]
        }
      ]
    },
    {
      "cell_type": "code",
      "source": [
        "\"\"\"\n",
        "Angel Gaspar\n",
        "GitHub: angelgaspar\n",
        "Last update: December 11th, 2020\n",
        "Python 3.7\n",
        "\n",
        "Modifications:\n",
        "   1.-The initial array written by the user was removed.\n",
        "   2.-The initial positions are initialized within the search range minimum and maximum randomly.\n",
        "   3.-The first iteration always was -1.00 the problem was fixed.\n",
        "   4.-More decimals was added.\n",
        "\n",
        "Original code without my modifications:\n",
        "Nathan A. Rooy\n",
        "Simple Particle Swarm Optimization (PSO) with Python\n",
        "Last update: 2018-JAN-26\n",
        "Python 3.6\n",
        "\n",
        "\"\"\"\n",
        "\n",
        "# --- IMPORT DEPENDENCIES ------------------------------------------------------+\n",
        "from random import random\n",
        "from random import uniform\n",
        "\n",
        "\n",
        "# --- MAIN ---------------------------------------------------------------------+\n",
        "class Particle:\n",
        "    def __init__(self, bounds):\n",
        "        self.position_i = []  # particle position\n",
        "        self.velocity_i = []  # particle velocity\n",
        "        self.pos_best_i = []  # best position individual\n",
        "        self.err_best_i = -1  # best error individual\n",
        "        self.err_i = -1  # error individual\n",
        "\n",
        "        for i in range(0, num_dimensions):\n",
        "            self.velocity_i.append(uniform(-1, 1))\n",
        "            self.position_i.append(uniform(bounds[i][0], bounds[i][1]))\n",
        "\n",
        "    # evaluate current fitness\n",
        "    def evaluate(self, cost_function):\n",
        "        self.err_i = cost_function(self.position_i)\n",
        "\n",
        "        # check to see if the current position is an individual best\n",
        "        if self.err_i < self.err_best_i or self.err_best_i == -1:\n",
        "            self.pos_best_i = self.position_i.copy()\n",
        "            self.err_best_i = self.err_i\n",
        "\n",
        "    # update new particle velocity\n",
        "    def update_velocity(self, pos_best_g):\n",
        "        w = 0.5  # constant inertia weight (how much to weigh the previous velocity)\n",
        "        c1 = 0.5  # cognitive constant\n",
        "        c2 = 0.5  # social constant\n",
        "\n",
        "        for i in range(0, num_dimensions):\n",
        "            r1 = random()\n",
        "            r2 = random()\n",
        "\n",
        "            vel_cognitive = c1 * r1 * (self.pos_best_i[i] - self.position_i[i])\n",
        "            vel_social = c2 * r2 * (pos_best_g[i] - self.position_i[i])\n",
        "            self.velocity_i[i] = w * self.velocity_i[i] + vel_cognitive + vel_social\n",
        "\n",
        "    # update the particle position based off new velocity updates\n",
        "    def update_position(self, bounds):\n",
        "        for i in range(0, num_dimensions):\n",
        "            self.position_i[i] = self.position_i[i] + self.velocity_i[i]\n",
        "\n",
        "            # adjust maximum position if necessary\n",
        "            if self.position_i[i] > bounds[i][1]:\n",
        "                self.position_i[i] = bounds[i][1]\n",
        "\n",
        "            # adjust minimum position if necessary\n",
        "            if self.position_i[i] < bounds[i][0]:\n",
        "                self.position_i[i] = bounds[i][0]\n",
        "\n",
        "\n",
        "def minimize(cost_function, dimensions, bounds, num_particles, max_iter, verbose=False):\n",
        "    global num_dimensions\n",
        "\n",
        "    num_dimensions = dimensions\n",
        "    err_best_g = -1  # best error for group\n",
        "    pos_best_g = []  # best position for group\n",
        "\n",
        "    # establish the swarm\n",
        "    swarm = []\n",
        "    for i in range(0, num_particles):\n",
        "        swarm.append(Particle(bounds))\n",
        "\n",
        "    # begin optimization loop\n",
        "    i = 1\n",
        "    while i <= max_iter:\n",
        "\n",
        "        # cycle through particles in swarm and evaluate fitness\n",
        "        for j in range(0, num_particles):\n",
        "            swarm[j].evaluate(cost_function)\n",
        "\n",
        "            # determine if current particle is the best (globally)\n",
        "            if swarm[j].err_i < err_best_g or err_best_g == -1:\n",
        "                pos_best_g = list(swarm[j].position_i)\n",
        "                err_best_g = float(swarm[j].err_i)\n",
        "\n",
        "        # cycle through swarm and update velocities and position\n",
        "        for j in range(0, num_particles):\n",
        "            swarm[j].update_velocity(pos_best_g)\n",
        "            swarm[j].update_position(bounds)\n",
        "\n",
        "        if verbose: print(f'iter: {i:>4d}, best solution: {err_best_g:10.12f}')\n",
        "\n",
        "        i += 1\n",
        "\n",
        "    # print final results\n",
        "    print('\\nFINAL SOLUTION:')\n",
        "    print(\"\\tPositions: \", pos_best_g)\n",
        "    print(\"\\tBest Solution: \", err_best_g)\n",
        "\n",
        "    pass\n",
        "\n",
        "\n",
        "# objective Function\n",
        "# def sphere(x):\n",
        "#     total = 0\n",
        "#     for i in range(len(x)):\n",
        "#         total += x[i] ** 2\n",
        "#     return total\n",
        "\n",
        "\n",
        "# settings\n",
        "# num_dimensions = 2  # dimensions\n",
        "# bounds = [(-10, 10), (-10, 10)]  # input bounds [(x1_min, x1_max), (x2_min, x2_max), ...]\n",
        "num_dimensions = 4  # dimensions\n",
        "bounds = [(-0.015231471371135752,0.0056791097541811775),(-0.0232962506162296, -0.06514327904306272),(0.008,0.14839333484923922),(-0.07315198395974613, 0.0254763276769475)]  # input bounds [(x1_min, x1_max), (x2_min, x2_max), ...]\n",
        "#minimize(sphere, num_dimensions, bounds, num_particles=500, max_iter=30, verbose=True)\n",
        "y_pred_inc=minimize(train_x_inc, train_y_inc, maximas_values, num_dimensions, bounds, num_particles=500, max_iter=30, verbose=True)\n",
        "# #train_x_inc, train_y_inc, maximas_values, a_inc, b_inc, c_inc, d_inc   y_pred_inc\n",
        "# If X = [a,b,c,d], n = 4 and if\n",
        "#         bound = [(-0.015231471371135752,0.0056791097541811775),(-0.0232962506162296, -0.06514327904306272),(0.008,0.14839333484923922),(-0.07315198395974613, 0.0254763276769475)]\n",
        "#         Then, a∈(-0.015231471371135752,0.0056791097541811775); b∈(-0.0232962506162296, -0.06514327904306272); c∈(0.008,0.14839333484923922,(-0.07315198395974613, 0.0254763276769475))"
      ],
      "metadata": {
        "id": "rnfcUuf83PSJ"
      },
      "execution_count": null,
      "outputs": []
    },
    {
      "cell_type": "code",
      "source": [
        "minimize(sphere, num_dimensions, bounds, num_particles=500, max_iter=30, verbose=True)"
      ],
      "metadata": {
        "id": "u5JmSIKH3PO9"
      },
      "execution_count": null,
      "outputs": []
    },
    {
      "cell_type": "code",
      "source": [],
      "metadata": {
        "id": "vTqg-nbv3PLt"
      },
      "execution_count": null,
      "outputs": []
    },
    {
      "cell_type": "code",
      "source": [],
      "metadata": {
        "id": "TMVom3mJ3PIn"
      },
      "execution_count": null,
      "outputs": []
    },
    {
      "cell_type": "code",
      "source": [],
      "metadata": {
        "id": "WeFekmqX3PFP"
      },
      "execution_count": null,
      "outputs": []
    },
    {
      "cell_type": "code",
      "source": [],
      "metadata": {
        "id": "qgzP8LEq3PCF"
      },
      "execution_count": null,
      "outputs": []
    },
    {
      "cell_type": "code",
      "source": [],
      "metadata": {
        "id": "3lI15vfS3O-2"
      },
      "execution_count": null,
      "outputs": []
    }
  ]
}