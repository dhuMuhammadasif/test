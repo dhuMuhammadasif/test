{
  "nbformat": 4,
  "nbformat_minor": 0,
  "metadata": {
    "colab": {
      "provenance": [],
      "authorship_tag": "ABX9TyOYI9fd8v2YNxzmFM5Qdtsz",
      "include_colab_link": true
    },
    "kernelspec": {
      "name": "python3",
      "display_name": "Python 3"
    },
    "language_info": {
      "name": "python"
    }
  },
  "cells": [
    {
      "cell_type": "markdown",
      "metadata": {
        "id": "view-in-github",
        "colab_type": "text"
      },
      "source": [
        "<a href=\"https://colab.research.google.com/github/dhuMuhammadasif/test/blob/master/17_3_2023_Rate_dependent_hysteresis_model.ipynb\" target=\"_parent\"><img src=\"https://colab.research.google.com/assets/colab-badge.svg\" alt=\"Open In Colab\"/></a>"
      ]
    },
    {
      "cell_type": "code",
      "source": [
        "import pandas as pd\n",
        "import numpy as np\n",
        "import matplotlib.pyplot as plt\n",
        "from scipy import signal\n",
        "from sklearn.model_selection import train_test_split"
      ],
      "metadata": {
        "id": "ZovFLelFWNUR"
      },
      "execution_count": 228,
      "outputs": []
    },
    {
      "cell_type": "code",
      "source": [
        "df_1 =pd.read_excel('/content/20khz.xlsx')\n",
        "train_x = np.array(df_1['x'], dtype=np.float64)\n",
        "train_y = np.array(df_1['y'], dtype=np.float64)\n",
        "\n",
        "# train_x = np.array(df['x'], dtype=np.float64)\n",
        "# train_y = np.array(df['y'], dtype=np.float64)\n",
        "print(train_x.shape, train_y.shape)"
      ],
      "metadata": {
        "colab": {
          "base_uri": "https://localhost:8080/"
        },
        "id": "9BX0unxYWNRQ",
        "outputId": "d8ec0e0f-9da7-40f0-bc41-90f9c2df9f15"
      },
      "execution_count": 229,
      "outputs": [
        {
          "output_type": "stream",
          "name": "stdout",
          "text": [
            "(2001,) (2001,)\n"
          ]
        }
      ]
    },
    {
      "cell_type": "code",
      "source": [
        "train_x_del.shape"
      ],
      "metadata": {
        "id": "-wr6VxvI_5ZP",
        "outputId": "7ac8c329-e2d2-43bf-e07e-866405f558a1",
        "colab": {
          "base_uri": "https://localhost:8080/"
        }
      },
      "execution_count": 232,
      "outputs": [
        {
          "output_type": "execute_result",
          "data": {
            "text/plain": [
              "(2001,)"
            ]
          },
          "metadata": {},
          "execution_count": 232
        }
      ]
    },
    {
      "cell_type": "code",
      "source": [
        "train_y.shape"
      ],
      "metadata": {
        "id": "QglIiJMw_w8l",
        "outputId": "ad81be25-0e9d-4083-dff2-7a61e5f5a07d",
        "colab": {
          "base_uri": "https://localhost:8080/"
        }
      },
      "execution_count": 233,
      "outputs": [
        {
          "output_type": "execute_result",
          "data": {
            "text/plain": [
              "(2001,)"
            ]
          },
          "metadata": {},
          "execution_count": 233
        }
      ]
    },
    {
      "cell_type": "code",
      "source": [
        "plt.plot(train_x,train_y)\n",
        "plt.show()"
      ],
      "metadata": {
        "id": "Nzg4o2BUKkW6",
        "outputId": "b3d59019-6960-4b8f-8f6a-55c15ad7b096",
        "colab": {
          "base_uri": "https://localhost:8080/",
          "height": 265
        }
      },
      "execution_count": 235,
      "outputs": [
        {
          "output_type": "display_data",
          "data": {
            "text/plain": [
              "<Figure size 432x288 with 1 Axes>"
            ],
            "image/png": "[encoded data removed]"
          },
          "metadata": {
            "needs_background": "light"
          }
        }
      ]
    },
    {
      "cell_type": "code",
      "source": [
        "def ewma_vectorized(data, window):\n",
        "    alpha = 3 /(window + 3)\n",
        "    alpha_rev = 1 - alpha\n",
        "\n",
        "    scale = 1/alpha_rev\n",
        "    n = data.shape[0]\n",
        "\n",
        "    r = np.arange(n)\n",
        "    scale_arr = scale**r\n",
        "    offset = data[0]*alpha_rev**(r+2)\n",
        "    pw0 = alpha*alpha_rev**(n-1)\n",
        "\n",
        "    mult = data*pw0*scale_arr\n",
        "    cumsums = mult.cumsum()\n",
        "    out = offset + cumsums*scale_arr[::-1]\n",
        "    return out"
      ],
      "metadata": {
        "id": "Hlgi_rA4WRkM"
      },
      "execution_count": 236,
      "outputs": []
    },
    {
      "cell_type": "code",
      "source": [
        "train_y_f = ewma_vectorized(train_y, 12)\n",
        "train_x_f = ewma_vectorized(train_x, 12)\n",
        "\n",
        "plt.plot(train_x_f, train_y_f)\n",
        "plt.show()"
      ],
      "metadata": {
        "colab": {
          "base_uri": "https://localhost:8080/",
          "height": 265
        },
        "id": "F6oBY3MKWRgz",
        "outputId": "a1d9f417-61d2-42df-8aa4-46acbd5b0e0c"
      },
      "execution_count": 237,
      "outputs": [
        {
          "output_type": "display_data",
          "data": {
            "text/plain": [
              "<Figure size 432x288 with 1 Axes>"
            ],
            "image/png": "[encoded data removed]"
          },
          "metadata": {
            "needs_background": "light"
          }
        }
      ]
    },
    {
      "cell_type": "code",
      "source": [
        "train_x_del = np.gradient(train_x) #that is used in making condition for function"
      ],
      "metadata": {
        "id": "MDUrEAa398lN"
      },
      "execution_count": 238,
      "outputs": []
    },
    {
      "cell_type": "code",
      "source": [
        "train_x_inc = train_x[train_x_del > 0]  #train_x data used for inc f(xp)function finding\n",
        "train_x_dec = train_x[train_x_del < 0] # train_x data used for dec f(xp)function finding"
      ],
      "metadata": {
        "id": "EJ7ODE3aJHGl"
      },
      "execution_count": 244,
      "outputs": []
    },
    {
      "cell_type": "code",
      "source": [
        "print(train_x_inc.shape,train_x_dec.shape)"
      ],
      "metadata": {
        "id": "PGeKmwBAB639",
        "outputId": "f5d8fced-d25d-457c-c642-53ae94cd2dce",
        "colab": {
          "base_uri": "https://localhost:8080/"
        }
      },
      "execution_count": 245,
      "outputs": [
        {
          "output_type": "stream",
          "name": "stdout",
          "text": [
            "(997,) (997,)\n"
          ]
        }
      ]
    },
    {
      "cell_type": "code",
      "source": [
        "train_x=train_x_inc+train_x_dec"
      ],
      "metadata": {
        "id": "CAHgH1sTKO2Q"
      },
      "execution_count": 246,
      "outputs": []
    },
    {
      "cell_type": "code",
      "source": [
        "train_x.shape"
      ],
      "metadata": {
        "id": "kHghGVtXKVbB",
        "outputId": "96d3e3c6-9250-4d81-d9db-bca1ddafe4d0",
        "colab": {
          "base_uri": "https://localhost:8080/"
        }
      },
      "execution_count": 247,
      "outputs": [
        {
          "output_type": "execute_result",
          "data": {
            "text/plain": [
              "(997,)"
            ]
          },
          "metadata": {},
          "execution_count": 247
        }
      ]
    },
    {
      "cell_type": "code",
      "source": [
        "train_x_inc=train_x_inc[:900]   #trimming of data set to avoid dimenssional error\n",
        "train_x_dec=train_x_dec[:900]\n"
      ],
      "metadata": {
        "id": "jtZYqDq3BmXW"
      },
      "execution_count": 248,
      "outputs": []
    },
    {
      "cell_type": "code",
      "source": [
        "print(train_x_inc.shape,train_x_dec.shape)"
      ],
      "metadata": {
        "id": "Kg1v3yUDBcAt",
        "outputId": "1bf8f07b-244d-4df0-87b4-f332bfc004fc",
        "colab": {
          "base_uri": "https://localhost:8080/"
        }
      },
      "execution_count": 249,
      "outputs": [
        {
          "output_type": "stream",
          "name": "stdout",
          "text": [
            "(900,) (900,)\n"
          ]
        }
      ]
    },
    {
      "cell_type": "code",
      "source": [
        "train_y=train_y[:900]"
      ],
      "metadata": {
        "id": "k_Bdi3DuAic1"
      },
      "execution_count": 250,
      "outputs": []
    },
    {
      "cell_type": "code",
      "source": [
        "train_y.shape"
      ],
      "metadata": {
        "id": "Ni8b36yvCQ85",
        "outputId": "a1619656-1eab-4400-ea9e-fe3823da34b1",
        "colab": {
          "base_uri": "https://localhost:8080/"
        }
      },
      "execution_count": 251,
      "outputs": [
        {
          "output_type": "execute_result",
          "data": {
            "text/plain": [
              "(900,)"
            ]
          },
          "metadata": {},
          "execution_count": 251
        }
      ]
    },
    {
      "cell_type": "code",
      "source": [
        "#train_x_inc = train_x[train_x_del >= 0]\n",
        "#train_y_inc = train_y[x_diff >= 0]\n",
        "#plt.subplot(2, 1, 1)\n",
        "plt.plot(train_x_inc, train_y_f)\n",
        "plt.show()\n",
        "#plt.plot(train_x_inc)\n",
        "# train_x_inc=train_x_inc[4:]\n",
        "#plt.plot(train_x_inc,train_y)\n",
        "                                                     # from where i want to combine inc and dec condition\n",
        "#train_x_dec = train_x[train_x_del < 0]\n",
        "#train_y_dec = train_y[x_diff < 0]\n",
        "#plt.subplot(2, 1, 2)\n",
        "# plt.plot(train_x_inc, train_y_inc,',')\n",
        "#plt.plot(train_x_dec, train_y)\n",
        "#plt.plot(train_x_dec)\n",
        "#plt.show()"
      ],
      "metadata": {
        "id": "OP1q_RK_-Ieo"
      },
      "execution_count": null,
      "outputs": []
    },
    {
      "cell_type": "code",
      "source": [
        "print(train_x_inc.shape, train_y.shape)"
      ],
      "metadata": {
        "id": "FVw4iWkI_lGS",
        "outputId": "2ce18b2e-f0dd-4387-a903-638fb351d682",
        "colab": {
          "base_uri": "https://localhost:8080/"
        }
      },
      "execution_count": 129,
      "outputs": [
        {
          "output_type": "stream",
          "name": "stdout",
          "text": [
            "(1000,) (2001,)\n"
          ]
        }
      ]
    },
    {
      "cell_type": "code",
      "source": [],
      "metadata": {
        "id": "UsoKRI68-mMV"
      },
      "execution_count": null,
      "outputs": []
    },
    {
      "cell_type": "code",
      "source": [
        "n_train = 1750\n",
        "train_x = train_x[:n_train]\n",
        "train_y=train_y[:n_train]"
      ],
      "metadata": {
        "id": "pV3-pHIlWRds"
      },
      "execution_count": 25,
      "outputs": []
    },
    {
      "cell_type": "code",
      "source": [
        "train_x=train_x[:900]\n"
      ],
      "metadata": {
        "id": "vmxzieA7N5h9"
      },
      "execution_count": 256,
      "outputs": []
    },
    {
      "cell_type": "code",
      "source": [
        "print(train_x.shape, train_y.shape)"
      ],
      "metadata": {
        "colab": {
          "base_uri": "https://localhost:8080/"
        },
        "id": "nuwENe1NW3nu",
        "outputId": "27e6417c-ab4c-4efd-81e0-f4a6f76722ae"
      },
      "execution_count": 257,
      "outputs": [
        {
          "output_type": "stream",
          "name": "stdout",
          "text": [
            "(900,) (900,)\n"
          ]
        }
      ]
    },
    {
      "cell_type": "code",
      "source": [
        "minimas = signal.argrelmin(train_x)[0]\n",
        "maximas = signal.argrelmax(train_x)[0]\n",
        "\n",
        "minimas_values = train_x[minimas]\n",
        "maximas_values = train_x[maximas]\n",
        "\n",
        "minimas_values, maximas_values"
      ],
      "metadata": {
        "colab": {
          "base_uri": "https://localhost:8080/"
        },
        "id": "bIxe8mblWRaZ",
        "outputId": "d76927bb-3c6f-4d06-d52b-7d5e11d95af9"
      },
      "execution_count": 258,
      "outputs": [
        {
          "output_type": "execute_result",
          "data": {
            "text/plain": [
              "(array([], dtype=float64), array([11.99952, 11.99952, 11.99952]))"
            ]
          },
          "metadata": {},
          "execution_count": 258
        }
      ]
    },
    {
      "cell_type": "code",
      "source": [
        "plt.plot(train_x)\n",
        "plt.plot(minimas, minimas_values, 'o')\n",
        "plt.plot(maximas, maximas_values, 'o')\n",
        "plt.show()"
      ],
      "metadata": {
        "colab": {
          "base_uri": "https://localhost:8080/",
          "height": 265
        },
        "id": "antaF7C8WRWi",
        "outputId": "4e85c19d-d4b6-4d58-cab2-31df984a8180"
      },
      "execution_count": 259,
      "outputs": [
        {
          "output_type": "display_data",
          "data": {
            "text/plain": [
              "<Figure size 432x288 with 1 Axes>"
            ],
            "image/png": "[encoded data removed]"
          },
          "metadata": {
            "needs_background": "light"
          }
        }
      ]
    },
    {
      "cell_type": "code",
      "source": [
        "print(maximas.shape,maximas_values.shape,minimas.shape,minimas_values.shape)"
      ],
      "metadata": {
        "id": "fw-L77hkOn1W",
        "outputId": "7c14da20-5c6c-4c3c-8e12-bbfd55d09bb4",
        "colab": {
          "base_uri": "https://localhost:8080/"
        }
      },
      "execution_count": 260,
      "outputs": [
        {
          "output_type": "stream",
          "name": "stdout",
          "text": [
            "(3,) (3,) (0,) (0,)\n"
          ]
        }
      ]
    },
    {
      "cell_type": "code",
      "source": [
        "df_1 =pd.read_excel('/content/20khz.xlsx')\n",
        "train_x = np.array(df_1['x'], dtype=np.float64)\n",
        "train_y = np.array(df_1['y'], dtype=np.float64)\n",
        "\n",
        "# train_x = np.array(df['x'], dtype=np.float64)\n",
        "# train_y = np.array(df['y'], dtype=np.float64)\n",
        "print(train_x.shape, train_y.shape)"
      ],
      "metadata": {
        "colab": {
          "base_uri": "https://localhost:8080/"
        },
        "id": "Kib235blYd-U",
        "outputId": "49e8888a-3a82-4a5e-c6be-c4b077c032cf"
      },
      "execution_count": 334,
      "outputs": [
        {
          "output_type": "stream",
          "name": "stdout",
          "text": [
            "(2001,) (2001,)\n"
          ]
        }
      ]
    },
    {
      "cell_type": "code",
      "source": [
        "n_train = 2000\n",
        "train_x = train_x[:n_train]\n",
        "train_y=train_y[:n_train]"
      ],
      "metadata": {
        "id": "CTc3xB-oZo7S"
      },
      "execution_count": 50,
      "outputs": []
    },
    {
      "cell_type": "code",
      "source": [
        "x_diff = np.diff(train_x)\n",
        "plt.plot(x_diff)\n",
        "plt.show()"
      ],
      "metadata": {
        "colab": {
          "base_uri": "https://localhost:8080/",
          "height": 265
        },
        "id": "J1aVWyAeWRTa",
        "outputId": "3d244f7f-2918-4969-cfa9-56a7b09f12b0"
      },
      "execution_count": 56,
      "outputs": [
        {
          "output_type": "display_data",
          "data": {
            "text/plain": [
              "<Figure size 432x288 with 1 Axes>"
            ],
            "image/png": "[encoded data removed]"
          },
          "metadata": {
            "needs_background": "light"
          }
        }
      ]
    },
    {
      "cell_type": "code",
      "source": [
        "x_diff = np.diff(train_x)\n",
        "x_diff = np.append(x_diff, x_diff[-1])\n",
        "plt.plot(x_diff)\n",
        "plt.show()"
      ],
      "metadata": {
        "colab": {
          "base_uri": "https://localhost:8080/",
          "height": 265
        },
        "id": "z3z90RCJazJ2",
        "outputId": "1ad57429-6869-426e-be6f-c7d93c9bb255"
      },
      "execution_count": 61,
      "outputs": [
        {
          "output_type": "display_data",
          "data": {
            "text/plain": [
              "<Figure size 432x288 with 1 Axes>"
            ],
            "image/png": "[encoded data removed]"
          },
          "metadata": {
            "needs_background": "light"
          }
        }
      ]
    },
    {
      "cell_type": "code",
      "source": [
        "plt.plot(train_x)"
      ],
      "metadata": {
        "id": "lrYV-KfRezBx"
      },
      "execution_count": null,
      "outputs": []
    },
    {
      "cell_type": "code",
      "source": [
        "train_x_inc = train_x[x_diff >= 0]\n",
        "train_y_inc = train_y[x_diff >= 0]\n",
        "# plt.subplot(2, 1, 1)\n",
        "# plt.scatter(train_x_inc, train_y_inc)\n",
        "# plt.show()\n",
        "                                                    # from where i want to combine inc and dec condition\n",
        "train_x_dec = train_x[x_diff < 0]\n",
        "train_y_dec = train_y[x_diff < 0]\n",
        "#plt.subplot(2, 1, 2)\n",
        "plt.plot(train_x_inc, train_y_inc,',')\n",
        "plt.plot(train_x_dec, train_y_dec,',')\n",
        "plt.show()"
      ],
      "metadata": {
        "colab": {
          "base_uri": "https://localhost:8080/",
          "height": 263
        },
        "id": "AkrXACUPWRPk",
        "outputId": "112cd397-b43f-4575-c615-4a92a92630b1"
      },
      "execution_count": 333,
      "outputs": [
        {
          "output_type": "error",
          "ename": "IndexError",
          "evalue": "ignored",
          "traceback": [
            "\u001b[0;31m---------------------------------------------------------------------------\u001b[0m",
            "\u001b[0;31mIndexError\u001b[0m                                Traceback (most recent call last)",
            "\u001b[0;32m<ipython-input-333-641a4c97aa5f>\u001b[0m in \u001b[0;36m<module>\u001b[0;34m\u001b[0m\n\u001b[0;32m----> 1\u001b[0;31m \u001b[0mtrain_x_inc\u001b[0m \u001b[0;34m=\u001b[0m \u001b[0mtrain_x\u001b[0m\u001b[0;34m[\u001b[0m\u001b[0mx_diff\u001b[0m \u001b[0;34m>=\u001b[0m \u001b[0;36m0\u001b[0m\u001b[0;34m]\u001b[0m\u001b[0;34m\u001b[0m\u001b[0;34m\u001b[0m\u001b[0m\n\u001b[0m\u001b[1;32m      2\u001b[0m \u001b[0mtrain_y_inc\u001b[0m \u001b[0;34m=\u001b[0m \u001b[0mtrain_y\u001b[0m\u001b[0;34m[\u001b[0m\u001b[0mx_diff\u001b[0m \u001b[0;34m>=\u001b[0m \u001b[0;36m0\u001b[0m\u001b[0;34m]\u001b[0m\u001b[0;34m\u001b[0m\u001b[0;34m\u001b[0m\u001b[0m\n\u001b[1;32m      3\u001b[0m \u001b[0;31m# plt.subplot(2, 1, 1)\u001b[0m\u001b[0;34m\u001b[0m\u001b[0;34m\u001b[0m\u001b[0m\n\u001b[1;32m      4\u001b[0m \u001b[0;31m# plt.scatter(train_x_inc, train_y_inc)\u001b[0m\u001b[0;34m\u001b[0m\u001b[0;34m\u001b[0m\u001b[0m\n\u001b[1;32m      5\u001b[0m \u001b[0;31m# plt.show()\u001b[0m\u001b[0;34m\u001b[0m\u001b[0;34m\u001b[0m\u001b[0m\n",
            "\u001b[0;31mIndexError\u001b[0m: boolean index did not match indexed array along dimension 0; dimension is 2000 but corresponding boolean dimension is 1999"
          ]
        }
      ]
    },
    {
      "cell_type": "code",
      "source": [
        "x=train_x_del"
      ],
      "metadata": {
        "id": "RN4GITrqO7dm"
      },
      "execution_count": 261,
      "outputs": []
    },
    {
      "cell_type": "code",
      "source": [
        "def f_inc(x, xp, f_xp, a, b, c, d):\n",
        "    return (a - b*np.exp(-d*(xp - x)))*(x - xp) + c*f_xp\n",
        "                                                            \n",
        "                                                          # from where i want to combine inc and dec condition \n",
        "                                                          \n",
        "def f_dec(x, xp_dec , f_xp_dec, a, b, c, d):\n",
        "    return (a - b*np.exp(d*(xp_dec  - x)))*(x - xp_dec ) + c*f_xp_dec\n"
      ],
      "metadata": {
        "id": "AsV5Zl47cv4M"
      },
      "execution_count": 262,
      "outputs": []
    },
    {
      "cell_type": "code",
      "source": [
        "def predict(x, maximas, a, b, c, d):\n",
        "    xp = maximas[0]\n",
        "    maximas = maximas[1:]\n",
        "    f_xp = 1 - np.exp(-xp)\n",
        "    f_x = np.zeros(x.shape)\n",
        "    for i in range(x.shape[0]):\n",
        "        f_x[i] = f_inc(x[i], xp, f_xp, a, b, c, d)\n",
        "        if x[i] == xp:\n",
        "            xp = maximas[0]\n",
        "            maximas = maximas[1:]\n",
        "            f_xp = 1 - np.exp(-xp)\n",
        "    return f_x\n",
        "                                            # from where i want to combine inc and dec condition \n",
        "def predict_dec(x, minimas, a, b, c, d):\n",
        "    xp_dec = minimas[0]\n",
        "    minimas = minimas[1:]\n",
        "    f_xp_dec = 1 - np.exp(xp_dec)\n",
        "    f_x_dec = np.zeros(x.shape)\n",
        "    for i in range(x.shape[0]):\n",
        "        f_x_dec[i] = f_dec(x[i], xp_dec, f_xp_dec, a, b, c, d)\n",
        "        if x[i] == xp_dec:\n",
        "            xp_dec = minimas[0]\n",
        "            minimas = minimas[1:]\n",
        "            f_x_dec = 1 - np.exp(xp_dec)\n",
        "    return f_x_dec"
      ],
      "metadata": {
        "id": "TTBlA6FvWNM9"
      },
      "execution_count": 263,
      "outputs": []
    },
    {
      "cell_type": "code",
      "source": [
        "(a_inc, b_inc, c_inc, d_inc)=(0.0018965684044499756, -0.029563260159928464, 0.15724988625259798, 0.03348298198783814)\n",
        "(a_dec, b_dec, c_dec, d_dec)=(-0.010373431775069952, -0.05423302123075123, 0.008, -0.06286687387134053)\n",
        "                                  #-0.0007572041516086369 -0.034121191147066104 0.16168950463762052 0.038426038392100306 #after iteration  we got these parameter\n",
        "                                  #-0.005710084849514411 -0.04620117683031688 0.008 -0.0583260202148420                  "
      ],
      "metadata": {
        "id": "3f8fUYAlb-Tv"
      },
      "execution_count": 264,
      "outputs": []
    },
    {
      "cell_type": "code",
      "source": [
        "# del_train_x_inc=np.diff(train_x_inc)\n",
        "# #del_train_x_inc_2=np.append(del_train_x_inc,del_train_x_inc[-1])\n",
        "# plt.plot(del_train_x_inc)\n",
        "# # plt.plot(del_train_x_inc_2)\n",
        "plt.show()"
      ],
      "metadata": {
        "id": "p5-dpSIOmExx",
        "outputId": "9899723d-fad0-468e-b47b-9f0de0df18b3",
        "colab": {
          "base_uri": "https://localhost:8080/",
          "height": 265
        }
      },
      "execution_count": 102,
      "outputs": [
        {
          "output_type": "display_data",
          "data": {
            "text/plain": [
              "<Figure size 432x288 with 1 Axes>"
            ],
            "image/png": "[encoded data removed]"
          },
          "metadata": {
            "needs_background": "light"
          }
        }
      ]
    },
    {
      "cell_type": "code",
      "source": [
        "df_1 =pd.read_excel('/content/20khz.xlsx')\n",
        "train_x = np.array(df_1['x'], dtype=np.float64)\n",
        "train_y = np.array(df_1['y'], dtype=np.float64)\n",
        "\n",
        "# train_x = np.array(df['x'], dtype=np.float64)\n",
        "# train_y = np.array(df['y'], dtype=np.float64)\n",
        "print(train_x.shape, train_y.shape)"
      ],
      "metadata": {
        "id": "AST_GvE6RoIb",
        "outputId": "797cee97-da28-47d0-c954-7b0c6e229c0c",
        "colab": {
          "base_uri": "https://localhost:8080/"
        }
      },
      "execution_count": 348,
      "outputs": [
        {
          "output_type": "stream",
          "name": "stdout",
          "text": [
            "(2001,) (2001,)\n"
          ]
        }
      ]
    },
    {
      "cell_type": "code",
      "source": [
        "train_x_d2=np.gradient(train_x)"
      ],
      "metadata": {
        "id": "_j-w_59cY2WX"
      },
      "execution_count": 349,
      "outputs": []
    },
    {
      "cell_type": "code",
      "source": [
        "print(train_x.shape,train_x_d2.shape)\n"
      ],
      "metadata": {
        "id": "JbtqDhnZb-9G",
        "outputId": "b6ad2721-f1ea-4b81-9a07-4b4baeb67431",
        "colab": {
          "base_uri": "https://localhost:8080/"
        }
      },
      "execution_count": 350,
      "outputs": [
        {
          "output_type": "stream",
          "name": "stdout",
          "text": [
            "(2001,) (2001,)\n"
          ]
        }
      ]
    },
    {
      "cell_type": "code",
      "source": [
        "train_x_d3=np.diff(train_x)\n"
      ],
      "metadata": {
        "id": "VGM1rdDVcejj"
      },
      "execution_count": 351,
      "outputs": []
    },
    {
      "cell_type": "code",
      "source": [
        "train_x_d3.shape"
      ],
      "metadata": {
        "id": "JVDBDvidcn52",
        "outputId": "287ead38-2604-4a80-8efd-f77374fff330",
        "colab": {
          "base_uri": "https://localhost:8080/"
        }
      },
      "execution_count": 345,
      "outputs": [
        {
          "output_type": "execute_result",
          "data": {
            "text/plain": [
              "(2000,)"
            ]
          },
          "metadata": {},
          "execution_count": 345
        }
      ]
    },
    {
      "cell_type": "code",
      "source": [
        "n_size=2000\n",
        "train_x=train_x[:n_size]\n",
        "train_x_d2=train_x[:n_size]\n",
        "train_x_d3=train_x[:n_size]"
      ],
      "metadata": {
        "id": "5pSSaajYcrSl"
      },
      "execution_count": 352,
      "outputs": []
    },
    {
      "cell_type": "code",
      "source": [
        "plt.subplot(3,1,1)\n",
        "plt.plot(train_x)\n",
        "plt.subplot(3,1,2)\n",
        "plt.plot(train_x_d2)\n",
        "plt.subplot(3,1,3)\n",
        "plt.plot(train_x_d3)\n",
        "\n",
        "plt.show()"
      ],
      "metadata": {
        "id": "5tcg1TTgcLDb",
        "outputId": "b0361599-2d76-4b41-8b8c-07accca36e64",
        "colab": {
          "base_uri": "https://localhost:8080/",
          "height": 265
        }
      },
      "execution_count": 353,
      "outputs": [
        {
          "output_type": "display_data",
          "data": {
            "text/plain": [
              "<Figure size 432x288 with 3 Axes>"
            ],
            "image/png": "[encoded data removed]"
          },
          "metadata": {
            "needs_background": "light"
          }
        }
      ]
    },
    {
      "cell_type": "code",
      "source": [
        "train_x_d=train_x[:2000]\n",
        "train_x_del=np.append(train_x, train_x_d)"
      ],
      "metadata": {
        "id": "vJbzSOk-aPCt"
      },
      "execution_count": 337,
      "outputs": []
    },
    {
      "cell_type": "code",
      "source": [
        "print(train_x.shape,train_x_d.shape,train_x_del.shape)"
      ],
      "metadata": {
        "id": "Yrk9YrlVbLWz",
        "outputId": "15972d1d-3dae-4eb9-eae0-0a25099d7646",
        "colab": {
          "base_uri": "https://localhost:8080/"
        }
      },
      "execution_count": 338,
      "outputs": [
        {
          "output_type": "stream",
          "name": "stdout",
          "text": [
            "(2001,) (2000,) (4001,)\n"
          ]
        }
      ]
    },
    {
      "cell_type": "code",
      "source": [
        "x_diff = np.diff(train_x)\n",
        "x_diff_1 = np.append(x_diff, x_diff[-1])\n",
        "plt.plot(x_diff_1)\n",
        "plt.plot(x_diff)\n",
        "plt.show()\n",
        "# plt.plot(train_x_inc,del_train_x_inc)\n",
        "# plt.show()"
      ],
      "metadata": {
        "id": "MJkllLl0mORg",
        "outputId": "c12ee624-27b3-4387-f7e5-7b90b2bf7d87",
        "colab": {
          "base_uri": "https://localhost:8080/",
          "height": 265
        }
      },
      "execution_count": 332,
      "outputs": [
        {
          "output_type": "display_data",
          "data": {
            "text/plain": [
              "<Figure size 432x288 with 1 Axes>"
            ],
            "image/png": "[encoded data removed]"
          },
          "metadata": {
            "needs_background": "light"
          }
        }
      ]
    },
    {
      "cell_type": "code",
      "source": [
        "plt.subplot(2,1,1)\n",
        "plt.plot(x_diff)\n",
        "plt.subplot(2,1,2)\n",
        "plt.plot(train_x)\n",
        "plt.show()"
      ],
      "metadata": {
        "id": "9IQHt9PLWLdn",
        "outputId": "16e3a78d-b09f-4b31-96ac-be85eabd0d36",
        "colab": {
          "base_uri": "https://localhost:8080/",
          "height": 265
        }
      },
      "execution_count": 317,
      "outputs": [
        {
          "output_type": "display_data",
          "data": {
            "text/plain": [
              "<Figure size 432x288 with 2 Axes>"
            ],
            "image/png": "[encoded data removed]"
          },
          "metadata": {
            "needs_background": "light"
          }
        }
      ]
    },
    {
      "cell_type": "code",
      "source": [
        "train_x=train_x[:2000]"
      ],
      "metadata": {
        "id": "-pP9uBFDYspA"
      },
      "execution_count": 330,
      "outputs": []
    },
    {
      "cell_type": "code",
      "source": [
        "d_train_x=train_x[0:]-train_x[1:]"
      ],
      "metadata": {
        "id": "YvbJRyZKTAOT"
      },
      "execution_count": null,
      "outputs": []
    },
    {
      "cell_type": "code",
      "source": [
        "print(d_train_x.shape,train_x.shape,x_diff.shape)"
      ],
      "metadata": {
        "id": "mlFNRCRAUwV-",
        "outputId": "4aea9928-bb1a-45be-ff87-17b7c8efd66b",
        "colab": {
          "base_uri": "https://localhost:8080/"
        }
      },
      "execution_count": 324,
      "outputs": [
        {
          "output_type": "stream",
          "name": "stdout",
          "text": [
            "(2000,) (2001,) (2000,)\n"
          ]
        }
      ]
    },
    {
      "cell_type": "code",
      "source": [
        "# plt.subplot(3,1,1)\n",
        "# plt.plot(x_diff,'r')\n",
        "# plt.subplot(3,1,2)\n",
        "plt.plot(train_x,'b')\n",
        "# plt.subplot(3,1,3)\n",
        "plt.plot(d_train_x,'g')\n",
        "plt.show()"
      ],
      "metadata": {
        "id": "3KFwfrqPRuyy",
        "outputId": "b2b39c47-ce65-4ab7-d29c-ec4537e04641",
        "colab": {
          "base_uri": "https://localhost:8080/",
          "height": 265
        }
      },
      "execution_count": 328,
      "outputs": [
        {
          "output_type": "display_data",
          "data": {
            "text/plain": [
              "<Figure size 432x288 with 1 Axes>"
            ],
            "image/png": "[encoded data removed]"
          },
          "metadata": {
            "needs_background": "light"
          }
        }
      ]
    },
    {
      "cell_type": "code",
      "source": [
        "train_x=train_x[:2000]\n",
        "# d_train_x=d_train_x[:2000]\n"
      ],
      "metadata": {
        "id": "HUc34xrPUETu"
      },
      "execution_count": 307,
      "outputs": []
    },
    {
      "cell_type": "code",
      "source": [
        "print(d_train_x.shape,train_x.shape)"
      ],
      "metadata": {
        "id": "49CD8v6UVJyc",
        "outputId": "bb814e61-ef69-453a-eea5-4214727dd8cc",
        "colab": {
          "base_uri": "https://localhost:8080/"
        }
      },
      "execution_count": 308,
      "outputs": [
        {
          "output_type": "stream",
          "name": "stdout",
          "text": [
            "(2000,) (2000,)\n"
          ]
        }
      ]
    },
    {
      "cell_type": "code",
      "source": [
        "plt.subplot(2,1,1)\n",
        "plt.plot(train_x)\n",
        "plt.subplot(2,1,2)\n",
        "#plt.plot(train_x)\n",
        "plt.plot(d_train_x)\n",
        "plt.show()"
      ],
      "metadata": {
        "id": "wt7qR_PeTP4v",
        "outputId": "d37ebf2a-2d17-4bdb-cda2-cb9e6b167ce0",
        "colab": {
          "base_uri": "https://localhost:8080/",
          "height": 265
        }
      },
      "execution_count": 313,
      "outputs": [
        {
          "output_type": "display_data",
          "data": {
            "text/plain": [
              "<Figure size 432x288 with 2 Axes>"
            ],
            "image/png": "[encoded data removed]"
          },
          "metadata": {
            "needs_background": "light"
          }
        }
      ]
    },
    {
      "cell_type": "code",
      "source": [
        "predict_y = predict(train_x_del, maximas_values, a_inc, b_inc, c_inc, d_inc)"
      ],
      "metadata": {
        "id": "9ulh3a10PNuB"
      },
      "execution_count": 265,
      "outputs": []
    },
    {
      "cell_type": "code",
      "source": [
        "print(train_x_del.shape,train_x.shape,predict_y.shape,train_y.shape)"
      ],
      "metadata": {
        "id": "vWciHtXcQHup",
        "outputId": "1e46ba1b-c6a0-40aa-baa2-b60c20da04c7",
        "colab": {
          "base_uri": "https://localhost:8080/"
        }
      },
      "execution_count": 276,
      "outputs": [
        {
          "output_type": "stream",
          "name": "stdout",
          "text": [
            "(2001,) (900,) (2001,) (900,)\n"
          ]
        }
      ]
    },
    {
      "cell_type": "code",
      "source": [
        "predict_y = predict(train_x_del, maximas_values, a_inc, b_inc, c_inc, d_inc)\n",
        "predict_y = ewma_vectorized(predict_y, 11)\n",
        "plt.subplot(2, 1, 1)\n",
        "plt.plot(train_x_f, train_y_f)\n",
        "plt.plot(train_x_del, predict_y)\n",
        "plt.show()    \n",
        "                                                  #Combine \n",
        "# y_pred_dec = predict(train_x_del, minimas_values, a_dec, b_dec, c_dec, d_dec)\n",
        "# y_pred_dec = ewma_vectorized(y_pred_dec, 11)\n",
        "# plt.subplot(2, 1, 2)\n",
        "# plt.plot(train_x_del, train_y_dec,',')\n",
        "# plt.plot(train_x_del, y_pred_dec,',')\n",
        "# plt.show()"
      ],
      "metadata": {
        "colab": {
          "base_uri": "https://localhost:8080/",
          "height": 147
        },
        "id": "w2yomZ3rcMZA",
        "outputId": "7727ab60-8fbc-4db1-98b6-db06259d6fc4"
      },
      "execution_count": 281,
      "outputs": [
        {
          "output_type": "display_data",
          "data": {
            "text/plain": [
              "<Figure size 432x288 with 1 Axes>"
            ],
            "image/png": "[encoded data removed]"
          },
          "metadata": {
            "needs_background": "light"
          }
        }
      ]
    },
    {
      "cell_type": "code",
      "source": [
        "def cost_f_inc(x, y, maximas,  a, b, c, d):\n",
        "    y_pred_inc = predict(x, maximas, a, b, c, d)\n",
        "    return np.sum((y - y_pred_inc)**2)\n",
        "                                              # combining cost # from where i want to combine inc and dec condition \n",
        "def cost_f_dec(x, y, minimas,  a, b, c, d):\n",
        "    y_pred_d = predict_dec(x, minimas, a, b, c, d)\n",
        "    return np.sum((y - y_pred_d)**2)   "
      ],
      "metadata": {
        "id": "vUTjYxYsdCZG"
      },
      "execution_count": 70,
      "outputs": []
    },
    {
      "cell_type": "code",
      "source": [
        "cost_1 = cost_f_inc(train_x_inc, train_y_inc, maximas_values, a_inc, b_inc, c_inc, d_inc)\n",
        "cost_1\n",
        "cost_2 = cost_f_dec(train_x_dec, train_y_dec, minimas_values, a_inc, b_inc, c_inc, d_inc)\n",
        "cost_2\n",
        "print(cost_1)\n",
        "print(cost_2)"
      ],
      "metadata": {
        "colab": {
          "base_uri": "https://localhost:8080/"
        },
        "id": "Gr3oPl2zdHZk",
        "outputId": "b4225027-1596-40c1-efee-925fb82c0d48"
      },
      "execution_count": 71,
      "outputs": [
        {
          "output_type": "stream",
          "name": "stdout",
          "text": [
            "0.012745436165296033\n",
            "0.08945729344731065\n"
          ]
        }
      ]
    },
    {
      "cell_type": "code",
      "source": [
        "def grad_a(x, y, maximas, a, b, c, d):\n",
        "    y_pred = predict(x, maximas, a, b, c, d)\n",
        "    cost_deriv = 2*(y - y_pred)\n",
        "    a_deriv = np.zeros(x.shape)\n",
        "    xp = maximas[0]\n",
        "    maximas = maximas[1:]\n",
        "    for i in range(x.shape[0]):\n",
        "        a_deriv[i] = x[i] - xp\n",
        "        if x[i] == xp:\n",
        "            xp = maximas[0]\n",
        "            maximas = maximas[1:]\n",
        "    return np.sum(cost_deriv*a_deriv)\n",
        "\n",
        "\n",
        "def grad_b(x, y, maximas, a, b, c, d):\n",
        "    y_pred = predict(x, maximas, a, b, c, d)\n",
        "    c_deriv = 2*(y - y_pred)\n",
        "    b_deriv = np.zeros(x.shape)\n",
        "    xp = maximas[0]\n",
        "    maximas = maximas[1:]\n",
        "    for i in range(x.shape[0]):\n",
        "        b_deriv[i] = -np.exp(-d*(xp - x[i]))*(x[i] - xp)\n",
        "        if x[i] == xp:\n",
        "            xp = maximas[0]\n",
        "            maximas = maximas[1:]\n",
        "    return np.sum(c_deriv*b_deriv)\n",
        "\n",
        "\n",
        "def grad_c(x, y, maximas, a, b, c, d):\n",
        "    y_pred = predict(x, maximas, a, b, c, d)\n",
        "    cost_deriv = 2*(y - y_pred)\n",
        "    c_deriv = np.zeros(x.shape)\n",
        "    xp = maximas[0]\n",
        "    maximas = maximas[1:]\n",
        "    f_xp = 1 - np.exp(-xp)\n",
        "    for i in range(x.shape[0]):\n",
        "        c_deriv[i] = f_xp\n",
        "        if x[i] == xp:\n",
        "            xp = maximas[0]\n",
        "            maximas = maximas[1:]\n",
        "            f_xp = 1 - np.exp(-xp)\n",
        "    return np.sum(cost_deriv*c_deriv)\n",
        "\n",
        "\n",
        "def grad_d(x, y, maximas, a, b, c, d):\n",
        "    y_pred = predict(x, maximas, a, b, c, d)\n",
        "    cost_deriv = 2*(y - y_pred)\n",
        "    d_deriv = np.zeros(x.shape)\n",
        "    xp = maximas[0]\n",
        "    maximas = maximas[1:]\n",
        "    for i in range(x.shape[0]):\n",
        "        d_deriv[i] = b*np.exp(-d*(xp - x[i]))*(x[i] - xp)*(xp - x[i])\n",
        "        if x[i] == xp:\n",
        "            xp = maximas[0]\n",
        "            maximas = maximas[1:]\n",
        "    return np.sum(cost_deriv*d_deriv)"
      ],
      "metadata": {
        "id": "GUzjpHmgdK1W"
      },
      "execution_count": 72,
      "outputs": []
    },
    {
      "cell_type": "code",
      "source": [
        "a_derv = grad_a(train_x_inc, train_y_inc, maximas_values, a_inc, b_inc, c_inc, d_inc)\n",
        "b_derv = grad_b(train_x_inc, train_y_inc, maximas_values, a_inc, b_inc, c_inc, d_inc)\n",
        "c_derv = grad_c(train_x_inc, train_y_inc, maximas_values, a_inc, b_inc, c_inc, d_inc)\n",
        "d_derv = grad_d(train_x_inc, train_y_inc, maximas_values, a_inc, b_inc, c_inc, d_inc)\n",
        "\n",
        "a_derv, b_derv, c_derv, d_derv"
      ],
      "metadata": {
        "colab": {
          "base_uri": "https://localhost:8080/"
        },
        "id": "lU-F3OdMdOZO",
        "outputId": "5e369460-c778-45cf-e17e-278d8e79e714"
      },
      "execution_count": 73,
      "outputs": [
        {
          "output_type": "execute_result",
          "data": {
            "text/plain": [
              "(-12.988991596805327,\n",
              " 11.130823999140935,\n",
              " 5.016619529546028,\n",
              " 1.5006594561718036)"
            ]
          },
          "metadata": {},
          "execution_count": 73
        }
      ]
    },
    {
      "cell_type": "code",
      "source": [
        "a_derv = grad_a(train_x_dec, train_y_dec, minimas_values, a_dec, b_dec, c_dec, d_dec)\n",
        "b_derv = grad_b(train_x_dec, train_y_dec, minimas_values, a_dec, b_dec, c_dec, d_dec)\n",
        "c_derv = grad_c(train_x_dec, train_y_dec, minimas_values, a_dec, b_dec, c_dec, d_dec)\n",
        "d_derv = grad_d(train_x_dec, train_y_dec, minimas_values, a_dec, b_dec, c_dec, d_dec)\n",
        "\n",
        "a_derv, b_derv, c_derv, d_derv"
      ],
      "metadata": {
        "colab": {
          "base_uri": "https://localhost:8080/"
        },
        "id": "JLx9NsjGdSIb",
        "outputId": "77b95f47-9e6c-4f62-9676-5afa310fda78"
      },
      "execution_count": 74,
      "outputs": [
        {
          "output_type": "execute_result",
          "data": {
            "text/plain": [
              "(-12.215510358063877, 9.790330059409474, 0.0, -1.864272187165792)"
            ]
          },
          "metadata": {},
          "execution_count": 74
        }
      ]
    },
    {
      "cell_type": "code",
      "source": [
        "def gradient_descent(x, y, maximas, a, b, c, d, alpha, iterations):\n",
        "    costs = []\n",
        "    for i in range(iterations):\n",
        "        y_pred = predict(x, maximas, a, b, c, d)\n",
        "        cost = cost_f_inc(x, y, maximas, a, b, c, d)\n",
        "        costs.append(cost)\n",
        "        if i % 100 == 0:\n",
        "            print(f'Iteration {i}, cost: {cost}')\n",
        "        a_grad = grad_a(x, y, maximas, a, b, c, d)\n",
        "        b_grad = grad_b(x, y, maximas, a, b, c, d)\n",
        "        c_grad = grad_c(x, y, maximas, a, b, c, d)\n",
        "        d_grad = grad_d(x, y, maximas, a, b, c, d)\n",
        "        a = a + alpha*a_grad\n",
        "        b = b + alpha*b_grad\n",
        "        c = c + alpha*c_grad\n",
        "        d = d + alpha*d_grad\n",
        "    return a, b, c, d, costs"
      ],
      "metadata": {
        "id": "JIYA7QAZdVv4"
      },
      "execution_count": 75,
      "outputs": []
    },
    {
      "cell_type": "code",
      "source": [
        "a_inc, b_inc, c_inc, d_inc, costs = gradient_descent(\n",
        "    train_x_inc, train_y_inc, maximas_values, a_inc, b_inc, c_inc, d_inc, 0.00001, 10000)\n",
        "#combine\n",
        "a_dec, b_dec, c_dec, d_dec, costs = gradient_descent(\n",
        "    train_x_dec, train_y_dec, minimas_values, a_dec, b_dec, c_dec, d_dec, 0.00001, 10000)"
      ],
      "metadata": {
        "colab": {
          "base_uri": "https://localhost:8080/"
        },
        "id": "sdHa1rBFcl6U",
        "outputId": "5b191c45-4207-4645-e1a9-7bae50feb309"
      },
      "execution_count": 77,
      "outputs": [
        {
          "output_type": "stream",
          "name": "stdout",
          "text": [
            "Iteration 0, cost: 0.0055155673628458695\n",
            "Iteration 100, cost: 0.005515269442914602\n",
            "Iteration 200, cost: 0.005514986215843164\n",
            "Iteration 300, cost: 0.00551471696091501\n",
            "Iteration 400, cost: 0.005514460992038937\n",
            "Iteration 500, cost: 0.005514217656139536\n",
            "Iteration 600, cost: 0.005513986331618448\n",
            "Iteration 700, cost: 0.00551376642688362\n",
            "Iteration 800, cost: 0.0055135573789438196\n",
            "Iteration 900, cost: 0.00551335865206578\n",
            "Iteration 1000, cost: 0.005513169736491433\n",
            "Iteration 1100, cost: 0.005512990147212753\n",
            "Iteration 1200, cost: 0.005512819422801827\n",
            "Iteration 1300, cost: 0.005512657124293864\n",
            "Iteration 1400, cost: 0.005512502834120936\n",
            "Iteration 1500, cost: 0.005512356155094273\n",
            "Iteration 1600, cost: 0.005512216709433093\n",
            "Iteration 1700, cost: 0.005512084137837976\n",
            "Iteration 1800, cost: 0.005511958098606835\n",
            "Iteration 1900, cost: 0.0055118382667916875\n",
            "Iteration 2000, cost: 0.005511724333394452\n",
            "Iteration 2100, cost: 0.005511616004600033\n",
            "Iteration 2200, cost: 0.005511513001045101\n",
            "Iteration 2300, cost: 0.005511415057120996\n",
            "Iteration 2400, cost: 0.0055113219203092\n",
            "Iteration 2500, cost: 0.005511233350547996\n",
            "Iteration 2600, cost: 0.005511149119628871\n",
            "Iteration 2700, cost: 0.00551106901062135\n",
            "Iteration 2800, cost: 0.005510992817325008\n",
            "Iteration 2900, cost: 0.005510920343747377\n",
            "Iteration 3000, cost: 0.005510851403606631\n",
            "Iteration 3100, cost: 0.005510785819857899\n",
            "Iteration 3200, cost: 0.005510723424242112\n",
            "Iteration 3300, cost: 0.005510664056856388\n",
            "Iteration 3400, cost: 0.005510607565744941\n",
            "Iteration 3500, cost: 0.005510553806509584\n",
            "Iteration 3600, cost: 0.005510502641938891\n",
            "Iteration 3700, cost: 0.005510453941655212\n",
            "Iteration 3800, cost: 0.005510407581778643\n",
            "Iteration 3900, cost: 0.005510363444607214\n",
            "Iteration 4000, cost: 0.005510321418312502\n",
            "Iteration 4100, cost: 0.005510281396649986\n",
            "Iteration 4200, cost: 0.005510243278683408\n",
            "Iteration 4300, cost: 0.005510206968522501\n",
            "Iteration 4400, cost: 0.005510172375073475\n",
            "Iteration 4500, cost: 0.005510139411801614\n",
            "Iteration 4600, cost: 0.005510107996505452\n",
            "Iteration 4700, cost: 0.005510078051101944\n",
            "Iteration 4800, cost: 0.005510049501422137\n",
            "Iteration 4900, cost: 0.0055100222770168225\n",
            "Iteration 5000, cost: 0.005509996310971708\n",
            "Iteration 5100, cost: 0.005509971539731632\n",
            "Iteration 5200, cost: 0.0055099479029334115\n",
            "Iteration 5300, cost: 0.00550992534324689\n",
            "Iteration 5400, cost: 0.0055099038062237995\n",
            "Iteration 5500, cost: 0.005509883240154076\n",
            "Iteration 5600, cost: 0.005509863595929218\n",
            "Iteration 5700, cost: 0.005509844826912418\n",
            "Iteration 5800, cost: 0.0055098268888150795\n",
            "Iteration 5900, cost: 0.00550980973957944\n",
            "Iteration 6000, cost: 0.005509793339267002\n",
            "Iteration 6100, cost: 0.005509777649952477\n",
            "Iteration 6200, cost: 0.00550976263562299\n",
            "Iteration 6300, cost: 0.005509748262082266\n",
            "Iteration 6400, cost: 0.005509734496859595\n",
            "Iteration 6500, cost: 0.005509721309123283\n",
            "Iteration 6600, cost: 0.005509708669598427\n",
            "Iteration 6700, cost: 0.00550969655048878\n",
            "Iteration 6800, cost: 0.0055096849254024785\n",
            "Iteration 6900, cost: 0.00550967376928149\n",
            "Iteration 7000, cost: 0.005509663058334581\n",
            "Iteration 7100, cost: 0.005509652769973593\n",
            "Iteration 7200, cost: 0.005509642882752947\n",
            "Iteration 7300, cost: 0.0055096333763121185\n",
            "Iteration 7400, cost: 0.005509624231321023\n",
            "Iteration 7500, cost: 0.0055096154294281075\n",
            "Iteration 7600, cost: 0.0055096069532110485\n",
            "Iteration 7700, cost: 0.005509598786129925\n",
            "Iteration 7800, cost: 0.005509590912482713\n",
            "Iteration 7900, cost: 0.005509583317363028\n",
            "Iteration 8000, cost: 0.005509575986619983\n",
            "Iteration 8100, cost: 0.005509568906820049\n",
            "Iteration 8200, cost: 0.005509562065210848\n",
            "Iteration 8300, cost: 0.005509555449686733\n",
            "Iteration 8400, cost: 0.005509549048756132\n",
            "Iteration 8500, cost: 0.005509542851510507\n",
            "Iteration 8600, cost: 0.005509536847594884\n",
            "Iteration 8700, cost: 0.00550953102717986\n",
            "Iteration 8800, cost: 0.0055095253809350165\n",
            "Iteration 8900, cost: 0.005509519900003684\n",
            "Iteration 9000, cost: 0.0055095145759789625\n",
            "Iteration 9100, cost: 0.005509509400880953\n",
            "Iteration 9200, cost: 0.005509504367135144\n",
            "Iteration 9300, cost: 0.005509499467551869\n",
            "Iteration 9400, cost: 0.005509494695306827\n",
            "Iteration 9500, cost: 0.005509490043922562\n",
            "Iteration 9600, cost: 0.005509485507250885\n",
            "Iteration 9700, cost: 0.005509481079456184\n",
            "Iteration 9800, cost: 0.005509476754999578\n",
            "Iteration 9900, cost: 0.005509472528623871\n",
            "Iteration 0, cost: 0.011124500427701979\n",
            "Iteration 100, cost: 0.011124321402950015\n",
            "Iteration 200, cost: 0.011124142343075176\n",
            "Iteration 300, cost: 0.011123963246450907\n",
            "Iteration 400, cost: 0.011123784111679897\n",
            "Iteration 500, cost: 0.01112360493756145\n",
            "Iteration 600, cost: 0.011123425723063627\n",
            "Iteration 700, cost: 0.011123246467299251\n",
            "Iteration 800, cost: 0.011123067169505433\n",
            "Iteration 900, cost: 0.011122887829025995\n",
            "Iteration 1000, cost: 0.01112270844529639\n",
            "Iteration 1100, cost: 0.011122529017830786\n",
            "Iteration 1200, cost: 0.011122349546211\n",
            "Iteration 1300, cost: 0.011122170030076987\n",
            "Iteration 1400, cost: 0.011121990469118699\n",
            "Iteration 1500, cost: 0.011121810863069077\n",
            "Iteration 1600, cost: 0.011121631211698086\n",
            "Iteration 1700, cost: 0.011121451514807524\n",
            "Iteration 1800, cost: 0.011121271772226642\n",
            "Iteration 1900, cost: 0.011121091983808321\n",
            "Iteration 2000, cost: 0.011120912149425823\n",
            "Iteration 2100, cost: 0.011120732268969993\n",
            "Iteration 2200, cost: 0.01112055234234684\n",
            "Iteration 2300, cost: 0.011120372369475492\n",
            "Iteration 2400, cost: 0.011120192350286382\n",
            "Iteration 2500, cost: 0.011120012284719757\n",
            "Iteration 2600, cost: 0.011119832172724315\n",
            "Iteration 2700, cost: 0.011119652014256125\n",
            "Iteration 2800, cost: 0.011119471809277599\n",
            "Iteration 2900, cost: 0.011119291557756681\n",
            "Iteration 3000, cost: 0.011119111259666109\n",
            "Iteration 3100, cost: 0.01111893091498279\n",
            "Iteration 3200, cost: 0.011118750523687269\n",
            "Iteration 3300, cost: 0.01111857008576324\n",
            "Iteration 3400, cost: 0.011118389601197166\n",
            "Iteration 3500, cost: 0.011118209069977923\n",
            "Iteration 3600, cost: 0.011118028492096487\n",
            "Iteration 3700, cost: 0.011117847867545678\n",
            "Iteration 3800, cost: 0.01111766719631995\n",
            "Iteration 3900, cost: 0.011117486478415168\n",
            "Iteration 4000, cost: 0.011117305713828445\n",
            "Iteration 4100, cost: 0.01111712490255801\n",
            "Iteration 4200, cost: 0.011116944044603054\n",
            "Iteration 4300, cost: 0.011116763139963636\n",
            "Iteration 4400, cost: 0.01111658218864058\n",
            "Iteration 4500, cost: 0.011116401190635377\n",
            "Iteration 4600, cost: 0.011116220145950127\n",
            "Iteration 4700, cost: 0.01111603905458747\n",
            "Iteration 4800, cost: 0.01111585791655051\n",
            "Iteration 4900, cost: 0.011115676731842807\n",
            "Iteration 5000, cost: 0.01111549550046827\n",
            "Iteration 5100, cost: 0.01111531422243119\n",
            "Iteration 5200, cost: 0.011115132897736149\n",
            "Iteration 5300, cost: 0.011114951526388\n",
            "Iteration 5400, cost: 0.011114770108391875\n",
            "Iteration 5500, cost: 0.011114588643753125\n",
            "Iteration 5600, cost: 0.011114407132477303\n",
            "Iteration 5700, cost: 0.01111422557457017\n",
            "Iteration 5800, cost: 0.011114043970037641\n",
            "Iteration 5900, cost: 0.011113862318885805\n",
            "Iteration 6000, cost: 0.011113680621120895\n",
            "Iteration 6100, cost: 0.01111349887674928\n",
            "Iteration 6200, cost: 0.01111331708577745\n",
            "Iteration 6300, cost: 0.011113135248212004\n",
            "Iteration 6400, cost: 0.01111295336405967\n",
            "Iteration 6500, cost: 0.011112771433327239\n",
            "Iteration 6600, cost: 0.011112589456021634\n",
            "Iteration 6700, cost: 0.011112407432149838\n",
            "Iteration 6800, cost: 0.011112225361718924\n",
            "Iteration 6900, cost: 0.011112043244736029\n",
            "Iteration 7000, cost: 0.01111186108120838\n",
            "Iteration 7100, cost: 0.011111678871143258\n",
            "Iteration 7200, cost: 0.011111496614548012\n",
            "Iteration 7300, cost: 0.011111314311430049\n",
            "Iteration 7400, cost: 0.011111131961796831\n",
            "Iteration 7500, cost: 0.011110949565655875\n",
            "Iteration 7600, cost: 0.011110767123014757\n",
            "Iteration 7700, cost: 0.011110584633881098\n",
            "Iteration 7800, cost: 0.011110402098262561\n",
            "Iteration 7900, cost: 0.011110219516166848\n",
            "Iteration 8000, cost: 0.011110036887601732\n",
            "Iteration 8100, cost: 0.011109854212575002\n",
            "Iteration 8200, cost: 0.011109671491094484\n",
            "Iteration 8300, cost: 0.011109488723168075\n",
            "Iteration 8400, cost: 0.011109305908803678\n",
            "Iteration 8500, cost: 0.011109123048009243\n",
            "Iteration 8600, cost: 0.011108940140792768\n",
            "Iteration 8700, cost: 0.011108757187162262\n",
            "Iteration 8800, cost: 0.011108574187125785\n",
            "Iteration 8900, cost: 0.01110839114069143\n",
            "Iteration 9000, cost: 0.011108208047867309\n",
            "Iteration 9100, cost: 0.011108024908661578\n",
            "Iteration 9200, cost: 0.01110784172308242\n",
            "Iteration 9300, cost: 0.011107658491138058\n",
            "Iteration 9400, cost: 0.011107475212836719\n",
            "Iteration 9500, cost: 0.011107291888186687\n",
            "Iteration 9600, cost: 0.011107108517196266\n",
            "Iteration 9700, cost: 0.011106925099873781\n",
            "Iteration 9800, cost: 0.011106741636227584\n",
            "Iteration 9900, cost: 0.011106558126266078\n"
          ]
        }
      ]
    },
    {
      "cell_type": "code",
      "source": [
        "#cost_inc=0.005509472528623871\n",
        "#cost_dec=0.011106558126266078"
      ],
      "metadata": {
        "id": "fnHMn0Ire74w"
      },
      "execution_count": null,
      "outputs": []
    },
    {
      "cell_type": "code",
      "source": [
        "print(a_inc, b_inc, c_inc, d_inc) #-0.0007572041516086369 -0.034121191147066104 0.16168950463762052 0.038426038392100306\n",
        "                                  #-0.005710084849514411 -0.04620117683031688 0.008 -0.0583260202148420"
      ],
      "metadata": {
        "colab": {
          "base_uri": "https://localhost:8080/"
        },
        "id": "XP_D5Z44WM_K",
        "outputId": "b4a16132-d027-43a4-dae0-c68d83af440e"
      },
      "execution_count": 78,
      "outputs": [
        {
          "output_type": "stream",
          "name": "stdout",
          "text": [
            "-0.0007572041516086369 -0.034121191147066104 0.16168950463762052 0.038426038392100306\n"
          ]
        }
      ]
    },
    {
      "cell_type": "code",
      "source": [
        "print(a_dec, b_dec, c_dec, d_dec) #-0.005710084849514411 -0.04620117683031688 0.008 -0.0583260202148420"
      ],
      "metadata": {
        "colab": {
          "base_uri": "https://localhost:8080/"
        },
        "id": "GUZ-VnwGWM7o",
        "outputId": "179f4f04-ebdd-4fde-84ba-2d8212743a86"
      },
      "execution_count": 79,
      "outputs": [
        {
          "output_type": "stream",
          "name": "stdout",
          "text": [
            "-0.005710084849514411 -0.04620117683031688 0.008 -0.05832602021484201\n"
          ]
        }
      ]
    },
    {
      "cell_type": "code",
      "source": [
        "y_pred_inc = predict(train_x_inc, maximas_values, a_inc, b_inc, c_inc, d_inc)\n",
        "#y_pred_inc = ewma_vectorized(y_pred_inc, 11)\n",
        "plt.subplot(2, 1, 1)\n",
        "plt.scatter(train_x_inc, train_y_inc)\n",
        "plt.scatter(train_x_inc, y_pred_inc)\n",
        "plt.show()\n",
        "                                        #combine\n",
        "y_pred_dec = predict(train_x_dec, minimas_values, a_dec, b_dec, c_dec, d_dec)\n",
        "#y_pred_dec = ewma_vectorized(y_pred_dec, 11)\n",
        "plt.subplot(2, 1, 2)\n",
        "plt.scatter(train_x_dec, train_y_dec)\n",
        "plt.scatter(train_x_dec, y_pred_dec)\n",
        "plt.show()"
      ],
      "metadata": {
        "colab": {
          "base_uri": "https://localhost:8080/",
          "height": 277
        },
        "id": "eyQPKZl3WMxA",
        "outputId": "5d42a0b1-c7dd-4d5e-cc11-450de9fbaabf"
      },
      "execution_count": 81,
      "outputs": [
        {
          "output_type": "display_data",
          "data": {
            "text/plain": [
              "<Figure size 432x288 with 1 Axes>"
            ],
            "image/png": "[encoded data removed]"
          },
          "metadata": {
            "needs_background": "light"
          }
        },
        {
          "output_type": "display_data",
          "data": {
            "text/plain": [
              "<Figure size 432x288 with 1 Axes>"
            ],
            "image/png": "[encoded data removed]"
          },
          "metadata": {
            "needs_background": "light"
          }
        }
      ]
    },
    {
      "cell_type": "code",
      "source": [
        "plt.scatter(train_x_inc, train_y_inc,c='b',s=0.5)\n",
        "plt.scatter(train_x_inc, y_pred_inc,c='r',s=0.5)\n",
        "plt.scatter(train_x_dec, train_y_dec,c='b',s=0.5)\n",
        "plt.scatter(train_x_dec, y_pred_dec,c='r',s=0.5)\n",
        "plt.show()"
      ],
      "metadata": {
        "colab": {
          "base_uri": "https://localhost:8080/",
          "height": 265
        },
        "id": "korlY0-deNt3",
        "outputId": "0396ee82-06da-4f74-a183-2d1345a0712d"
      },
      "execution_count": 84,
      "outputs": [
        {
          "output_type": "display_data",
          "data": {
            "text/plain": [
              "<Figure size 432x288 with 1 Axes>"
            ],
            "image/png": "[encoded data removed]"
          },
          "metadata": {
            "needs_background": "light"
          }
        }
      ]
    },
    {
      "cell_type": "code",
      "source": [
        "import sklearn"
      ],
      "metadata": {
        "id": "ypSIviWseNpO"
      },
      "execution_count": 90,
      "outputs": []
    },
    {
      "cell_type": "code",
      "source": [
        "y_pred_inc= y_pred_inc.astype(np.float64)\n",
        "y_pred_dec= y_pred_dec.astype(np.float64)"
      ],
      "metadata": {
        "id": "6R4Xedo2eNl-"
      },
      "execution_count": 85,
      "outputs": []
    },
    {
      "cell_type": "code",
      "source": [
        "y_pred_inc.dtype\n",
        "y_pred_dec.dtype\n",
        "print(y_pred_inc.dtype,y_pred_dec.dtype)"
      ],
      "metadata": {
        "colab": {
          "base_uri": "https://localhost:8080/"
        },
        "id": "QZRhmBuXeNam",
        "outputId": "f40db9ce-33b8-4843-be71-a5c3c33956b4"
      },
      "execution_count": 86,
      "outputs": [
        {
          "output_type": "stream",
          "name": "stdout",
          "text": [
            "float64 float64\n"
          ]
        }
      ]
    },
    {
      "cell_type": "code",
      "source": [
        "train_y=train_y_inc+train_y_dec"
      ],
      "metadata": {
        "id": "DWrZXU37jUBN"
      },
      "execution_count": 88,
      "outputs": []
    },
    {
      "cell_type": "code",
      "source": [
        "y_pred=y_pred_inc+y_pred_dec"
      ],
      "metadata": {
        "id": "fFtWYWRpjQJN"
      },
      "execution_count": 87,
      "outputs": []
    },
    {
      "cell_type": "code",
      "source": [
        "mse=sklearn.metrics.mean_squared_error(train_y, y_pred)\n",
        "rmse=np.sqrt(mse)\n",
        "print(rmse)"
      ],
      "metadata": {
        "id": "Tf1_SEdMjQF-",
        "outputId": "5bae0cee-76c2-408a-856d-7d307fc4db4c",
        "colab": {
          "base_uri": "https://localhost:8080/"
        }
      },
      "execution_count": 94,
      "outputs": [
        {
          "output_type": "stream",
          "name": "stdout",
          "text": [
            "0.004104835003831068\n"
          ]
        }
      ]
    },
    {
      "cell_type": "code",
      "source": [
        "error=y_pred_inc-train_y_inc\n",
        "error_smooth=ewma_vectorized(error,12)\n",
        "plt.plot(error)\n",
        "plt.plot(error_smooth)   \n",
        "# plt.xlabel('Time (s)')\n",
        "# plt.ylabel('Error signal')\n",
        "plt.show()"
      ],
      "metadata": {
        "id": "9RFyPRv6jQCs",
        "outputId": "f9c34abb-9131-4a78-d564-76197dd9f0a1",
        "colab": {
          "base_uri": "https://localhost:8080/",
          "height": 265
        }
      },
      "execution_count": 96,
      "outputs": [
        {
          "output_type": "display_data",
          "data": {
            "text/plain": [
              "<Figure size 432x288 with 1 Axes>"
            ],
            "image/png": "[encoded data removed]"
          },
          "metadata": {
            "needs_background": "light"
          }
        }
      ]
    },
    {
      "cell_type": "code",
      "source": [],
      "metadata": {
        "id": "dAkM3b7yjP_o"
      },
      "execution_count": null,
      "outputs": []
    },
    {
      "cell_type": "code",
      "source": [],
      "metadata": {
        "id": "_0RXMc8cjP8W"
      },
      "execution_count": null,
      "outputs": []
    },
    {
      "cell_type": "code",
      "source": [],
      "metadata": {
        "id": "9LB97ENVjP0U"
      },
      "execution_count": null,
      "outputs": []
    }
  ]
}