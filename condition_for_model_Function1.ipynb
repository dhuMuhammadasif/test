{
  "nbformat": 4,
  "nbformat_minor": 0,
  "metadata": {
    "colab": {
      "provenance": [],
      "authorship_tag": "ABX9TyPPiaELS+DXP8DcnbHNhdHj",
      "include_colab_link": true
    },
    "kernelspec": {
      "name": "python3",
      "display_name": "Python 3"
    },
    "language_info": {
      "name": "python"
    }
  },
  "cells": [
    {
      "cell_type": "markdown",
      "metadata": {
        "id": "view-in-github",
        "colab_type": "text"
      },
      "source": [
        "<a href=\"https://colab.research.google.com/github/dhuMuhammadasif/test/blob/master/condition_for_model_Function1.ipynb\" target=\"_parent\"><img src=\"https://colab.research.google.com/assets/colab-badge.svg\" alt=\"Open In Colab\"/></a>"
      ]
    },
    {
      "cell_type": "code",
      "execution_count": null,
      "metadata": {
        "colab": {
          "base_uri": "https://localhost:8080/"
        },
        "id": "r1e_gDDKh47e",
        "outputId": "5dc8f0b0-ba35-41eb-d352-19f31427ec06"
      },
      "outputs": [
        {
          "output_type": "stream",
          "name": "stdout",
          "text": [
            "0.22272885723668728    0.1\n",
            "0.43207136166775995    0.2\n",
            "0.6158206535241406    0.30000000000000004\n",
            "0.764023539176205    0.4\n",
            "0.8698534321838116    0.5\n",
            "0.9302041254311069    0.6\n",
            "0.9459513945076139    0.7000000000000001\n",
            "0.9218591037385511    0.8\n",
            "0.8661382412837603    0.9\n",
            "0.7896983119362381    1.0\n"
          ]
        }
      ],
      "source": [
        "import numpy as np\n",
        "from scipy.misc import derivative\n",
        "import math as m\n",
        "t = np.linspace(0.1, 1, 10)\n",
        "#print(t)\n",
        "Constant=0.5\n",
        "f_Xp=0.3\n",
        "#class temp:\n",
        "   # def _init_(self, t_array):\n",
        "    #    self.t = t_array\n",
        "    #def cal_v_t(self):\n",
        "def V(t_i):\n",
        "    return (1.5*m.sin(0.5*t_i)+0.5*m.sin(3*t_i))\n",
        "for t_i in t:\n",
        "    deri_X = 0.75*m.cos(0.5*t_i) + 1.5*m.cos(3*t_i)\n",
        "    print(V(t_i),\"  \", t_i)\n",
        "   # print(deri_X,\"  \", t_i)"
      ]
    },
    {
      "cell_type": "code",
      "source": [
        "import matplotlib.pyplot as plt\n",
        "plt.plot(V(t_i),t_i,'green')\n",
        "plt.show()"
      ],
      "metadata": {
        "colab": {
          "base_uri": "https://localhost:8080/",
          "height": 265
        },
        "id": "nCIzU7h3x7nd",
        "outputId": "51e79ccc-6c18-4253-846f-ff4b6a03aed0"
      },
      "execution_count": null,
      "outputs": [
        {
          "output_type": "display_data",
          "data": {
            "text/plain": [
              "<Figure size 432x288 with 1 Axes>"
            ],
            "image/png": "[encoded data removed]"
          },
          "metadata": {
            "needs_background": "light"
          }
        }
      ]
    },
    {
      "cell_type": "code",
      "source": [
        "import numpy as np\n",
        "from scipy.misc import derivative\n",
        "import math as m\n",
        "t = np.linspace(0.1, 1, 10)\n",
        "#print(t)\n",
        "Constant=0.5\n",
        "f_Xp=0.3\n",
        "#class temp:\n",
        "   # def _init_(self, t_array):\n",
        "    #    self.t = t_array\n",
        "    #def cal_v_t(self):\n",
        "def V(t_i):\n",
        "    return (1.5*m.sin(0.5*t_i)+0.5*m.sin(3*t_i))\n",
        "for t_i in t:\n",
        "    deri_X = 0.75*m.cos(0.5*t_i) + 1.5*m.cos(3*t_i)\n",
        "   # print(V(t_i),\"  \", t_i)\n",
        "    print(deri_X,\"  \", t_i)"
      ],
      "metadata": {
        "colab": {
          "base_uri": "https://localhost:8080/"
        },
        "id": "4gG0OaoUxm7r",
        "outputId": "f98199d0-9bc6-4066-9610-4a3f75f7ff95"
      },
      "execution_count": null,
      "outputs": [
        {
          "output_type": "stream",
          "name": "stdout",
          "text": [
            "2.1820674289846336    0.1\n",
            "1.9842565463230368    0.2\n",
            "1.6739932608580284    0.30000000000000004\n",
            "1.2785865650959414    0.4\n",
            "0.8327901187845379    0.5\n",
            "0.3756992248045742    0.6\n",
            "-0.05273962226425222    0.7000000000000001\n",
            "-0.41529482780970484    0.8\n",
            "-0.680772886261084    0.9\n",
            "-0.8268018234828887    1.0\n"
          ]
        }
      ]
    },
    {
      "cell_type": "code",
      "source": [
        "    if deri_X<0:\n",
        "      f_x = (1.05-0.3*m.exp(V(t_i) - 0.5))*(V(t_i) - 0.5) + 1.01*0.3\n",
        "    elif deri_X>0:\n",
        "            f_x = (1.05-0.3*m.exp(-(V(t_i) - 0.5)))*(V(t_i) - 0.5) + 1.01*0.3"
      ],
      "metadata": {
        "id": "tY0oGwk8yx5_"
      },
      "execution_count": null,
      "outputs": []
    },
    {
      "cell_type": "code",
      "source": [
        "import numpy as np\n",
        "from scipy.misc import derivative\n",
        "import math as m\n",
        "t = np.linspace(0.1, 1, 10)\n",
        "print(t)\n",
        "Constant=0.5\n",
        "f_Xp=0.3\n",
        "#  asssume x value \n",
        "x=9\n",
        "#  function define\n",
        "def cal_v_t():\n",
        "  for t_in in t:\n",
        "    deri_X = 0.75*m.cos(0.5*t_in) + 1.5*m.cos(3*t_in)\n",
        "    print(deri_X,\"\\tVallue HAs\",t_in+1,\"\\t\", t)\n",
        "#  condition 1\n",
        "    if deri_X>0:\n",
        "      v_t = 1.5*m.sin(0.5*x)+0.5*m.sin(3*x)\n",
        "      f_x = (1-m.exp(v_t - Constant))*(v_t - Constant) + f_Xp\n",
        "      print(\"x greater than 0\")\n",
        "#  condition 2 \n",
        "    elif deri_X<0:\n",
        "      print(\"x less  tha 0\")\n",
        "      v_t = 1.5*m.sin(0.5*x)+0.5*m.sin(3*x)\n",
        "      f_x = (0.5-m.exp(-(v_t - Constant)))*(v_t - Constant) + f_Xp\n",
        "\n",
        "#  calling fuction \n",
        "cal_v_t()"
      ],
      "metadata": {
        "colab": {
          "base_uri": "https://localhost:8080/"
        },
        "id": "FR_qY4JU1NQU",
        "outputId": "e93f8547-1910-4695-b9ce-841cad508124"
      },
      "execution_count": null,
      "outputs": [
        {
          "output_type": "stream",
          "name": "stdout",
          "text": [
            "[0.1 0.2 0.3 0.4 0.5 0.6 0.7 0.8 0.9 1. ]\n",
            "2.1820674289846336 \tVallue HAs 1.1 \t [0.1 0.2 0.3 0.4 0.5 0.6 0.7 0.8 0.9 1. ]\n",
            "x greater than 0\n",
            "1.9842565463230368 \tVallue HAs 1.2 \t [0.1 0.2 0.3 0.4 0.5 0.6 0.7 0.8 0.9 1. ]\n",
            "x greater than 0\n",
            "1.6739932608580284 \tVallue HAs 1.3 \t [0.1 0.2 0.3 0.4 0.5 0.6 0.7 0.8 0.9 1. ]\n",
            "x greater than 0\n",
            "1.2785865650959414 \tVallue HAs 1.4 \t [0.1 0.2 0.3 0.4 0.5 0.6 0.7 0.8 0.9 1. ]\n",
            "x greater than 0\n",
            "0.8327901187845379 \tVallue HAs 1.5 \t [0.1 0.2 0.3 0.4 0.5 0.6 0.7 0.8 0.9 1. ]\n",
            "x greater than 0\n",
            "0.3756992248045742 \tVallue HAs 1.6 \t [0.1 0.2 0.3 0.4 0.5 0.6 0.7 0.8 0.9 1. ]\n",
            "x greater than 0\n",
            "-0.05273962226425222 \tVallue HAs 1.7000000000000002 \t [0.1 0.2 0.3 0.4 0.5 0.6 0.7 0.8 0.9 1. ]\n",
            "x less  tha 0\n",
            "-0.41529482780970484 \tVallue HAs 1.8 \t [0.1 0.2 0.3 0.4 0.5 0.6 0.7 0.8 0.9 1. ]\n",
            "x less  tha 0\n",
            "-0.680772886261084 \tVallue HAs 1.9 \t [0.1 0.2 0.3 0.4 0.5 0.6 0.7 0.8 0.9 1. ]\n",
            "x less  tha 0\n",
            "-0.8268018234828887 \tVallue HAs 2.0 \t [0.1 0.2 0.3 0.4 0.5 0.6 0.7 0.8 0.9 1. ]\n",
            "x less  tha 0\n"
          ]
        }
      ]
    },
    {
      "cell_type": "code",
      "source": [
        "import numpy as np\n",
        "from scipy.misc import derivative\n",
        "import math as m\n",
        "import matplotlib.pyplot as plt\n",
        "t = np.linspace(0.1, 1, 10)\n",
        "print(t)\n",
        "Constant=0.5\n",
        "f_Xp=0.3\n",
        "#  asssume x value \n",
        "x=9\n",
        "f_x = []\n",
        "der = []\n",
        "for t_in in t:\n",
        "  deri_X = 2*4*1*m.pi*m.cos(2*1*m.pi*t_in)\n",
        "  der.append(deri_X)\n",
        "  if deri_X > 0:\n",
        "    t_i = 1 * t\n",
        "    t_i = m.pi * t_i\n",
        "    t_i = 2 * t_i\n",
        "    v_t = 4 * m.sin(t_i)\n",
        "    f_x.append((1.0115-0.3500*m.exp(v_t - 1))*(v_t - 1) + 1.003*f_Xp)\n",
        "    # print(f_x)\n",
        "  elif deri_X < 0:\n",
        "    t_i = 1 * t\n",
        "    t_i = m.pi * t_i\n",
        "    t_i = 2 * t_i\n",
        "    v_t = 4 * m.sin(t_i)\n",
        "    f_x.append((1.0115-0.3500*m.exp(-(v_t - 0.1)))*(v_t - 0.1) + 1.003*f_Xp)\n",
        "    # print(f_x)\n",
        "print(f_x)\n",
        "print(der)\n",
        "plt.plot(t,f_x)\n",
        "plt.show()"
      ],
      "metadata": {
        "colab": {
          "base_uri": "https://localhost:8080/",
          "height": 252
        },
        "id": "T6sZ5RC_1NHH",
        "outputId": "41f9b6b6-a74e-4a7a-9dbc-a3ee8eb255d7"
      },
      "execution_count": 39,
      "outputs": [
        {
          "output_type": "stream",
          "name": "stdout",
          "text": [
            "[0.1 0.2 0.3 0.4 0.5 0.6 0.7 0.8 0.9 1. ]\n"
          ]
        },
        {
          "output_type": "error",
          "ename": "TypeError",
          "evalue": "ignored",
          "traceback": [
            "\u001b[0;31m---------------------------------------------------------------------------\u001b[0m",
            "\u001b[0;31mTypeError\u001b[0m                                 Traceback (most recent call last)",
            "\u001b[0;32m<ipython-input-39-cc4b99de323f>\u001b[0m in \u001b[0;36m<module>\u001b[0;34m\u001b[0m\n\u001b[1;32m     18\u001b[0m     \u001b[0mt_i\u001b[0m \u001b[0;34m=\u001b[0m \u001b[0mm\u001b[0m\u001b[0;34m.\u001b[0m\u001b[0mpi\u001b[0m \u001b[0;34m*\u001b[0m \u001b[0mt_i\u001b[0m\u001b[0;34m\u001b[0m\u001b[0;34m\u001b[0m\u001b[0m\n\u001b[1;32m     19\u001b[0m     \u001b[0mt_i\u001b[0m \u001b[0;34m=\u001b[0m \u001b[0;36m2\u001b[0m \u001b[0;34m*\u001b[0m \u001b[0mt_i\u001b[0m\u001b[0;34m\u001b[0m\u001b[0;34m\u001b[0m\u001b[0m\n\u001b[0;32m---> 20\u001b[0;31m     \u001b[0mv_t\u001b[0m \u001b[0;34m=\u001b[0m \u001b[0;36m4\u001b[0m \u001b[0;34m*\u001b[0m \u001b[0mm\u001b[0m\u001b[0;34m.\u001b[0m\u001b[0msin\u001b[0m\u001b[0;34m(\u001b[0m\u001b[0mt_i\u001b[0m\u001b[0;34m)\u001b[0m\u001b[0;34m\u001b[0m\u001b[0;34m\u001b[0m\u001b[0m\n\u001b[0m\u001b[1;32m     21\u001b[0m     \u001b[0mf_x\u001b[0m\u001b[0;34m.\u001b[0m\u001b[0mappend\u001b[0m\u001b[0;34m(\u001b[0m\u001b[0;34m(\u001b[0m\u001b[0;36m1.0115\u001b[0m\u001b[0;34m-\u001b[0m\u001b[0;36m0.3500\u001b[0m\u001b[0;34m*\u001b[0m\u001b[0mm\u001b[0m\u001b[0;34m.\u001b[0m\u001b[0mexp\u001b[0m\u001b[0;34m(\u001b[0m\u001b[0mv_t\u001b[0m \u001b[0;34m-\u001b[0m \u001b[0;36m1\u001b[0m\u001b[0;34m)\u001b[0m\u001b[0;34m)\u001b[0m\u001b[0;34m*\u001b[0m\u001b[0;34m(\u001b[0m\u001b[0mv_t\u001b[0m \u001b[0;34m-\u001b[0m \u001b[0;36m1\u001b[0m\u001b[0;34m)\u001b[0m \u001b[0;34m+\u001b[0m \u001b[0;36m1.003\u001b[0m\u001b[0;34m*\u001b[0m\u001b[0mf_Xp\u001b[0m\u001b[0;34m)\u001b[0m\u001b[0;34m\u001b[0m\u001b[0;34m\u001b[0m\u001b[0m\n\u001b[1;32m     22\u001b[0m     \u001b[0;31m# print(f_x)\u001b[0m\u001b[0;34m\u001b[0m\u001b[0;34m\u001b[0m\u001b[0;34m\u001b[0m\u001b[0m\n",
            "\u001b[0;31mTypeError\u001b[0m: only size-1 arrays can be converted to Python scalars"
          ]
        }
      ]
    },
    {
      "cell_type": "code",
      "source": [
        "import math\n",
        "A=4 #Amplitude of input\n",
        "f=1 #Frequency\n",
        "T=3/f # three cycle\n",
        "# t=0:2e-5:T #Time \n",
        "t = np.arange(0, T, m.exp(-5))\n",
        "t_in = f * t\n",
        "t_in = m.pi * t_in\n",
        "t_in = 2 * t_in\n",
        "v_t = []\n",
        "for t in t_in:\n",
        "  v_t.append(A * m.sin(t))\n",
        "\n",
        "# print(t_in.shape)\n",
        "plt.plot(t_in,v_t)\n",
        "plt.show()\n",
        "# v=m.sin(2*math.pi*f*t) #Input"
      ],
      "metadata": {
        "colab": {
          "base_uri": "https://localhost:8080/",
          "height": 265
        },
        "id": "SIRjre6To3Iy",
        "outputId": "53a99445-c027-44dd-b6dc-2579e7b599e2"
      },
      "execution_count": 37,
      "outputs": [
        {
          "output_type": "display_data",
          "data": {
            "text/plain": [
              "<Figure size 432x288 with 1 Axes>"
            ],
            "image/png": "[encoded data removed]"
          },
          "metadata": {
            "needs_background": "light"
          }
        }
      ]
    },
    {
      "cell_type": "code",
      "source": [
        "import matplotlib.pyplot as plt\n",
        "plt.plot(v_t,f_x)\n",
        "plt.show()"
      ],
      "metadata": {
        "colab": {
          "base_uri": "https://localhost:8080/",
          "height": 200
        },
        "id": "N-RlTMep1M9s",
        "outputId": "6cf404ce-c01d-4968-808b-36376b2ba9c2"
      },
      "execution_count": null,
      "outputs": [
        {
          "output_type": "error",
          "ename": "NameError",
          "evalue": "ignored",
          "traceback": [
            "\u001b[0;31m---------------------------------------------------------------------------\u001b[0m",
            "\u001b[0;31mNameError\u001b[0m                                 Traceback (most recent call last)",
            "\u001b[0;32m<ipython-input-21-7fef224929e8>\u001b[0m in \u001b[0;36m<module>\u001b[0;34m\u001b[0m\n\u001b[1;32m      1\u001b[0m \u001b[0;32mimport\u001b[0m \u001b[0mmatplotlib\u001b[0m\u001b[0;34m.\u001b[0m\u001b[0mpyplot\u001b[0m \u001b[0;32mas\u001b[0m \u001b[0mplt\u001b[0m\u001b[0;34m\u001b[0m\u001b[0;34m\u001b[0m\u001b[0m\n\u001b[0;32m----> 2\u001b[0;31m \u001b[0mplt\u001b[0m\u001b[0;34m.\u001b[0m\u001b[0mplot\u001b[0m\u001b[0;34m(\u001b[0m\u001b[0mv_t\u001b[0m\u001b[0;34m,\u001b[0m\u001b[0mf_x\u001b[0m\u001b[0;34m)\u001b[0m\u001b[0;34m\u001b[0m\u001b[0;34m\u001b[0m\u001b[0m\n\u001b[0m\u001b[1;32m      3\u001b[0m \u001b[0mplt\u001b[0m\u001b[0;34m.\u001b[0m\u001b[0mshow\u001b[0m\u001b[0;34m(\u001b[0m\u001b[0;34m)\u001b[0m\u001b[0;34m\u001b[0m\u001b[0;34m\u001b[0m\u001b[0m\n",
            "\u001b[0;31mNameError\u001b[0m: name 'v_t' is not defined"
          ]
        }
      ]
    },
    {
      "cell_type": "code",
      "source": [],
      "metadata": {
        "id": "SZmNjoAW1M1M"
      },
      "execution_count": null,
      "outputs": []
    },
    {
      "cell_type": "code",
      "source": [],
      "metadata": {
        "id": "B5YWJU-11MmE"
      },
      "execution_count": null,
      "outputs": []
    },
    {
      "cell_type": "code",
      "source": [
        "import matplotlib.pyplot as plt\n",
        "plt.plot(deri_X,t_i,'r')\n",
        "plt.show()"
      ],
      "metadata": {
        "colab": {
          "base_uri": "https://localhost:8080/",
          "height": 265
        },
        "id": "C5-rOKWOyXN4",
        "outputId": "06c784c1-c0b6-4ff0-dd96-1f87030cd000"
      },
      "execution_count": null,
      "outputs": [
        {
          "output_type": "display_data",
          "data": {
            "text/plain": [
              "<Figure size 432x288 with 1 Axes>"
            ],
            "image/png": "[encoded data removed]"
          },
          "metadata": {
            "needs_background": "light"
          }
        }
      ]
    },
    {
      "cell_type": "code",
      "source": [
        "import numpy as np\n",
        "\n",
        "def dynamic_hysteresis_operator(x, y, alpha, beta, gamma):\n",
        "    \"\"\"\n",
        "    Computes the dynamic hysteretic operator function for a hysteresis model.\n",
        "\n",
        "    Parameters:\n",
        "        x (float): The input value.\n",
        "        y (float): The previous output value.\n",
        "        alpha (float): The alpha coefficient.\n",
        "        beta (float): The beta coefficient.\n",
        "        gamma (float): The gamma coefficient.\n",
        "\n",
        "    Returns:\n",
        "        float: The output value.\n",
        "    \"\"\"\n",
        "    if x >= y:\n",
        "        return alpha * y + beta * x - gamma * y * x\n",
        "    else:\n",
        "        return alpha * y + beta * x + gamma * y * x\n",
        "\n",
        "def preisach_model(x, y, alpha, beta, gamma, delta):\n",
        "    \"\"\"\n",
        "    Computes the output of a Preisach model for a given input.\n",
        "\n",
        "    Parameters:\n",
        "        x (float): The input value.\n",
        "        y (float): The previous output value.\n",
        "        alpha (float): The alpha coefficient.\n",
        "        beta (float): The beta coefficient.\n",
        "        gamma (float): The gamma coefficient.\n",
        "        delta (float): The delta coefficient.\n",
        "\n",
        "    Returns:\n",
        "        float: The output value.\n",
        "    \"\"\"\n",
        "    h = dynamic_hysteresis_operator(x, y, alpha, beta, gamma)\n",
        "    if h >= delta:\n",
        "        return 1\n",
        "    elif h <= -delta:\n",
        "        return -1\n",
        "    else:\n",
        "        return y\n",
        "\n",
        "# Example usage\n",
        "x_values = [1, 2, 3, 4, 5]\n",
        "y_values = [0] * len(x_values)\n",
        "alpha = 1\n",
        "beta = 2\n",
        "gamma = 0.5\n",
        "delta = 0.5\n",
        "\n",
        "for i, x in enumerate(x_values):\n",
        "    if i > 0:\n",
        "        y_values[i] = preisach_model(x, y_values[i-1], alpha, beta, gamma, delta)\n",
        "\n",
        "print(y_values)\n"
      ],
      "metadata": {
        "colab": {
          "base_uri": "https://localhost:8080/"
        },
        "id": "7BZMzIvp3ErP",
        "outputId": "1cc7d599-183d-4c76-af5d-5ddea0bd4966"
      },
      "execution_count": null,
      "outputs": [
        {
          "output_type": "stream",
          "name": "stdout",
          "text": [
            "[0, 1, 1, 1, 1]\n"
          ]
        }
      ]
    },
    {
      "cell_type": "code",
      "source": [
        "import matplotlib.pyplot as plt\n",
        "import numpy as np\n",
        "\n",
        "# generate sample time series data\n",
        "t = np.arange(0, 10, 0.1)\n",
        "true_data = np.sin(t)\n",
        "predicted_data = np.sin(t) + np.random.normal(0, 0.1, len(t))  # add some noise to simulate predicted data\n",
        "\n",
        "# plot true data and predicted data\n",
        "plt.plot(t, true_data, label='True Data')\n",
        "plt.plot(t, predicted_data, label='Predicted Data')\n",
        "\n",
        "# set plot title and labels\n",
        "plt.title('True vs Predicted Data')\n",
        "plt.xlabel('Time')\n",
        "plt.ylabel('Value')\n",
        "\n",
        "# add legend and show plot\n",
        "plt.legend()\n",
        "plt.show()\n"
      ],
      "metadata": {
        "colab": {
          "base_uri": "https://localhost:8080/",
          "height": 295
        },
        "id": "suEKIoaE5-Gu",
        "outputId": "b7e80ed5-47b8-408a-95ff-218f8de896f8"
      },
      "execution_count": null,
      "outputs": [
        {
          "output_type": "display_data",
          "data": {
            "text/plain": [
              "<Figure size 432x288 with 1 Axes>"
            ],
            "image/png": "[encoded data removed]"
          },
          "metadata": {
            "needs_background": "light"
          }
        }
      ]
    },
    {
      "cell_type": "code",
      "source": [],
      "metadata": {
        "id": "e_9zywXF6GJt"
      },
      "execution_count": null,
      "outputs": []
    }
  ]
}